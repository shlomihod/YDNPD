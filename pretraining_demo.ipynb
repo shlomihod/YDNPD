{
 "cells": [
  {
   "cell_type": "code",
   "execution_count": 1,
   "metadata": {},
   "outputs": [],
   "source": [
    "# NOTE: this clashes with smartnoise! dunno how to deal with, but we use this opacus\n",
    "# for fttransformer, so we need to install it here\n",
    "# ! pip install opacus==1.5.2"
   ]
  },
  {
   "cell_type": "code",
   "execution_count": 2,
   "metadata": {},
   "outputs": [],
   "source": [
    "import numpy as np\n",
    "import pandas as pd\n",
    "import torch\n",
    "\n",
    "from sklearn.metrics import f1_score, accuracy_score, roc_auc_score, precision_recall_curve, classification_report\n",
    "from sklearn.model_selection import train_test_split\n",
    "from sklearn.ensemble import RandomForestClassifier\n",
    "from xgboost import XGBClassifier\n",
    "\n",
    "import ydnpd\n",
    "\n",
    "from ydnpd.datasets.loader import load_dataset, split_train_eval_datasets\n",
    "\n",
    "from ydnpd.pretraining.ft_transformer import FTTransformerModel\n",
    "from ydnpd.pretraining.utils import preprocess_acs_for_ft_transformer, preprocess_acs_for_classification, print_model_performance\n",
    "\n",
    "from pathlib import Path\n",
    "\n",
    "LLM_PATH = \"llm_datasets\"\n",
    "DATA_PATH = 'ydnpd/datasets/data'\n"
   ]
  },
  {
   "cell_type": "code",
   "execution_count": 3,
   "metadata": {},
   "outputs": [],
   "source": [
    "LLM_EXPERIMENTS = {\n",
    "    experiment_name:\n",
    "    [\n",
    "        (f\"{experiment_name}/{path.stem}\", LLM_PATH)\n",
    "        for path in Path(f\"{LLM_PATH}/{experiment_name}\").glob(\"*.csv\")\n",
    "        ]\n",
    "        for experiment_name in [\"acs\"]\n",
    "}\n",
    "\n",
    "\n",
    "EXPERIMENTS = {\n",
    "    experiment_name:\n",
    "    [\n",
    "        (f\"{experiment_name}/{path.stem}\", DATA_PATH)\n",
    "        for path in Path(f\"{DATA_PATH}/{experiment_name}\").glob(\"*.csv\")\n",
    "        ]\n",
    "        for experiment_name in [\"acs\"]\n",
    "}"
   ]
  },
  {
   "cell_type": "code",
   "execution_count": 4,
   "metadata": {},
   "outputs": [],
   "source": [
    "real_dataset, real_processed_schema, real_domain = load_dataset('acs/national', path=DATA_PATH)\n",
    "llm_dataset, llm_processed_schema, llm_domain = load_dataset(LLM_EXPERIMENTS['acs'][0][0], path=LLM_PATH)"
   ]
  },
  {
   "cell_type": "markdown",
   "metadata": {},
   "source": [
    "### Baseline, non-private"
   ]
  },
  {
   "cell_type": "code",
   "execution_count": 5,
   "metadata": {},
   "outputs": [
    {
     "name": "stdout",
     "output_type": "stream",
     "text": [
      "Base accuracy: 0.5007688759034292\n",
      "              precision    recall  f1-score   support\n",
      "\n",
      "           0       0.50      1.00      0.67      6493\n",
      "           1       0.00      0.00      0.00      6513\n",
      "\n",
      "    accuracy                           0.50     13006\n",
      "   macro avg       0.25      0.50      0.33     13006\n",
      "weighted avg       0.25      0.50      0.33     13006\n",
      "\n",
      "AUC: 0.5\n",
      "Random Forest\n"
     ]
    },
    {
     "name": "stderr",
     "output_type": "stream",
     "text": [
      "/home/ec2-user/miniconda3/envs/shlomi-yndpd/lib/python3.10/site-packages/sklearn/metrics/_classification.py:1565: UndefinedMetricWarning: Precision is ill-defined and being set to 0.0 in labels with no predicted samples. Use `zero_division` parameter to control this behavior.\n",
      "  _warn_prf(average, modifier, f\"{metric.capitalize()} is\", len(result))\n",
      "/home/ec2-user/miniconda3/envs/shlomi-yndpd/lib/python3.10/site-packages/sklearn/metrics/_classification.py:1565: UndefinedMetricWarning: Precision is ill-defined and being set to 0.0 in labels with no predicted samples. Use `zero_division` parameter to control this behavior.\n",
      "  _warn_prf(average, modifier, f\"{metric.capitalize()} is\", len(result))\n",
      "/home/ec2-user/miniconda3/envs/shlomi-yndpd/lib/python3.10/site-packages/sklearn/metrics/_classification.py:1565: UndefinedMetricWarning: Precision is ill-defined and being set to 0.0 in labels with no predicted samples. Use `zero_division` parameter to control this behavior.\n",
      "  _warn_prf(average, modifier, f\"{metric.capitalize()} is\", len(result))\n"
     ]
    },
    {
     "name": "stdout",
     "output_type": "stream",
     "text": [
      "              precision    recall  f1-score   support\n",
      "\n",
      "           0       0.66      0.67      0.66      1636\n",
      "           1       0.66      0.65      0.66      1616\n",
      "\n",
      "    accuracy                           0.66      3252\n",
      "   macro avg       0.66      0.66      0.66      3252\n",
      "weighted avg       0.66      0.66      0.66      3252\n",
      "\n",
      "AUC: 0.6592434457382169\n",
      "\n",
      "XGBoost\n",
      "              precision    recall  f1-score   support\n",
      "\n",
      "           0       0.68      0.68      0.68      1636\n",
      "           1       0.68      0.68      0.68      1616\n",
      "\n",
      "    accuracy                           0.68      3252\n",
      "   macro avg       0.68      0.68      0.68      3252\n",
      "weighted avg       0.68      0.68      0.68      3252\n",
      "\n",
      "AUC: 0.6786603706214142\n",
      "\n"
     ]
    }
   ],
   "source": [
    "real_df = preprocess_acs_for_classification(real_dataset)\n",
    "X = real_df.drop('y', axis=1)\n",
    "y = real_df['y']\n",
    "\n",
    "X_train_real, X_test_real, y_train_real, y_test_real = train_test_split(X, y, test_size=0.2)\n",
    "\n",
    "# naive classifier\n",
    "print(f\"Base accuracy: {y_train_real.sum() / len(y_train_real)}\")\n",
    "print(classification_report(y_train_real, np.zeros_like(y_train_real)))\n",
    "print('AUC:', roc_auc_score(y_train_real, np.zeros_like(y_train_real)))\n",
    "\n",
    "# random forest\n",
    "print('Random Forest')\n",
    "rf = RandomForestClassifier()\n",
    "rf.fit(X_train_real, y_train_real)\n",
    "y_pred_real = rf.predict(X_test_real)\n",
    "print(classification_report(y_test_real, y_pred_real))\n",
    "print('AUC:', roc_auc_score(y_test_real, y_pred_real))\n",
    "print()\n",
    "\n",
    "# xgboost\n",
    "print('XGBoost')\n",
    "xgb = XGBClassifier()\n",
    "xgb.fit(X_train_real, y_train_real)\n",
    "y_pred_real = xgb.predict(X_test_real)\n",
    "print(classification_report(y_test_real, y_pred_real))\n",
    "print('AUC:', roc_auc_score(y_test_real, y_pred_real))\n",
    "print()\n"
   ]
  },
  {
   "cell_type": "markdown",
   "metadata": {},
   "source": [
    "### Privacy, with FTTransformer"
   ]
  },
  {
   "cell_type": "code",
   "execution_count": 6,
   "metadata": {},
   "outputs": [
    {
     "name": "stdout",
     "output_type": "stream",
     "text": [
      "column SEX is categorical\n",
      "column MSP is categorical\n",
      "column RAC1P is categorical\n",
      "column PINCP_DECILE is categorical\n",
      "column EDU is categorical\n",
      "column HOUSING_TYPE is categorical\n",
      "{'SEX', 'EDU', 'HOUSING_TYPE', 'RAC1P', 'PINCP_DECILE', 'MSP'}\n",
      "Index(['SEX', 'MSP', 'RAC1P', 'PINCP_DECILE', 'EDU', 'HOUSING_TYPE'], dtype='object')\n",
      "[0 1]\n",
      "[4 0 5 2 3 1]\n",
      "[1 0 6 4 7 2 5 3]\n",
      "[6 7 9 2 3 0 4 8 5 1]\n",
      "[ 3  7  9  4 11  6  8  5  0  2 10  1]\n",
      "[0]\n",
      "cat training features shape: (13006, 6)\n",
      "cont training features shape: (13006, 0)\n",
      "cat val features shape: (3252, 6)\n",
      "cont val features shape: (3252, 0)\n",
      "training targets shape: (13006,)\n",
      "val targets shape: (3252,)\n",
      "cat feature cards: [2, 6, 8, 10, 12, 1]\n",
      "config: {'SEX': {'type': 'categorical'}, 'MSP': {'type': 'categorical'}, 'RAC1P': {'type': 'categorical'}, 'PINCP_DECILE': {'type': 'categorical'}, 'EDU': {'type': 'categorical'}, 'HOUSING_TYPE': {'type': 'categorical'}}\n",
      "{'SEX', 'EDU', 'HOUSING_TYPE', 'RAC1P', 'PINCP_DECILE', 'MSP'}\n",
      "Index(['SEX', 'MSP', 'RAC1P', 'PINCP_DECILE', 'EDU', 'HOUSING_TYPE'], dtype='object')\n",
      "[1 0]\n",
      "[0 3 2 5 1 4]\n",
      "[0 7 1 5 2 8 6 4 3]\n",
      "[6 3 4 5 2 9 0 8 7 1]\n",
      "[ 7  4  6  3 10  1  9  5 11  8  2  0]\n",
      "[0]\n",
      "cat training features shape: (13969, 6)\n",
      "cont training features shape: (13969, 0)\n",
      "cat val features shape: (3493, 6)\n",
      "cont val features shape: (3493, 0)\n",
      "training targets shape: (13969,)\n",
      "val targets shape: (3493,)\n",
      "cat feature cards: [2, 6, 9, 10, 12, 1]\n",
      "config: {'SEX': {'type': 'categorical'}, 'MSP': {'type': 'categorical'}, 'RAC1P': {'type': 'categorical'}, 'PINCP_DECILE': {'type': 'categorical'}, 'EDU': {'type': 'categorical'}, 'HOUSING_TYPE': {'type': 'categorical'}}\n"
     ]
    }
   ],
   "source": [
    "(\n",
    "    X_cat_train,\n",
    "    X_cont_train,\n",
    "    X_cat_valid,\n",
    "    X_cont_valid,\n",
    "    y_train,\n",
    "    y_valid,\n",
    "    cat_cardinalities,\n",
    "    config\n",
    ") = preprocess_acs_for_ft_transformer(real_dataset)\n",
    "\n",
    "(\n",
    "    X_cat_train_llm,\n",
    "    X_cont_train_llm,\n",
    "    X_cat_valid_llm,\n",
    "    X_cont_valid_llm,\n",
    "    y_train_llm,\n",
    "    y_valid_llm,\n",
    "    cat_cardinalities_llm,\n",
    "    _\n",
    ") = preprocess_acs_for_ft_transformer(llm_dataset, config=config)\n"
   ]
  },
  {
   "cell_type": "code",
   "execution_count": 7,
   "metadata": {},
   "outputs": [
    {
     "name": "stdout",
     "output_type": "stream",
     "text": [
      "tensor(False)\n",
      "tensor(False)\n",
      "tensor(False)\n"
     ]
    }
   ],
   "source": [
    "print(torch.isnan(X_cat_train).any())\n",
    "print(torch.isnan(X_cont_train).any())\n",
    "print(torch.isnan(y_train).any())"
   ]
  },
  {
   "cell_type": "markdown",
   "metadata": {},
   "source": [
    "#### Baseline, Non-private"
   ]
  },
  {
   "cell_type": "code",
   "execution_count": 8,
   "metadata": {},
   "outputs": [
    {
     "name": "stderr",
     "output_type": "stream",
     "text": [
      "epoch 1/20 loss: 0.5513: 100%|██████████| 92/92 [00:01<00:00, 56.80batch/s]\n"
     ]
    },
    {
     "name": "stdout",
     "output_type": "stream",
     "text": [
      "val loss - new best: 0.6338354349136353\n",
      "val accuracy - new best: 0.6594926979246734\n",
      "val AUC - new best: 0.6959497530741441\n",
      "epoch 1, validation loss: 0.6338354349136353, epochs without improvement: 0/10\n",
      "reached 1.\n",
      "epoch 1, val loss: 0.6338354349136353, epochs without improvement: 0/10\n",
      "val accuracy - new best: 0.6594926979246734\n",
      "val auc - new best: 0.6959497530741441\n"
     ]
    },
    {
     "name": "stderr",
     "output_type": "stream",
     "text": [
      "epoch 2/20 loss: 0.6333: 100%|██████████| 92/92 [00:01<00:00, 69.27batch/s]\n"
     ]
    },
    {
     "name": "stdout",
     "output_type": "stream",
     "text": [
      "val loss - new best: 0.6162636876106262\n",
      "val accuracy - new best: 0.6694850115295926\n",
      "val AUC - new best: 0.7212365705952262\n",
      "epoch 2, validation loss: 0.6162636876106262, epochs without improvement: 0/10\n"
     ]
    },
    {
     "name": "stderr",
     "output_type": "stream",
     "text": [
      "epoch 3/20 loss: 0.5874: 100%|██████████| 92/92 [00:01<00:00, 68.95batch/s]\n"
     ]
    },
    {
     "name": "stdout",
     "output_type": "stream",
     "text": [
      "epoch 3, validation loss: 0.6169964671134949, epochs without improvement: 1/10\n"
     ]
    },
    {
     "name": "stderr",
     "output_type": "stream",
     "text": [
      "epoch 4/20 loss: 0.5242: 100%|██████████| 92/92 [00:01<00:00, 69.09batch/s]\n"
     ]
    },
    {
     "name": "stdout",
     "output_type": "stream",
     "text": [
      "val loss - new best: 0.6151787042617798\n",
      "val accuracy - new best: 0.6641045349730976\n",
      "val AUC - new best: 0.722204860864501\n",
      "epoch 4, validation loss: 0.6151787042617798, epochs without improvement: 0/10\n"
     ]
    },
    {
     "name": "stderr",
     "output_type": "stream",
     "text": [
      "epoch 5/20 loss: 0.6598: 100%|██████████| 92/92 [00:01<00:00, 69.10batch/s]\n"
     ]
    },
    {
     "name": "stdout",
     "output_type": "stream",
     "text": [
      "val loss - new best: 0.6115995645523071\n",
      "val accuracy - new best: 0.671022290545734\n",
      "val AUC - new best: 0.7265467786000748\n",
      "epoch 5, validation loss: 0.6115995645523071, epochs without improvement: 0/10\n",
      "reached 5.\n",
      "epoch 5, val loss: 0.6115995645523071, epochs without improvement: 0/10\n",
      "val accuracy - new best: 0.671022290545734\n",
      "val auc - new best: 0.7265467786000748\n"
     ]
    },
    {
     "name": "stderr",
     "output_type": "stream",
     "text": [
      "epoch 6/20 loss: 0.6395: 100%|██████████| 92/92 [00:01<00:00, 68.97batch/s]\n"
     ]
    },
    {
     "name": "stdout",
     "output_type": "stream",
     "text": [
      "epoch 6, validation loss: 0.6127369999885559, epochs without improvement: 1/10\n"
     ]
    },
    {
     "name": "stderr",
     "output_type": "stream",
     "text": [
      "epoch 7/20 loss: 0.5975: 100%|██████████| 92/92 [00:01<00:00, 59.45batch/s]\n"
     ]
    },
    {
     "name": "stdout",
     "output_type": "stream",
     "text": [
      "val loss - new best: 0.6081558465957642\n",
      "val accuracy - new best: 0.671022290545734\n",
      "val AUC - new best: 0.7331898653863455\n",
      "epoch 7, validation loss: 0.6081558465957642, epochs without improvement: 0/10\n"
     ]
    },
    {
     "name": "stderr",
     "output_type": "stream",
     "text": [
      "epoch 8/20 loss: 0.5656: 100%|██████████| 92/92 [00:01<00:00, 68.99batch/s]\n"
     ]
    },
    {
     "name": "stdout",
     "output_type": "stream",
     "text": [
      "epoch 8, validation loss: 0.6098596453666687, epochs without improvement: 1/10\n"
     ]
    },
    {
     "name": "stderr",
     "output_type": "stream",
     "text": [
      "epoch 9/20 loss: 0.6305: 100%|██████████| 92/92 [00:01<00:00, 69.00batch/s]\n"
     ]
    },
    {
     "name": "stdout",
     "output_type": "stream",
     "text": [
      "epoch 9, validation loss: 0.6098175644874573, epochs without improvement: 2/10\n",
      "reached 9.\n",
      "epoch 9, val loss: 0.6098175644874573, epochs without improvement: 2/10\n",
      "val accuracy - new best: 0.671022290545734\n",
      "val auc - new best: 0.7331898653863455\n"
     ]
    },
    {
     "name": "stderr",
     "output_type": "stream",
     "text": [
      "epoch 10/20 loss: 0.6714: 100%|██████████| 92/92 [00:01<00:00, 69.38batch/s]\n"
     ]
    },
    {
     "name": "stdout",
     "output_type": "stream",
     "text": [
      "epoch 10, validation loss: 0.6138578653335571, epochs without improvement: 3/10\n"
     ]
    },
    {
     "name": "stderr",
     "output_type": "stream",
     "text": [
      "epoch 11/20 loss: 0.6691: 100%|██████████| 92/92 [00:01<00:00, 69.54batch/s]\n"
     ]
    },
    {
     "name": "stdout",
     "output_type": "stream",
     "text": [
      "epoch 11, validation loss: 0.6082061529159546, epochs without improvement: 4/10\n"
     ]
    },
    {
     "name": "stderr",
     "output_type": "stream",
     "text": [
      "epoch 12/20 loss: 0.5802: 100%|██████████| 92/92 [00:01<00:00, 69.54batch/s]\n"
     ]
    },
    {
     "name": "stdout",
     "output_type": "stream",
     "text": [
      "epoch 12, validation loss: 0.6099358201026917, epochs without improvement: 5/10\n"
     ]
    },
    {
     "name": "stderr",
     "output_type": "stream",
     "text": [
      "epoch 13/20 loss: 0.6265: 100%|██████████| 92/92 [00:01<00:00, 69.34batch/s]\n"
     ]
    },
    {
     "name": "stdout",
     "output_type": "stream",
     "text": [
      "epoch 13, validation loss: 0.6098206043243408, epochs without improvement: 6/10\n",
      "reached 13.\n",
      "epoch 13, val loss: 0.6098206043243408, epochs without improvement: 6/10\n",
      "val accuracy - new best: 0.671022290545734\n",
      "val auc - new best: 0.7331898653863455\n"
     ]
    },
    {
     "name": "stderr",
     "output_type": "stream",
     "text": [
      "epoch 14/20 loss: 0.6757: 100%|██████████| 92/92 [00:01<00:00, 69.49batch/s]\n"
     ]
    },
    {
     "name": "stdout",
     "output_type": "stream",
     "text": [
      "val loss - new best: 0.6078999638557434\n",
      "val accuracy - new best: 0.6910069177555727\n",
      "val AUC - new best: 0.7318569866049234\n",
      "epoch 14, validation loss: 0.6078999638557434, epochs without improvement: 0/10\n"
     ]
    },
    {
     "name": "stderr",
     "output_type": "stream",
     "text": [
      "epoch 15/20 loss: 0.6940: 100%|██████████| 92/92 [00:01<00:00, 69.35batch/s]\n"
     ]
    },
    {
     "name": "stdout",
     "output_type": "stream",
     "text": [
      "val loss - new best: 0.6073724031448364\n",
      "val accuracy - new best: 0.6810146041506533\n",
      "val AUC - new best: 0.7312722245107648\n",
      "epoch 15, validation loss: 0.6073724031448364, epochs without improvement: 0/10\n"
     ]
    },
    {
     "name": "stderr",
     "output_type": "stream",
     "text": [
      "epoch 16/20 loss: 0.5432: 100%|██████████| 92/92 [00:01<00:00, 69.48batch/s]\n"
     ]
    },
    {
     "name": "stdout",
     "output_type": "stream",
     "text": [
      "epoch 16, validation loss: 0.6075178384780884, epochs without improvement: 1/10\n"
     ]
    },
    {
     "name": "stderr",
     "output_type": "stream",
     "text": [
      "epoch 17/20 loss: 0.6156: 100%|██████████| 92/92 [00:01<00:00, 69.43batch/s]\n"
     ]
    },
    {
     "name": "stdout",
     "output_type": "stream",
     "text": [
      "epoch 17, validation loss: 0.6120955944061279, epochs without improvement: 2/10\n",
      "reached 17.\n",
      "epoch 17, val loss: 0.6120955944061279, epochs without improvement: 2/10\n",
      "val accuracy - new best: 0.6810146041506533\n",
      "val auc - new best: 0.7312722245107648\n"
     ]
    },
    {
     "name": "stderr",
     "output_type": "stream",
     "text": [
      "epoch 18/20 loss: 0.4956: 100%|██████████| 92/92 [00:01<00:00, 69.48batch/s]\n"
     ]
    },
    {
     "name": "stdout",
     "output_type": "stream",
     "text": [
      "epoch 18, validation loss: 0.6092701554298401, epochs without improvement: 3/10\n"
     ]
    },
    {
     "name": "stderr",
     "output_type": "stream",
     "text": [
      "epoch 19/20 loss: 0.5681: 100%|██████████| 92/92 [00:01<00:00, 69.41batch/s]\n"
     ]
    },
    {
     "name": "stdout",
     "output_type": "stream",
     "text": [
      "val loss - new best: 0.6073643565177917\n",
      "val accuracy - new best: 0.6756341275941583\n",
      "val AUC - new best: 0.7345937679039002\n",
      "epoch 19, validation loss: 0.6073643565177917, epochs without improvement: 0/10\n"
     ]
    },
    {
     "name": "stderr",
     "output_type": "stream",
     "text": [
      "epoch 20/20 loss: 0.6843: 100%|██████████| 92/92 [00:01<00:00, 69.38batch/s]\n"
     ]
    },
    {
     "name": "stdout",
     "output_type": "stream",
     "text": [
      "val loss - new best: 0.6069748401641846\n",
      "val accuracy - new best: 0.6833205226748655\n",
      "val AUC - new best: 0.7323091710583011\n",
      "epoch 20, validation loss: 0.6069748401641846, epochs without improvement: 0/10\n"
     ]
    }
   ],
   "source": [
    "classifier = FTTransformerModel(\n",
    "    dim = 32,\n",
    "    dim_out = 2,\n",
    "    depth = 6,\n",
    "    heads = 8,\n",
    "    attn_dropout = 0.1,\n",
    "    ff_dropout = 0.1,\n",
    "    batch_size=128,\n",
    "    num_epochs=20,\n",
    "    lr=3e-4,\n",
    "    load_best_model_when_trained=True,\n",
    "    verbose=True)\n",
    "\n",
    "classifier.fit(X_cat_train, X_cont_train, y_train.flatten(), cat_cardinalities, X_cont_train.shape[1], use_class_weights=True)"
   ]
  },
  {
   "cell_type": "code",
   "execution_count": 9,
   "metadata": {},
   "outputs": [
    {
     "name": "stdout",
     "output_type": "stream",
     "text": [
      "\n",
      "AUC: 0.7298\n",
      "Optimal Threshold: 0.3308\n",
      "              precision    recall  f1-score   support\n",
      "\n",
      "         0.0       0.75      0.43      0.55      1640\n",
      "         1.0       0.60      0.86      0.70      1612\n",
      "\n",
      "    accuracy                           0.64      3252\n",
      "   macro avg       0.68      0.64      0.63      3252\n",
      "weighted avg       0.68      0.64      0.63      3252\n",
      "\n",
      "\n"
     ]
    }
   ],
   "source": [
    "print_model_performance(classifier, X_cat_valid, X_cont_valid, y_valid)"
   ]
  },
  {
   "cell_type": "markdown",
   "metadata": {},
   "source": [
    "### Just Private, no pretraining"
   ]
  },
  {
   "cell_type": "code",
   "execution_count": null,
   "metadata": {},
   "outputs": [
    {
     "name": "stderr",
     "output_type": "stream",
     "text": [
      "/home/ec2-user/miniconda3/envs/shlomi-yndpd/lib/python3.10/site-packages/opacus/privacy_engine.py:95: UserWarning: Secure RNG turned off. This is perfectly fine for experimentation as it allows for much faster training performance, but remember to turn it on and retrain one last time before production with ``secure_mode`` turned on.\n",
      "  warnings.warn(\n",
      "/home/ec2-user/miniconda3/envs/shlomi-yndpd/lib/python3.10/site-packages/opacus/accountants/analysis/rdp.py:332: UserWarning: Optimal order is the largest alpha. Please consider expanding the range of alphas to get a tighter privacy bound.\n",
      "  warnings.warn(\n"
     ]
    },
    {
     "name": "stderr",
     "output_type": "stream",
     "text": [
      "epoch 1/20:   0%|          | 0/92 [00:00<?, ?batch/s]/home/ec2-user/miniconda3/envs/shlomi-yndpd/lib/python3.10/site-packages/torch/nn/modules/module.py:1827: FutureWarning: Using a non-full backward hook when the forward contains multiple autograd Nodes is deprecated and will be removed in future versions. This hook will be missing some grad_input. Please use register_full_backward_hook to get the documented behavior.\n",
      "  self._maybe_warn_non_full_backward_hook(args, result, grad_fn)\n",
      "epoch 1/20 loss: 0.6831: 100%|██████████| 92/92 [00:05<00:00, 16.51batch/s]\n"
     ]
    },
    {
     "name": "stdout",
     "output_type": "stream",
     "text": [
      "val loss - new best: 0.7014443874359131\n",
      "val accuracy - new best: 0.528055342044581\n",
      "val AUC - new best: 0.5418211432927551\n",
      "epoch 1, validation loss: 0.7014443874359131, epochs without improvement: 0/10\n",
      "reached 1.\n",
      "epoch 1, val loss: 0.7014443874359131, epochs without improvement: 0/10\n",
      "val accuracy - new best: 0.528055342044581\n",
      "val auc - new best: 0.5418211432927551\n"
     ]
    },
    {
     "name": "stderr",
     "output_type": "stream",
     "text": [
      "epoch 2/20:   0%|          | 0/92 [00:00<?, ?batch/s]/home/ec2-user/miniconda3/envs/shlomi-yndpd/lib/python3.10/site-packages/torch/nn/modules/module.py:1827: FutureWarning: Using a non-full backward hook when the forward contains multiple autograd Nodes is deprecated and will be removed in future versions. This hook will be missing some grad_input. Please use register_full_backward_hook to get the documented behavior.\n",
      "  self._maybe_warn_non_full_backward_hook(args, result, grad_fn)\n",
      "epoch 2/20 loss: 0.6846: 100%|██████████| 92/92 [00:05<00:00, 16.81batch/s]\n"
     ]
    },
    {
     "name": "stdout",
     "output_type": "stream",
     "text": [
      "val loss - new best: 0.697856605052948\n",
      "val accuracy - new best: 0.531129900076864\n",
      "val AUC - new best: 0.5555476640293187\n",
      "epoch 2, validation loss: 0.697856605052948, epochs without improvement: 0/10\n"
     ]
    },
    {
     "name": "stderr",
     "output_type": "stream",
     "text": [
      "epoch 3/20:   0%|          | 0/92 [00:00<?, ?batch/s]/home/ec2-user/miniconda3/envs/shlomi-yndpd/lib/python3.10/site-packages/torch/nn/modules/module.py:1827: FutureWarning: Using a non-full backward hook when the forward contains multiple autograd Nodes is deprecated and will be removed in future versions. This hook will be missing some grad_input. Please use register_full_backward_hook to get the documented behavior.\n",
      "  self._maybe_warn_non_full_backward_hook(args, result, grad_fn)\n",
      "epoch 3/20 loss: 0.6390: 100%|██████████| 92/92 [00:05<00:00, 16.68batch/s]\n"
     ]
    },
    {
     "name": "stdout",
     "output_type": "stream",
     "text": [
      "val loss - new best: 0.6829385757446289\n",
      "val accuracy - new best: 0.5757109915449654\n",
      "val AUC - new best: 0.6129111682457611\n",
      "epoch 3, validation loss: 0.6829385757446289, epochs without improvement: 0/10\n"
     ]
    },
    {
     "name": "stderr",
     "output_type": "stream",
     "text": [
      "epoch 4/20:   0%|          | 0/92 [00:00<?, ?batch/s]/home/ec2-user/miniconda3/envs/shlomi-yndpd/lib/python3.10/site-packages/torch/nn/modules/module.py:1827: FutureWarning: Using a non-full backward hook when the forward contains multiple autograd Nodes is deprecated and will be removed in future versions. This hook will be missing some grad_input. Please use register_full_backward_hook to get the documented behavior.\n",
      "  self._maybe_warn_non_full_backward_hook(args, result, grad_fn)\n",
      "epoch 4/20 loss: 0.7185: 100%|██████████| 92/92 [00:05<00:00, 16.68batch/s]\n"
     ]
    },
    {
     "name": "stdout",
     "output_type": "stream",
     "text": [
      "epoch 4, validation loss: 0.690453052520752, epochs without improvement: 1/10\n"
     ]
    },
    {
     "name": "stderr",
     "output_type": "stream",
     "text": [
      "epoch 5/20:   0%|          | 0/92 [00:00<?, ?batch/s]/home/ec2-user/miniconda3/envs/shlomi-yndpd/lib/python3.10/site-packages/torch/nn/modules/module.py:1827: FutureWarning: Using a non-full backward hook when the forward contains multiple autograd Nodes is deprecated and will be removed in future versions. This hook will be missing some grad_input. Please use register_full_backward_hook to get the documented behavior.\n",
      "  self._maybe_warn_non_full_backward_hook(args, result, grad_fn)\n",
      "epoch 5/20 loss: 0.7713: 100%|██████████| 92/92 [00:05<00:00, 16.67batch/s]\n"
     ]
    },
    {
     "name": "stdout",
     "output_type": "stream",
     "text": [
      "epoch 5, validation loss: 0.7556646466255188, epochs without improvement: 2/10\n",
      "reached 5.\n",
      "epoch 5, val loss: 0.7556646466255188, epochs without improvement: 2/10\n",
      "val accuracy - new best: 0.5757109915449654\n",
      "val auc - new best: 0.6129111682457611\n"
     ]
    },
    {
     "name": "stderr",
     "output_type": "stream",
     "text": [
      "epoch 6/20:   0%|          | 0/92 [00:00<?, ?batch/s]/home/ec2-user/miniconda3/envs/shlomi-yndpd/lib/python3.10/site-packages/torch/nn/modules/module.py:1827: FutureWarning: Using a non-full backward hook when the forward contains multiple autograd Nodes is deprecated and will be removed in future versions. This hook will be missing some grad_input. Please use register_full_backward_hook to get the documented behavior.\n",
      "  self._maybe_warn_non_full_backward_hook(args, result, grad_fn)\n",
      "epoch 6/20 loss: 0.7056: 100%|██████████| 92/92 [00:05<00:00, 16.66batch/s]\n"
     ]
    },
    {
     "name": "stdout",
     "output_type": "stream",
     "text": [
      "epoch 6, validation loss: 0.8257616758346558, epochs without improvement: 3/10\n"
     ]
    },
    {
     "name": "stderr",
     "output_type": "stream",
     "text": [
      "epoch 7/20:   0%|          | 0/92 [00:00<?, ?batch/s]/home/ec2-user/miniconda3/envs/shlomi-yndpd/lib/python3.10/site-packages/torch/nn/modules/module.py:1827: FutureWarning: Using a non-full backward hook when the forward contains multiple autograd Nodes is deprecated and will be removed in future versions. This hook will be missing some grad_input. Please use register_full_backward_hook to get the documented behavior.\n",
      "  self._maybe_warn_non_full_backward_hook(args, result, grad_fn)\n",
      "epoch 7/20 loss: 1.3008: 100%|██████████| 92/92 [00:05<00:00, 16.66batch/s]\n"
     ]
    },
    {
     "name": "stdout",
     "output_type": "stream",
     "text": [
      "epoch 7, validation loss: 0.970580518245697, epochs without improvement: 4/10\n"
     ]
    },
    {
     "name": "stderr",
     "output_type": "stream",
     "text": [
      "epoch 8/20:   0%|          | 0/92 [00:00<?, ?batch/s]/home/ec2-user/miniconda3/envs/shlomi-yndpd/lib/python3.10/site-packages/torch/nn/modules/module.py:1827: FutureWarning: Using a non-full backward hook when the forward contains multiple autograd Nodes is deprecated and will be removed in future versions. This hook will be missing some grad_input. Please use register_full_backward_hook to get the documented behavior.\n",
      "  self._maybe_warn_non_full_backward_hook(args, result, grad_fn)\n",
      "epoch 8/20 loss: 0.7504: 100%|██████████| 92/92 [00:05<00:00, 16.68batch/s]\n"
     ]
    },
    {
     "name": "stdout",
     "output_type": "stream",
     "text": [
      "epoch 8, validation loss: 0.9845970869064331, epochs without improvement: 5/10\n"
     ]
    },
    {
     "name": "stderr",
     "output_type": "stream",
     "text": [
      "epoch 9/20:   0%|          | 0/92 [00:00<?, ?batch/s]/home/ec2-user/miniconda3/envs/shlomi-yndpd/lib/python3.10/site-packages/torch/nn/modules/module.py:1827: FutureWarning: Using a non-full backward hook when the forward contains multiple autograd Nodes is deprecated and will be removed in future versions. This hook will be missing some grad_input. Please use register_full_backward_hook to get the documented behavior.\n",
      "  self._maybe_warn_non_full_backward_hook(args, result, grad_fn)\n",
      "epoch 9/20 loss: 0.9158: 100%|██████████| 92/92 [00:05<00:00, 16.65batch/s]\n"
     ]
    },
    {
     "name": "stdout",
     "output_type": "stream",
     "text": [
      "epoch 9, validation loss: 0.998762309551239, epochs without improvement: 6/10\n",
      "reached 9.\n",
      "epoch 9, val loss: 0.998762309551239, epochs without improvement: 6/10\n",
      "val accuracy - new best: 0.5757109915449654\n",
      "val auc - new best: 0.6129111682457611\n"
     ]
    },
    {
     "name": "stderr",
     "output_type": "stream",
     "text": [
      "epoch 10/20:   0%|          | 0/92 [00:00<?, ?batch/s]/home/ec2-user/miniconda3/envs/shlomi-yndpd/lib/python3.10/site-packages/torch/nn/modules/module.py:1827: FutureWarning: Using a non-full backward hook when the forward contains multiple autograd Nodes is deprecated and will be removed in future versions. This hook will be missing some grad_input. Please use register_full_backward_hook to get the documented behavior.\n",
      "  self._maybe_warn_non_full_backward_hook(args, result, grad_fn)\n",
      "epoch 10/20 loss: 0.8140: 100%|██████████| 92/92 [00:05<00:00, 16.63batch/s]\n"
     ]
    },
    {
     "name": "stdout",
     "output_type": "stream",
     "text": [
      "epoch 10, validation loss: 0.9841516613960266, epochs without improvement: 7/10\n"
     ]
    },
    {
     "name": "stderr",
     "output_type": "stream",
     "text": [
      "epoch 11/20:   0%|          | 0/92 [00:00<?, ?batch/s]/home/ec2-user/miniconda3/envs/shlomi-yndpd/lib/python3.10/site-packages/torch/nn/modules/module.py:1827: FutureWarning: Using a non-full backward hook when the forward contains multiple autograd Nodes is deprecated and will be removed in future versions. This hook will be missing some grad_input. Please use register_full_backward_hook to get the documented behavior.\n",
      "  self._maybe_warn_non_full_backward_hook(args, result, grad_fn)\n",
      "epoch 11/20 loss: 0.9677: 100%|██████████| 92/92 [00:05<00:00, 16.61batch/s]\n"
     ]
    },
    {
     "name": "stdout",
     "output_type": "stream",
     "text": [
      "epoch 11, validation loss: 0.9668220281600952, epochs without improvement: 8/10\n"
     ]
    },
    {
     "name": "stderr",
     "output_type": "stream",
     "text": [
      "epoch 12/20:   0%|          | 0/92 [00:00<?, ?batch/s]/home/ec2-user/miniconda3/envs/shlomi-yndpd/lib/python3.10/site-packages/torch/nn/modules/module.py:1827: FutureWarning: Using a non-full backward hook when the forward contains multiple autograd Nodes is deprecated and will be removed in future versions. This hook will be missing some grad_input. Please use register_full_backward_hook to get the documented behavior.\n",
      "  self._maybe_warn_non_full_backward_hook(args, result, grad_fn)\n",
      "epoch 12/20 loss: 1.0395: 100%|██████████| 92/92 [00:05<00:00, 16.65batch/s]\n"
     ]
    },
    {
     "name": "stdout",
     "output_type": "stream",
     "text": [
      "epoch 12, validation loss: 0.9981147050857544, epochs without improvement: 9/10\n"
     ]
    },
    {
     "name": "stderr",
     "output_type": "stream",
     "text": [
      "epoch 13/20:   0%|          | 0/92 [00:00<?, ?batch/s]/home/ec2-user/miniconda3/envs/shlomi-yndpd/lib/python3.10/site-packages/torch/nn/modules/module.py:1827: FutureWarning: Using a non-full backward hook when the forward contains multiple autograd Nodes is deprecated and will be removed in future versions. This hook will be missing some grad_input. Please use register_full_backward_hook to get the documented behavior.\n",
      "  self._maybe_warn_non_full_backward_hook(args, result, grad_fn)\n",
      "epoch 13/20 loss: 0.8439: 100%|██████████| 92/92 [00:05<00:00, 16.03batch/s]"
     ]
    },
    {
     "name": "stdout",
     "output_type": "stream",
     "text": [
      "epoch 13, validation loss: 0.9763025045394897, epochs without improvement: 10/10\n",
      "stopping early at epoch 13. no improvement in validation loss for 10 consecutive epochs.\n",
      "epoch 13, validation loss: 0.9763025045394897, epochs without improvement: 10/10\n",
      "val accuracy - new best: 0.5757109915449654\n",
      "val auc - new best: 0.6129111682457611\n"
     ]
    },
    {
     "name": "stderr",
     "output_type": "stream",
     "text": [
      "\n"
     ]
    }
   ],
   "source": [
    "classifier = FTTransformerModel(\n",
    "    dim = 32,\n",
    "    dim_out = 2,\n",
    "    depth = 6,\n",
    "    heads = 8,\n",
    "    attn_dropout = 0.1,\n",
    "    ff_dropout = 0.1,\n",
    "    batch_size=128,\n",
    "    num_epochs=20,\n",
    "    lr=3e-4,\n",
    "    load_best_model_when_trained=True,\n",
    "    verbose=True,\n",
    "    dp=True, # turn on privacy!\n",
    "    epsilon=1.0) # turn on privacy!\n",
    "\n",
    "classifier.fit(X_cat_train, X_cont_train, y_train.flatten(), cat_cardinalities, X_cont_train.shape[1], use_class_weights=True)"
   ]
  },
  {
   "cell_type": "code",
   "execution_count": 11,
   "metadata": {},
   "outputs": [
    {
     "name": "stdout",
     "output_type": "stream",
     "text": [
      "\n",
      "AUC: 0.6981\n",
      "Optimal Threshold: 0.0666\n",
      "              precision    recall  f1-score   support\n",
      "\n",
      "         0.0       0.72      0.51      0.60      1640\n",
      "         1.0       0.62      0.80      0.70      1612\n",
      "\n",
      "    accuracy                           0.66      3252\n",
      "   macro avg       0.67      0.66      0.65      3252\n",
      "weighted avg       0.67      0.66      0.65      3252\n",
      "\n",
      "\n"
     ]
    }
   ],
   "source": [
    "print_model_performance(classifier, X_cat_valid, X_cont_valid, y_valid)"
   ]
  },
  {
   "cell_type": "markdown",
   "metadata": {},
   "source": [
    "### With Pretraining, Private"
   ]
  },
  {
   "cell_type": "code",
   "execution_count": 12,
   "metadata": {},
   "outputs": [
    {
     "name": "stdout",
     "output_type": "stream",
     "text": [
      "X_cat_pre torch.Size([13969, 6])\n",
      "X_cont_pre torch.Size([13969, 0])\n",
      "y_pre torch.Size([13969])\n"
     ]
    },
    {
     "name": "stderr",
     "output_type": "stream",
     "text": [
      "pretraining Epoch 1/3 loss: 0.1431: 100%|██████████| 3143/3143 [00:41<00:00, 75.62batch/s]\n"
     ]
    },
    {
     "name": "stdout",
     "output_type": "stream",
     "text": [
      "pretraining val loss - new best: 0.12106065452098846\n",
      "pretraining epoch 1, validation Loss: 0.12106065452098846, epochs without improvement: 0/10\n"
     ]
    },
    {
     "name": "stderr",
     "output_type": "stream",
     "text": [
      "pretraining Epoch 2/3 loss: 0.0690: 100%|██████████| 3143/3143 [00:41<00:00, 76.09batch/s]\n"
     ]
    },
    {
     "name": "stdout",
     "output_type": "stream",
     "text": [
      "pretraining val loss - new best: 0.10496125370264053\n",
      "pretraining epoch 2, validation Loss: 0.10496125370264053, epochs without improvement: 0/10\n"
     ]
    },
    {
     "name": "stderr",
     "output_type": "stream",
     "text": [
      "pretraining Epoch 3/3 loss: 0.5438: 100%|██████████| 3143/3143 [00:41<00:00, 75.66batch/s]\n",
      "/home/ec2-user/miniconda3/envs/shlomi-yndpd/lib/python3.10/site-packages/opacus/privacy_engine.py:95: UserWarning: Secure RNG turned off. This is perfectly fine for experimentation as it allows for much faster training performance, but remember to turn it on and retrain one last time before production with ``secure_mode`` turned on.\n",
      "  warnings.warn(\n",
      "/home/ec2-user/miniconda3/envs/shlomi-yndpd/lib/python3.10/site-packages/opacus/accountants/analysis/rdp.py:332: UserWarning: Optimal order is the largest alpha. Please consider expanding the range of alphas to get a tighter privacy bound.\n",
      "  warnings.warn(\n"
     ]
    },
    {
     "name": "stdout",
     "output_type": "stream",
     "text": [
      "pretraining val loss - new best: 0.10271900147199631\n",
      "pretraining epoch 3, validation Loss: 0.10271900147199631, epochs without improvement: 0/10\n"
     ]
    },
    {
     "name": "stderr",
     "output_type": "stream",
     "text": [
      "epoch 1/20:   0%|          | 0/92 [00:00<?, ?batch/s]/home/ec2-user/miniconda3/envs/shlomi-yndpd/lib/python3.10/site-packages/torch/nn/modules/module.py:1827: FutureWarning: Using a non-full backward hook when the forward contains multiple autograd Nodes is deprecated and will be removed in future versions. This hook will be missing some grad_input. Please use register_full_backward_hook to get the documented behavior.\n",
      "  self._maybe_warn_non_full_backward_hook(args, result, grad_fn)\n",
      "epoch 1/20 loss: 1.3342: 100%|██████████| 92/92 [00:05<00:00, 16.63batch/s]\n"
     ]
    },
    {
     "name": "stdout",
     "output_type": "stream",
     "text": [
      "val loss - new best: 1.1961641311645508\n",
      "val accuracy - new best: 0.644119907763259\n",
      "val AUC - new best: 0.6864195514140825\n",
      "epoch 1, validation loss: 1.1961641311645508, epochs without improvement: 0/10\n",
      "reached 1.\n",
      "epoch 1, val loss: 1.1961641311645508, epochs without improvement: 0/10\n",
      "val accuracy - new best: 0.644119907763259\n",
      "val auc - new best: 0.6864195514140825\n"
     ]
    },
    {
     "name": "stderr",
     "output_type": "stream",
     "text": [
      "epoch 2/20:   0%|          | 0/92 [00:00<?, ?batch/s]/home/ec2-user/miniconda3/envs/shlomi-yndpd/lib/python3.10/site-packages/torch/nn/modules/module.py:1827: FutureWarning: Using a non-full backward hook when the forward contains multiple autograd Nodes is deprecated and will be removed in future versions. This hook will be missing some grad_input. Please use register_full_backward_hook to get the documented behavior.\n",
      "  self._maybe_warn_non_full_backward_hook(args, result, grad_fn)\n",
      "epoch 2/20 loss: 1.0732: 100%|██████████| 92/92 [00:05<00:00, 16.69batch/s]\n"
     ]
    },
    {
     "name": "stdout",
     "output_type": "stream",
     "text": [
      "val loss - new best: 1.090497374534607\n",
      "val accuracy - new best: 0.652574942352037\n",
      "val AUC - new best: 0.6838686155579861\n",
      "epoch 2, validation loss: 1.090497374534607, epochs without improvement: 0/10\n"
     ]
    },
    {
     "name": "stderr",
     "output_type": "stream",
     "text": [
      "epoch 3/20:   0%|          | 0/92 [00:00<?, ?batch/s]/home/ec2-user/miniconda3/envs/shlomi-yndpd/lib/python3.10/site-packages/torch/nn/modules/module.py:1827: FutureWarning: Using a non-full backward hook when the forward contains multiple autograd Nodes is deprecated and will be removed in future versions. This hook will be missing some grad_input. Please use register_full_backward_hook to get the documented behavior.\n",
      "  self._maybe_warn_non_full_backward_hook(args, result, grad_fn)\n",
      "epoch 3/20 loss: 0.8798: 100%|██████████| 92/92 [00:05<00:00, 16.68batch/s]\n"
     ]
    },
    {
     "name": "stdout",
     "output_type": "stream",
     "text": [
      "val loss - new best: 1.0249730348587036\n",
      "val accuracy - new best: 0.6502690238278247\n",
      "val AUC - new best: 0.6853198672329626\n",
      "epoch 3, validation loss: 1.0249730348587036, epochs without improvement: 0/10\n"
     ]
    },
    {
     "name": "stderr",
     "output_type": "stream",
     "text": [
      "epoch 4/20:   0%|          | 0/92 [00:00<?, ?batch/s]/home/ec2-user/miniconda3/envs/shlomi-yndpd/lib/python3.10/site-packages/torch/nn/modules/module.py:1827: FutureWarning: Using a non-full backward hook when the forward contains multiple autograd Nodes is deprecated and will be removed in future versions. This hook will be missing some grad_input. Please use register_full_backward_hook to get the documented behavior.\n",
      "  self._maybe_warn_non_full_backward_hook(args, result, grad_fn)\n",
      "epoch 4/20 loss: 1.0021: 100%|██████████| 92/92 [00:05<00:00, 16.69batch/s]\n"
     ]
    },
    {
     "name": "stdout",
     "output_type": "stream",
     "text": [
      "val loss - new best: 0.9996715784072876\n",
      "val accuracy - new best: 0.6487317448116833\n",
      "val AUC - new best: 0.6936793609757714\n",
      "epoch 4, validation loss: 0.9996715784072876, epochs without improvement: 0/10\n"
     ]
    },
    {
     "name": "stderr",
     "output_type": "stream",
     "text": [
      "epoch 5/20:   0%|          | 0/92 [00:00<?, ?batch/s]/home/ec2-user/miniconda3/envs/shlomi-yndpd/lib/python3.10/site-packages/torch/nn/modules/module.py:1827: FutureWarning: Using a non-full backward hook when the forward contains multiple autograd Nodes is deprecated and will be removed in future versions. This hook will be missing some grad_input. Please use register_full_backward_hook to get the documented behavior.\n",
      "  self._maybe_warn_non_full_backward_hook(args, result, grad_fn)\n",
      "epoch 5/20 loss: 0.8377: 100%|██████████| 92/92 [00:05<00:00, 16.68batch/s]\n"
     ]
    },
    {
     "name": "stdout",
     "output_type": "stream",
     "text": [
      "val loss - new best: 0.9988818764686584\n",
      "val accuracy - new best: 0.6518063028439662\n",
      "val AUC - new best: 0.6901163368797852\n",
      "epoch 5, validation loss: 0.9988818764686584, epochs without improvement: 0/10\n",
      "reached 5.\n",
      "epoch 5, val loss: 0.9988818764686584, epochs without improvement: 0/10\n",
      "val accuracy - new best: 0.6518063028439662\n",
      "val auc - new best: 0.6901163368797852\n"
     ]
    },
    {
     "name": "stderr",
     "output_type": "stream",
     "text": [
      "epoch 6/20:   0%|          | 0/92 [00:00<?, ?batch/s]/home/ec2-user/miniconda3/envs/shlomi-yndpd/lib/python3.10/site-packages/torch/nn/modules/module.py:1827: FutureWarning: Using a non-full backward hook when the forward contains multiple autograd Nodes is deprecated and will be removed in future versions. This hook will be missing some grad_input. Please use register_full_backward_hook to get the documented behavior.\n",
      "  self._maybe_warn_non_full_backward_hook(args, result, grad_fn)\n",
      "epoch 6/20 loss: 0.9448: 100%|██████████| 92/92 [00:05<00:00, 16.69batch/s]\n"
     ]
    },
    {
     "name": "stdout",
     "output_type": "stream",
     "text": [
      "val loss - new best: 0.9882392287254333\n",
      "val accuracy - new best: 0.6464258262874711\n",
      "val AUC - new best: 0.6950513028120664\n",
      "epoch 6, validation loss: 0.9882392287254333, epochs without improvement: 0/10\n"
     ]
    },
    {
     "name": "stderr",
     "output_type": "stream",
     "text": [
      "epoch 7/20:   0%|          | 0/92 [00:00<?, ?batch/s]/home/ec2-user/miniconda3/envs/shlomi-yndpd/lib/python3.10/site-packages/torch/nn/modules/module.py:1827: FutureWarning: Using a non-full backward hook when the forward contains multiple autograd Nodes is deprecated and will be removed in future versions. This hook will be missing some grad_input. Please use register_full_backward_hook to get the documented behavior.\n",
      "  self._maybe_warn_non_full_backward_hook(args, result, grad_fn)\n",
      "epoch 7/20 loss: 1.0647: 100%|██████████| 92/92 [00:05<00:00, 16.69batch/s]\n"
     ]
    },
    {
     "name": "stdout",
     "output_type": "stream",
     "text": [
      "val loss - new best: 0.964897871017456\n",
      "val accuracy - new best: 0.6487317448116833\n",
      "val AUC - new best: 0.6986273479263436\n",
      "epoch 7, validation loss: 0.964897871017456, epochs without improvement: 0/10\n"
     ]
    },
    {
     "name": "stderr",
     "output_type": "stream",
     "text": [
      "epoch 8/20:   0%|          | 0/92 [00:00<?, ?batch/s]/home/ec2-user/miniconda3/envs/shlomi-yndpd/lib/python3.10/site-packages/torch/nn/modules/module.py:1827: FutureWarning: Using a non-full backward hook when the forward contains multiple autograd Nodes is deprecated and will be removed in future versions. This hook will be missing some grad_input. Please use register_full_backward_hook to get the documented behavior.\n",
      "  self._maybe_warn_non_full_backward_hook(args, result, grad_fn)\n",
      "epoch 8/20 loss: 0.9866: 100%|██████████| 92/92 [00:05<00:00, 16.69batch/s]\n"
     ]
    },
    {
     "name": "stdout",
     "output_type": "stream",
     "text": [
      "epoch 8, validation loss: 0.9671794772148132, epochs without improvement: 1/10\n"
     ]
    },
    {
     "name": "stderr",
     "output_type": "stream",
     "text": [
      "epoch 9/20:   0%|          | 0/92 [00:00<?, ?batch/s]/home/ec2-user/miniconda3/envs/shlomi-yndpd/lib/python3.10/site-packages/torch/nn/modules/module.py:1827: FutureWarning: Using a non-full backward hook when the forward contains multiple autograd Nodes is deprecated and will be removed in future versions. This hook will be missing some grad_input. Please use register_full_backward_hook to get the documented behavior.\n",
      "  self._maybe_warn_non_full_backward_hook(args, result, grad_fn)\n",
      "epoch 9/20 loss: 0.7656: 100%|██████████| 92/92 [00:05<00:00, 16.68batch/s]\n"
     ]
    },
    {
     "name": "stdout",
     "output_type": "stream",
     "text": [
      "val loss - new best: 0.9593520760536194\n",
      "val accuracy - new best: 0.6487317448116833\n",
      "val AUC - new best: 0.698717311325445\n",
      "epoch 9, validation loss: 0.9593520760536194, epochs without improvement: 0/10\n",
      "reached 9.\n",
      "epoch 9, val loss: 0.9593520760536194, epochs without improvement: 0/10\n",
      "val accuracy - new best: 0.6487317448116833\n",
      "val auc - new best: 0.698717311325445\n"
     ]
    },
    {
     "name": "stderr",
     "output_type": "stream",
     "text": [
      "epoch 10/20:   0%|          | 0/92 [00:00<?, ?batch/s]/home/ec2-user/miniconda3/envs/shlomi-yndpd/lib/python3.10/site-packages/torch/nn/modules/module.py:1827: FutureWarning: Using a non-full backward hook when the forward contains multiple autograd Nodes is deprecated and will be removed in future versions. This hook will be missing some grad_input. Please use register_full_backward_hook to get the documented behavior.\n",
      "  self._maybe_warn_non_full_backward_hook(args, result, grad_fn)\n",
      "epoch 10/20 loss: 0.8632: 100%|██████████| 92/92 [00:05<00:00, 16.67batch/s]\n"
     ]
    },
    {
     "name": "stdout",
     "output_type": "stream",
     "text": [
      "epoch 10, validation loss: 0.9732196927070618, epochs without improvement: 1/10\n"
     ]
    },
    {
     "name": "stderr",
     "output_type": "stream",
     "text": [
      "epoch 11/20:   0%|          | 0/92 [00:00<?, ?batch/s]/home/ec2-user/miniconda3/envs/shlomi-yndpd/lib/python3.10/site-packages/torch/nn/modules/module.py:1827: FutureWarning: Using a non-full backward hook when the forward contains multiple autograd Nodes is deprecated and will be removed in future versions. This hook will be missing some grad_input. Please use register_full_backward_hook to get the documented behavior.\n",
      "  self._maybe_warn_non_full_backward_hook(args, result, grad_fn)\n",
      "epoch 11/20 loss: 1.0922: 100%|██████████| 92/92 [00:05<00:00, 16.69batch/s]\n"
     ]
    },
    {
     "name": "stdout",
     "output_type": "stream",
     "text": [
      "epoch 11, validation loss: 0.97207111120224, epochs without improvement: 2/10\n"
     ]
    },
    {
     "name": "stderr",
     "output_type": "stream",
     "text": [
      "epoch 12/20:   0%|          | 0/92 [00:00<?, ?batch/s]/home/ec2-user/miniconda3/envs/shlomi-yndpd/lib/python3.10/site-packages/torch/nn/modules/module.py:1827: FutureWarning: Using a non-full backward hook when the forward contains multiple autograd Nodes is deprecated and will be removed in future versions. This hook will be missing some grad_input. Please use register_full_backward_hook to get the documented behavior.\n",
      "  self._maybe_warn_non_full_backward_hook(args, result, grad_fn)\n",
      "epoch 12/20 loss: 0.9565: 100%|██████████| 92/92 [00:05<00:00, 16.75batch/s]\n"
     ]
    },
    {
     "name": "stdout",
     "output_type": "stream",
     "text": [
      "val loss - new best: 0.9540778398513794\n",
      "val accuracy - new best: 0.6510376633358954\n",
      "val AUC - new best: 0.6999389195869261\n",
      "epoch 12, validation loss: 0.9540778398513794, epochs without improvement: 0/10\n"
     ]
    },
    {
     "name": "stderr",
     "output_type": "stream",
     "text": [
      "epoch 13/20:   0%|          | 0/92 [00:00<?, ?batch/s]/home/ec2-user/miniconda3/envs/shlomi-yndpd/lib/python3.10/site-packages/torch/nn/modules/module.py:1827: FutureWarning: Using a non-full backward hook when the forward contains multiple autograd Nodes is deprecated and will be removed in future versions. This hook will be missing some grad_input. Please use register_full_backward_hook to get the documented behavior.\n",
      "  self._maybe_warn_non_full_backward_hook(args, result, grad_fn)\n",
      "epoch 13/20 loss: 0.9866: 100%|██████████| 92/92 [00:05<00:00, 16.85batch/s]\n"
     ]
    },
    {
     "name": "stdout",
     "output_type": "stream",
     "text": [
      "epoch 13, validation loss: 0.9662309288978577, epochs without improvement: 1/10\n",
      "reached 13.\n",
      "epoch 13, val loss: 0.9662309288978577, epochs without improvement: 1/10\n",
      "val accuracy - new best: 0.6510376633358954\n",
      "val auc - new best: 0.6999389195869261\n"
     ]
    },
    {
     "name": "stderr",
     "output_type": "stream",
     "text": [
      "epoch 14/20:   0%|          | 0/92 [00:00<?, ?batch/s]/home/ec2-user/miniconda3/envs/shlomi-yndpd/lib/python3.10/site-packages/torch/nn/modules/module.py:1827: FutureWarning: Using a non-full backward hook when the forward contains multiple autograd Nodes is deprecated and will be removed in future versions. This hook will be missing some grad_input. Please use register_full_backward_hook to get the documented behavior.\n",
      "  self._maybe_warn_non_full_backward_hook(args, result, grad_fn)\n",
      "epoch 14/20 loss: 1.0169: 100%|██████████| 92/92 [00:05<00:00, 16.86batch/s]\n"
     ]
    },
    {
     "name": "stdout",
     "output_type": "stream",
     "text": [
      "epoch 14, validation loss: 0.9671354293823242, epochs without improvement: 2/10\n"
     ]
    },
    {
     "name": "stderr",
     "output_type": "stream",
     "text": [
      "epoch 15/20:   0%|          | 0/92 [00:00<?, ?batch/s]/home/ec2-user/miniconda3/envs/shlomi-yndpd/lib/python3.10/site-packages/torch/nn/modules/module.py:1827: FutureWarning: Using a non-full backward hook when the forward contains multiple autograd Nodes is deprecated and will be removed in future versions. This hook will be missing some grad_input. Please use register_full_backward_hook to get the documented behavior.\n",
      "  self._maybe_warn_non_full_backward_hook(args, result, grad_fn)\n",
      "epoch 15/20 loss: 1.0183: 100%|██████████| 92/92 [00:05<00:00, 16.80batch/s]\n"
     ]
    },
    {
     "name": "stdout",
     "output_type": "stream",
     "text": [
      "val loss - new best: 0.951413094997406\n",
      "val accuracy - new best: 0.6518063028439662\n",
      "val AUC - new best: 0.6980757302423803\n",
      "epoch 15, validation loss: 0.951413094997406, epochs without improvement: 0/10\n"
     ]
    },
    {
     "name": "stderr",
     "output_type": "stream",
     "text": [
      "epoch 16/20:   0%|          | 0/92 [00:00<?, ?batch/s]/home/ec2-user/miniconda3/envs/shlomi-yndpd/lib/python3.10/site-packages/torch/nn/modules/module.py:1827: FutureWarning: Using a non-full backward hook when the forward contains multiple autograd Nodes is deprecated and will be removed in future versions. This hook will be missing some grad_input. Please use register_full_backward_hook to get the documented behavior.\n",
      "  self._maybe_warn_non_full_backward_hook(args, result, grad_fn)\n",
      "epoch 16/20 loss: 0.8443: 100%|██████████| 92/92 [00:05<00:00, 16.86batch/s]\n"
     ]
    },
    {
     "name": "stdout",
     "output_type": "stream",
     "text": [
      "epoch 16, validation loss: 0.9523166418075562, epochs without improvement: 1/10\n"
     ]
    },
    {
     "name": "stderr",
     "output_type": "stream",
     "text": [
      "epoch 17/20:   0%|          | 0/92 [00:00<?, ?batch/s]/home/ec2-user/miniconda3/envs/shlomi-yndpd/lib/python3.10/site-packages/torch/nn/modules/module.py:1827: FutureWarning: Using a non-full backward hook when the forward contains multiple autograd Nodes is deprecated and will be removed in future versions. This hook will be missing some grad_input. Please use register_full_backward_hook to get the documented behavior.\n",
      "  self._maybe_warn_non_full_backward_hook(args, result, grad_fn)\n",
      "epoch 17/20 loss: 0.7943: 100%|██████████| 92/92 [00:05<00:00, 16.85batch/s]\n"
     ]
    },
    {
     "name": "stdout",
     "output_type": "stream",
     "text": [
      "epoch 17, validation loss: 0.9548022747039795, epochs without improvement: 2/10\n",
      "reached 17.\n",
      "epoch 17, val loss: 0.9548022747039795, epochs without improvement: 2/10\n",
      "val accuracy - new best: 0.6518063028439662\n",
      "val auc - new best: 0.6980757302423803\n"
     ]
    },
    {
     "name": "stderr",
     "output_type": "stream",
     "text": [
      "epoch 18/20:   0%|          | 0/92 [00:00<?, ?batch/s]/home/ec2-user/miniconda3/envs/shlomi-yndpd/lib/python3.10/site-packages/torch/nn/modules/module.py:1827: FutureWarning: Using a non-full backward hook when the forward contains multiple autograd Nodes is deprecated and will be removed in future versions. This hook will be missing some grad_input. Please use register_full_backward_hook to get the documented behavior.\n",
      "  self._maybe_warn_non_full_backward_hook(args, result, grad_fn)\n",
      "epoch 18/20 loss: 0.9156: 100%|██████████| 92/92 [00:05<00:00, 16.85batch/s]\n"
     ]
    },
    {
     "name": "stdout",
     "output_type": "stream",
     "text": [
      "epoch 18, validation loss: 0.9561578035354614, epochs without improvement: 3/10\n"
     ]
    },
    {
     "name": "stderr",
     "output_type": "stream",
     "text": [
      "epoch 19/20:   0%|          | 0/92 [00:00<?, ?batch/s]/home/ec2-user/miniconda3/envs/shlomi-yndpd/lib/python3.10/site-packages/torch/nn/modules/module.py:1827: FutureWarning: Using a non-full backward hook when the forward contains multiple autograd Nodes is deprecated and will be removed in future versions. This hook will be missing some grad_input. Please use register_full_backward_hook to get the documented behavior.\n",
      "  self._maybe_warn_non_full_backward_hook(args, result, grad_fn)\n",
      "epoch 19/20 loss: 0.8297: 100%|██████████| 92/92 [00:05<00:00, 16.87batch/s]\n"
     ]
    },
    {
     "name": "stdout",
     "output_type": "stream",
     "text": [
      "val loss - new best: 0.944879412651062\n",
      "val accuracy - new best: 0.649500384319754\n",
      "val AUC - new best: 0.705452728968688\n",
      "epoch 19, validation loss: 0.944879412651062, epochs without improvement: 0/10\n"
     ]
    },
    {
     "name": "stderr",
     "output_type": "stream",
     "text": [
      "epoch 20/20:   0%|          | 0/92 [00:00<?, ?batch/s]/home/ec2-user/miniconda3/envs/shlomi-yndpd/lib/python3.10/site-packages/torch/nn/modules/module.py:1827: FutureWarning: Using a non-full backward hook when the forward contains multiple autograd Nodes is deprecated and will be removed in future versions. This hook will be missing some grad_input. Please use register_full_backward_hook to get the documented behavior.\n",
      "  self._maybe_warn_non_full_backward_hook(args, result, grad_fn)\n",
      "epoch 20/20 loss: 0.9395: 100%|██████████| 92/92 [00:05<00:00, 16.87batch/s]"
     ]
    },
    {
     "name": "stdout",
     "output_type": "stream",
     "text": [
      "epoch 20, validation loss: 0.9521337151527405, epochs without improvement: 1/10\n"
     ]
    },
    {
     "name": "stderr",
     "output_type": "stream",
     "text": [
      "\n"
     ]
    }
   ],
   "source": [
    "classifier = FTTransformerModel(\n",
    "    dim = 32,\n",
    "    dim_out = 2,\n",
    "    depth = 6,\n",
    "    heads = 8,\n",
    "    attn_dropout = 0.1,\n",
    "    ff_dropout = 0.1,\n",
    "    batch_size=128,\n",
    "    num_epochs=20,\n",
    "    lr=3e-4,\n",
    "    load_best_model_when_trained=True,\n",
    "    verbose=True,\n",
    "    epsilon=3.0,\n",
    "    partial_dp=True,\n",
    "    partial_pretrain_config={\n",
    "        'X_cat_pre': X_cat_train_llm,\n",
    "        'X_cont_pre': X_cont_train_llm,\n",
    "        'y_pre': y_train_llm,\n",
    "        'categories': cat_cardinalities,\n",
    "        'num_continuous': X_cont_train_llm.shape[1],\n",
    "        'pre_epochs': 3,\n",
    "        'pre_batch_size': 4,\n",
    "        'pre_lr': 3e-4,\n",
    "    }\n",
    ")\n",
    "\n",
    "classifier.fit(X_cat_train, X_cont_train, y_train.flatten(), cat_cardinalities, X_cont_train.shape[1])"
   ]
  },
  {
   "cell_type": "code",
   "execution_count": 13,
   "metadata": {},
   "outputs": [
    {
     "name": "stdout",
     "output_type": "stream",
     "text": [
      "\n",
      "AUC: 0.7072\n",
      "Optimal Threshold: 0.0711\n",
      "              precision    recall  f1-score   support\n",
      "\n",
      "         0.0       0.74      0.40      0.52      1640\n",
      "         1.0       0.58      0.86      0.69      1612\n",
      "\n",
      "    accuracy                           0.63      3252\n",
      "   macro avg       0.66      0.63      0.61      3252\n",
      "weighted avg       0.66      0.63      0.60      3252\n",
      "\n",
      "\n"
     ]
    }
   ],
   "source": [
    "print_model_performance(classifier, X_cat_valid, X_cont_valid, y_valid)"
   ]
  },
  {
   "cell_type": "code",
   "execution_count": null,
   "metadata": {},
   "outputs": [],
   "source": []
  }
 ],
 "metadata": {
  "kernelspec": {
   "display_name": "shlomi-yndpd",
   "language": "python",
   "name": "shlomi-yndpd"
  },
  "language_info": {
   "codemirror_mode": {
    "name": "ipython",
    "version": 3
   },
   "file_extension": ".py",
   "mimetype": "text/x-python",
   "name": "python",
   "nbconvert_exporter": "python",
   "pygments_lexer": "ipython3",
   "version": "3.10.16"
  }
 },
 "nbformat": 4,
 "nbformat_minor": 2
}
