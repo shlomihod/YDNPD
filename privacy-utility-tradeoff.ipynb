{
 "cells": [
  {
   "cell_type": "code",
   "execution_count": null,
   "metadata": {},
   "outputs": [],
   "source": [
    "# TODO: create a pyproject.toml file and use poetry to install dependencies\n",
    "%pip install -qqq --upgrade pip setuptools wheel\n",
    "%pip install -qqq --upgrade numpy pandas seaborn tqdm sdnist\n",
    "%pip install -qqq --upgrade smartnoise-synth # sdv synthcity\n",
    "%pip install -qqq --upgrade git+https://github.com/ryan112358/private-pgm.git disjoint_set"
   ]
  },
  {
   "cell_type": "code",
   "execution_count": null,
   "metadata": {},
   "outputs": [],
   "source": [
    "import warnings\n",
    "import itertools as it\n",
    "\n",
    "import numpy as np\n",
    "import pandas as pd\n",
    "import seaborn as sns\n",
    "from tqdm import tqdm\n",
    "\n",
    "from pipeline import load_generate_evaluate\n",
    "\n",
    "warnings.filterwarnings(\"ignore\")"
   ]
  },
  {
   "cell_type": "code",
   "execution_count": null,
   "metadata": {},
   "outputs": [],
   "source": [
    "DATASET_NAMES = [\"baseline_domain\", \"baseline_univariate\",\n",
    "                 \"ma2019\", \"tx2019\", \"national2019\"]\n",
    "\n",
    "# SDV: GaussianCopula, CTGAN, TVAE, CopulaGAN\n",
    "# SmartNoise: \"aim\", \"mwem\", \"mst\", \"pacsynth\", \"dpctgan\", \"patectgan\"\n",
    "# synthcity: 'dpgan', 'privbayes', 'adsgan', 'decaf', 'pategan', 'AIM'\n",
    "MODEL_NAMES = [\"mst\", \"aim\"] # \"aim\", \"mwem\", \"mst\", \"privbayes\"\n",
    "\n",
    "EPSILONS = [1, 10, 100]\n",
    "\n",
    "configurations = list(it.product(DATASET_NAMES, MODEL_NAMES, EPSILONS))\n",
    "\n",
    "reports = [{\"dataset\": dataset_name,\n",
    "            \"model\": model_name,\n",
    "            \"epsilon\": epsilon,\n",
    "            \"report\": load_generate_evaluate(dataset_name, \"demographic\",\n",
    "                                             model_name, epsilon,\n",
    "                                             show_report=False)\n",
    "            } for dataset_name, model_name, epsilon in tqdm(configurations)]        "
   ]
  },
  {
   "cell_type": "code",
   "execution_count": null,
   "metadata": {},
   "outputs": [],
   "source": [
    "def l1_corr(report):\n",
    "\n",
    "    corr = pd.read_csv(report.output_directory /\n",
    "                report.data[\"Correlations\"]\n",
    "                [\"pearson correlation difference\"]\n",
    "                [\"correlation_difference\"],\n",
    "                index_col=0)\n",
    "\n",
    "    return np.triu(corr.abs()).sum()\n",
    "\n",
    "\n",
    "reports_df = pd.DataFrame(reports)\n",
    "reports_df[\"k_marginal_score\"] = (reports[\"report\"]\n",
    "                                  .apply(lambda x: x.data[\"k_marginal\"][\"k_marginal_synopsys\"][\"k_marginal_score\"])\n",
    ")\n",
    "reports_df[\"k_marginal_score\"] = reports[\"report\"].apply(l1_corr)\n",
    "\n",
    "reports_df.to_pickle(\"../results/reports.pkl\")"
   ]
  },
  {
   "cell_type": "code",
   "execution_count": null,
   "metadata": {},
   "outputs": [],
   "source": [
    "def plot_utility_pivacy_tradeoff(reports_df, metric):\n",
    "    g = sns.relplot(data=reports_df,\n",
    "                    x=\"epsilon\", y=metric,\n",
    "                    hue=\"dataset\", col=\"model\",\n",
    "                    kind=\"line\")\n",
    "    g.set(xscale=\"log\")\n",
    "    return g"
   ]
  },
  {
   "cell_type": "code",
   "execution_count": null,
   "metadata": {},
   "outputs": [],
   "source": [
    "plot_utility_pivacy_tradeoff(reports_df, \"k_marginal_score\");"
   ]
  },
  {
   "cell_type": "code",
   "execution_count": null,
   "metadata": {},
   "outputs": [],
   "source": [
    "plot_utility_pivacy_tradeoff(reports_df, \"k_marginal_score\");"
   ]
  }
 ],
 "metadata": {
  "kernelspec": {
   "display_name": "sdnist",
   "language": "python",
   "name": "python3"
  },
  "language_info": {
   "codemirror_mode": {
    "name": "ipython",
    "version": 3
   },
   "file_extension": ".py",
   "mimetype": "text/x-python",
   "name": "python",
   "nbconvert_exporter": "python",
   "pygments_lexer": "ipython3",
   "version": "3.10.14"
  }
 },
 "nbformat": 4,
 "nbformat_minor": 2
}
