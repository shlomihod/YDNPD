{
 "cells": [
  {
   "cell_type": "code",
   "execution_count": 1,
   "metadata": {},
   "outputs": [
    {
     "name": "stderr",
     "output_type": "stream",
     "text": [
      "OMP: Info #276: omp_set_nested routine deprecated, please use omp_set_max_active_levels instead.\n"
     ]
    }
   ],
   "source": [
    "import wandb\n",
    "\n",
    "from ydnpd.pretraining.sweep import get_sweep_config\n",
    "from ydnpd import ALL_EXPERIMENTS\n",
    "from additional import ADDITIONAL_EXPERIMENTS"
   ]
  },
  {
   "cell_type": "code",
   "execution_count": 2,
   "metadata": {},
   "outputs": [
    {
     "data": {
      "text/plain": [
       "{'method': 'grid',\n",
       " 'metric': {'goal': 'maximize', 'name': 'dp/private.test/auc'},\n",
       " 'parameters': {'dp_num_epochs': {'value': 20},\n",
       "  'dp_batch_size': {'value': 128},\n",
       "  'dp_lr': {'values': [0.003, 0.0003]},\n",
       "  'epsilon': {'values': [1, 2, 4, 8, 16]},\n",
       "  'private_data_pointer': {'value': 'we/2023'},\n",
       "  'pre_num_epochs': {'values': [1, 9]},\n",
       "  'pre_batch_size': {'values': [32, 128]},\n",
       "  'pre_lr': {'values': [0.0003, 3e-05]},\n",
       "  'public_data_pointer': {'values': ['we/2018',\n",
       "    'we/baseline_univariate',\n",
       "    'we/baseline_domain',\n",
       "    'we/arbitrary',\n",
       "    ('we/gen-MIX-MAX', 'llm_datasets'),\n",
       "    ('we/csv-gpt', 'llm_datasets'),\n",
       "    ('we/gen-gpt-MIX-MAX', 'llm_datasets'),\n",
       "    ('we/sdscm-gpt2', 'llm_datasets'),\n",
       "    ('we/gen-llama-MIX-MAX', 'llm_datasets'),\n",
       "    ('we/sdscm-olmo-1b-hf', 'llm_datasets'),\n",
       "    ('we/gen-gpt-MIX-UNIF', 'llm_datasets'),\n",
       "    ('we/gen-claude-MIX-MAX', 'llm_datasets'),\n",
       "    ('we/csv-claude', 'llm_datasets'),\n",
       "    ('we/gen-claude-MIX-UNIF', 'llm_datasets'),\n",
       "    ('we/gen-MIX-UNIF', 'llm_datasets'),\n",
       "    ('we/gen-llama-MIX-UNIF', 'llm_datasets'),\n",
       "    ('we/sdscm-llama-3-8b', 'llm_datasets'),\n",
       "    ('we/csv-llama', 'llm_datasets')]}}}"
      ]
     },
     "execution_count": 2,
     "metadata": {},
     "output_type": "execute_result"
    }
   ],
   "source": [
    "DATASET_FAMILY = \"we\"\n",
    "\n",
    "core_public_dataaset_pointers = [name for name in ALL_EXPERIMENTS[DATASET_FAMILY].dev_names\n",
    "                                if name != ALL_EXPERIMENTS[DATASET_FAMILY].test_name]\n",
    "\n",
    "additional_public_dataaset_pointers = [x for x in ADDITIONAL_EXPERIMENTS[DATASET_FAMILY]]\n",
    "#                                       if \"gen-llama\" not in x[0] and \"sdscm-llama\" not in x[0]]\n",
    "\n",
    "swee_config = get_sweep_config(DATASET_FAMILY, \n",
    "                               core_public_dataaset_pointers\n",
    "                               + additional_public_dataaset_pointers\n",
    "                               )\n",
    "\n",
    "swee_config\n"
   ]
  },
  {
   "cell_type": "code",
   "execution_count": 3,
   "metadata": {},
   "outputs": [
    {
     "name": "stdout",
     "output_type": "stream",
     "text": [
      "Create sweep with ID: n8vtr55n\n",
      "Sweep URL: https://wandb.ai/shlomihod/ydnpd-dp-ft/sweeps/n8vtr55n\n"
     ]
    }
   ],
   "source": [
    "sweep_id = wandb.sweep(swee_config, project=\"ydnpd-dp-ft\")"
   ]
  }
 ],
 "metadata": {
  "kernelspec": {
   "display_name": "ydnpd-ft",
   "language": "python",
   "name": "python3"
  },
  "language_info": {
   "codemirror_mode": {
    "name": "ipython",
    "version": 3
   },
   "file_extension": ".py",
   "mimetype": "text/x-python",
   "name": "python",
   "nbconvert_exporter": "python",
   "pygments_lexer": "ipython3",
   "version": "3.10.16"
  }
 },
 "nbformat": 4,
 "nbformat_minor": 2
}
