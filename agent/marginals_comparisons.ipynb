{
 "cells": [
  {
   "cell_type": "code",
   "execution_count": 2,
   "metadata": {},
   "outputs": [
    {
     "name": "stdout",
     "output_type": "stream",
     "text": [
      "avg 2-way marginal diff: 0.9462548600154111\n",
      "avg 3-way marginal diff: 0.9978204234396213\n"
     ]
    },
    {
     "name": "stderr",
     "output_type": "stream",
     "text": [
      "/var/folders/qj/gh_j11514m37mqtfrlr885k40000gn/T/ipykernel_21557/12603997.py:18: RuntimeWarning: The values in the array are unorderable. Pass `sort=False` to suppress this warning.\n",
      "  original_marginal, generated_marginal = original_marginal.align(generated_marginal, fill_value=0)\n",
      "/var/folders/qj/gh_j11514m37mqtfrlr885k40000gn/T/ipykernel_21557/12603997.py:18: RuntimeWarning: The values in the array are unorderable. Pass `sort=False` to suppress this warning.\n",
      "  original_marginal, generated_marginal = original_marginal.align(generated_marginal, fill_value=0)\n",
      "/var/folders/qj/gh_j11514m37mqtfrlr885k40000gn/T/ipykernel_21557/12603997.py:18: RuntimeWarning: The values in the array are unorderable. Pass `sort=False` to suppress this warning.\n",
      "  original_marginal, generated_marginal = original_marginal.align(generated_marginal, fill_value=0)\n",
      "/var/folders/qj/gh_j11514m37mqtfrlr885k40000gn/T/ipykernel_21557/12603997.py:18: RuntimeWarning: The values in the array are unorderable. Pass `sort=False` to suppress this warning.\n",
      "  original_marginal, generated_marginal = original_marginal.align(generated_marginal, fill_value=0)\n",
      "/var/folders/qj/gh_j11514m37mqtfrlr885k40000gn/T/ipykernel_21557/12603997.py:18: RuntimeWarning: The values in the array are unorderable. Pass `sort=False` to suppress this warning.\n",
      "  original_marginal, generated_marginal = original_marginal.align(generated_marginal, fill_value=0)\n",
      "/var/folders/qj/gh_j11514m37mqtfrlr885k40000gn/T/ipykernel_21557/12603997.py:18: RuntimeWarning: The values in the array are unorderable. Pass `sort=False` to suppress this warning.\n",
      "  original_marginal, generated_marginal = original_marginal.align(generated_marginal, fill_value=0)\n",
      "/var/folders/qj/gh_j11514m37mqtfrlr885k40000gn/T/ipykernel_21557/12603997.py:18: RuntimeWarning: The values in the array are unorderable. Pass `sort=False` to suppress this warning.\n",
      "  original_marginal, generated_marginal = original_marginal.align(generated_marginal, fill_value=0)\n",
      "/var/folders/qj/gh_j11514m37mqtfrlr885k40000gn/T/ipykernel_21557/12603997.py:18: RuntimeWarning: The values in the array are unorderable. Pass `sort=False` to suppress this warning.\n",
      "  original_marginal, generated_marginal = original_marginal.align(generated_marginal, fill_value=0)\n",
      "/var/folders/qj/gh_j11514m37mqtfrlr885k40000gn/T/ipykernel_21557/12603997.py:18: RuntimeWarning: The values in the array are unorderable. Pass `sort=False` to suppress this warning.\n",
      "  original_marginal, generated_marginal = original_marginal.align(generated_marginal, fill_value=0)\n",
      "/var/folders/qj/gh_j11514m37mqtfrlr885k40000gn/T/ipykernel_21557/12603997.py:18: RuntimeWarning: The values in the array are unorderable. Pass `sort=False` to suppress this warning.\n",
      "  original_marginal, generated_marginal = original_marginal.align(generated_marginal, fill_value=0)\n",
      "/var/folders/qj/gh_j11514m37mqtfrlr885k40000gn/T/ipykernel_21557/12603997.py:18: RuntimeWarning: The values in the array are unorderable. Pass `sort=False` to suppress this warning.\n",
      "  original_marginal, generated_marginal = original_marginal.align(generated_marginal, fill_value=0)\n",
      "/var/folders/qj/gh_j11514m37mqtfrlr885k40000gn/T/ipykernel_21557/12603997.py:18: RuntimeWarning: The values in the array are unorderable. Pass `sort=False` to suppress this warning.\n",
      "  original_marginal, generated_marginal = original_marginal.align(generated_marginal, fill_value=0)\n",
      "/var/folders/qj/gh_j11514m37mqtfrlr885k40000gn/T/ipykernel_21557/12603997.py:18: RuntimeWarning: The values in the array are unorderable. Pass `sort=False` to suppress this warning.\n",
      "  original_marginal, generated_marginal = original_marginal.align(generated_marginal, fill_value=0)\n",
      "/var/folders/qj/gh_j11514m37mqtfrlr885k40000gn/T/ipykernel_21557/12603997.py:18: RuntimeWarning: The values in the array are unorderable. Pass `sort=False` to suppress this warning.\n",
      "  original_marginal, generated_marginal = original_marginal.align(generated_marginal, fill_value=0)\n",
      "/var/folders/qj/gh_j11514m37mqtfrlr885k40000gn/T/ipykernel_21557/12603997.py:18: RuntimeWarning: The values in the array are unorderable. Pass `sort=False` to suppress this warning.\n",
      "  original_marginal, generated_marginal = original_marginal.align(generated_marginal, fill_value=0)\n",
      "/var/folders/qj/gh_j11514m37mqtfrlr885k40000gn/T/ipykernel_21557/12603997.py:18: RuntimeWarning: The values in the array are unorderable. Pass `sort=False` to suppress this warning.\n",
      "  original_marginal, generated_marginal = original_marginal.align(generated_marginal, fill_value=0)\n"
     ]
    }
   ],
   "source": [
    "import pandas as pd\n",
    "import numpy as np\n",
    "import itertools\n",
    "\n",
    "original_data = pd.read_csv('../data/acs-2019-nist/national/national2019.csv')\n",
    "generated_data = pd.read_csv('output_data/agent_0_20241110_210355.csv')\n",
    "\n",
    "columns_for_marginals = ['AGEP', 'SEX', 'EDU', 'MSP', 'HOUSING_TYPE']\n",
    "\n",
    "def calculate_k_way_marginals(df, k, columns):\n",
    "    combinations = list(itertools.combinations(columns, k))\n",
    "    marginal_diffs = []\n",
    "    \n",
    "    for cols in combinations:\n",
    "        original_marginal = df.groupby(list(cols)).size().div(len(df))\n",
    "        generated_marginal = generated_data.groupby(list(cols)).size().div(len(generated_data))\n",
    "        \n",
    "        original_marginal, generated_marginal = original_marginal.align(generated_marginal, fill_value=0)\n",
    "        \n",
    "        tvd = 0.5 * np.abs(original_marginal - generated_marginal).sum()\n",
    "        marginal_diffs.append((cols, tvd))\n",
    "    \n",
    "    return marginal_diffs\n",
    "\n",
    "two_way_marginals = calculate_k_way_marginals(original_data, 2, columns_for_marginals)\n",
    "three_way_marginals = calculate_k_way_marginals(original_data, 3, columns_for_marginals)\n",
    "\n",
    "print(\"avg 2-way marginal diff:\", np.mean([diff for _, diff in two_way_marginals]))\n",
    "print(\"avg 3-way marginal diff:\", np.mean([diff for _, diff in three_way_marginals]))\n"
   ]
  },
  {
   "cell_type": "code",
   "execution_count": null,
   "metadata": {},
   "outputs": [],
   "source": []
  }
 ],
 "metadata": {
  "kernelspec": {
   "display_name": "Python 3",
   "language": "python",
   "name": "python3"
  },
  "language_info": {
   "codemirror_mode": {
    "name": "ipython",
    "version": 3
   },
   "file_extension": ".py",
   "mimetype": "text/x-python",
   "name": "python",
   "nbconvert_exporter": "python",
   "pygments_lexer": "ipython3",
   "version": "3.10.15"
  }
 },
 "nbformat": 4,
 "nbformat_minor": 2
}
