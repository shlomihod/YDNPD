{
 "cells": [
  {
   "cell_type": "code",
   "execution_count": 3,
   "metadata": {},
   "outputs": [
    {
     "ename": "ModuleNotFoundError",
     "evalue": "No module named 'openai'",
     "output_type": "error",
     "traceback": [
      "\u001b[0;31m---------------------------------------------------------------------------\u001b[0m",
      "\u001b[0;31mModuleNotFoundError\u001b[0m                       Traceback (most recent call last)",
      "Cell \u001b[0;32mIn[3], line 2\u001b[0m\n\u001b[1;32m      1\u001b[0m \u001b[38;5;28;01mfrom\u001b[39;00m \u001b[38;5;21;01mmachine\u001b[39;00m \u001b[38;5;28;01mimport\u001b[39;00m CasualModelingAgentMachine\n\u001b[0;32m----> 2\u001b[0m \u001b[38;5;28;01mfrom\u001b[39;00m \u001b[38;5;21;01mllm_session\u001b[39;00m \u001b[38;5;28;01mimport\u001b[39;00m LLMSession\n\u001b[1;32m      3\u001b[0m \u001b[38;5;28;01mfrom\u001b[39;00m \u001b[38;5;21;01mspecifications\u001b[39;00m \u001b[38;5;28;01mimport\u001b[39;00m SPECIFICATION_V0\n\u001b[1;32m      4\u001b[0m \u001b[38;5;28;01mfrom\u001b[39;00m \u001b[38;5;21;01mdata_config\u001b[39;00m \u001b[38;5;28;01mimport\u001b[39;00m SCHEMA\n",
      "File \u001b[0;32m~/Documents/YDNPD_clones/clone3/YDNPD/agent/llm_session.py:6\u001b[0m\n\u001b[1;32m      3\u001b[0m \u001b[38;5;28;01mfrom\u001b[39;00m \u001b[38;5;21;01mcollections\u001b[39;00m \u001b[38;5;28;01mimport\u001b[39;00m Counter, defaultdict\n\u001b[1;32m      4\u001b[0m \u001b[38;5;28;01mfrom\u001b[39;00m \u001b[38;5;21;01mpprint\u001b[39;00m \u001b[38;5;28;01mimport\u001b[39;00m pprint\n\u001b[0;32m----> 6\u001b[0m \u001b[38;5;28;01mfrom\u001b[39;00m \u001b[38;5;21;01mopenai\u001b[39;00m \u001b[38;5;28;01mimport\u001b[39;00m OpenAI\n\u001b[1;32m      8\u001b[0m \u001b[38;5;28;01mimport\u001b[39;00m \u001b[38;5;21;01mwandb\u001b[39;00m\n\u001b[1;32m      9\u001b[0m \u001b[38;5;28;01mimport\u001b[39;00m \u001b[38;5;21;01mtime\u001b[39;00m\n",
      "\u001b[0;31mModuleNotFoundError\u001b[0m: No module named 'openai'"
     ]
    }
   ],
   "source": [
    "from machine import CasualModelingAgentMachine\n",
    "from llm_session import LLMSession\n",
    "from specifications import SPECIFICATION_V0\n",
    "from data_config import SCHEMA\n",
    "import wandb\n",
    "\n",
    "wandb.init(project=\"llm_state_machine\", name=\"LLM_Causal_Model_Agent\")\n",
    "\n",
    "\n",
    "llm_sess = LLMSession(\n",
    "    specification=SPECIFICATION_V0,\n",
    "    domain=\"demographic and census data\",\n",
    "    schema=SCHEMA,\n",
    "    verbose=True)\n",
    "\n",
    "sm = CasualModelingAgentMachine(llm_sess)"
   ]
  },
  {
   "cell_type": "code",
   "execution_count": 3,
   "metadata": {},
   "outputs": [
    {
     "data": {
      "text/plain": [
       "{'AGEP': tensor(11.),\n",
       " 'SEX': tensor(1),\n",
       " 'EDU': tensor(1),\n",
       " 'PINCP': tensor(22253.),\n",
       " 'HOUSING_TYPE': tensor(1),\n",
       " 'OWN_RENT': tensor(1),\n",
       " 'DENSITY': tensor(951.5449)}"
      ]
     },
     "execution_count": 3,
     "metadata": {},
     "output_type": "execute_result"
    }
   ],
   "source": [
    "llm_sess.context[\"model\"]()"
   ]
  },
  {
   "cell_type": "code",
   "execution_count": 4,
   "metadata": {},
   "outputs": [
    {
     "name": "stdout",
     "output_type": "stream",
     "text": [
      "\n",
      "import pyro\n",
      "import pyro.distributions as dist\n",
      "import torch\n",
      "\n",
      "def model():\n",
      "    while True:\n",
      "        AGEP = pyro.sample(\"AGEP\", dist.Uniform(0, 95))\n",
      "        AGEP = torch.clamp(torch.round(AGEP), 0, 95)  # Ensure AGEP is an integer within the specified range\n",
      "\n",
      "        SEX = pyro.sample(\"SEX\", dist.Categorical(torch.tensor([0.5, 0.5])))\n",
      "        SEX = torch.clamp(torch.round(SEX), 1, 2)  # Ensure SEX is either 1 or 2\n",
      "\n",
      "        # Example conditional probabilities for EDU based on AGEP and SEX\n",
      "        edu_probs = torch.tensor([0.1, 0.3, 0.4, 0.2])  # Replace with actual probabilities based on AGEP and SEX\n",
      "        EDU = pyro.sample(\"EDU\", dist.Categorical(edu_probs))\n",
      "        EDU = torch.clamp(torch.round(EDU), 1, 12)  # Ensure EDU is an integer between 1 and 12\n",
      "\n",
      "        PINCP = pyro.sample(\"PINCP\", dist.Normal(20000 + 5000 * (EDU.item() - 1), 10000))\n",
      "        PINCP = torch.clamp(torch.round(PINCP), -9000, 1327000)  # Ensure PINCP is within specified range\n",
      "\n",
      "        # Example conditional probabilities for HOUSING_TYPE based on AGEP, SEX, PINCP, and EDU\n",
      "        housing_probs = torch.tensor([0.3, 0.4, 0.3])  # Replace with actual probabilities based on inputs\n",
      "        HOUSING_TYPE = pyro.sample(\"HOUSING_TYPE\", dist.Categorical(housing_probs))\n",
      "        HOUSING_TYPE = torch.clamp(torch.round(HOUSING_TYPE), 1, 3)  # Ensure HOUSING_TYPE is either 1, 2, or 3\n",
      "\n",
      "        # Example conditional probabilities for OWN_RENT based on HOUSING_TYPE and PINCP\n",
      "        own_rent_probs = torch.tensor([0.4, 0.4, 0.2])  # Replace with actual probabilities based on inputs\n",
      "        OWN_RENT = pyro.sample(\"OWN_RENT\", dist.Categorical(own_rent_probs))\n",
      "        OWN_RENT = torch.clamp(torch.round(OWN_RENT), 0, 2)  # Ensure OWN_RENT is either 0, 1, or 2\n",
      "\n",
      "        # Example mu and sigma values for DENSITY based on HOUSING_TYPE and OWN_RENT\n",
      "        mu_density = 1000  # Replace with actual calculation based on HOUSING_TYPE and OWN_RENT\n",
      "        sigma_density = 200  # Replace with actual calculation or constant\n",
      "        DENSITY = pyro.sample(\"DENSITY\", dist.Normal(mu_density, sigma_density))\n",
      "        DENSITY = torch.clamp(DENSITY, 16, 52864)  # Ensure DENSITY is within specified range\n",
      "\n",
      "        # Enforce constraints\n",
      "        if (AGEP < 5 and EDU not in [1, 2, 3]) or \\\n",
      "           (AGEP <= 14 and EDU > 8) or \\\n",
      "           (AGEP <= 18 and EDU > 12) or \\\n",
      "           (AGEP <= 22 and EDU > 16) or \\\n",
      "           (HOUSING_TYPE == 1 and OWN_RENT != 1) or \\\n",
      "           (HOUSING_TYPE == 2 and OWN_RENT != 0) or \\\n",
      "           (HOUSING_TYPE == 3 and OWN_RENT not in [0, 1]) or \\\n",
      "           (PINCP < 20000 and OWN_RENT == 0) or \\\n",
      "           (DENSITY > 10000 and OWN_RENT != 1):\n",
      "            continue  # Reject sample and resample if any constraint is violated\n",
      "\n",
      "        return {\"AGEP\": AGEP, \"SEX\": SEX, \"EDU\": EDU, \"PINCP\": PINCP, \"HOUSING_TYPE\": HOUSING_TYPE, \"OWN_RENT\": OWN_RENT, \"DENSITY\": DENSITY}\n",
      "\n"
     ]
    }
   ],
   "source": [
    "print(llm_sess.context[\"code\"])"
   ]
  },
  {
   "cell_type": "code",
   "execution_count": null,
   "metadata": {},
   "outputs": [],
   "source": []
  }
 ],
 "metadata": {
  "kernelspec": {
   "display_name": "Python 3",
   "language": "python",
   "name": "python3"
  },
  "language_info": {
   "codemirror_mode": {
    "name": "ipython",
    "version": 3
   },
   "file_extension": ".py",
   "mimetype": "text/x-python",
   "name": "python",
   "nbconvert_exporter": "python",
   "pygments_lexer": "ipython3",
   "version": "3.10.15"
  }
 },
 "nbformat": 4,
 "nbformat_minor": 2
}
