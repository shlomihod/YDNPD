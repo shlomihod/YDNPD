{
 "cells": [
  {
   "cell_type": "code",
<<<<<<< Updated upstream
   "execution_count": 3,
   "metadata": {},
   "outputs": [
    {
     "ename": "ModuleNotFoundError",
     "evalue": "No module named 'openai'",
     "output_type": "error",
     "traceback": [
      "\u001b[0;31m---------------------------------------------------------------------------\u001b[0m",
      "\u001b[0;31mModuleNotFoundError\u001b[0m                       Traceback (most recent call last)",
      "Cell \u001b[0;32mIn[3], line 2\u001b[0m\n\u001b[1;32m      1\u001b[0m \u001b[38;5;28;01mfrom\u001b[39;00m \u001b[38;5;21;01mmachine\u001b[39;00m \u001b[38;5;28;01mimport\u001b[39;00m CasualModelingAgentMachine\n\u001b[0;32m----> 2\u001b[0m \u001b[38;5;28;01mfrom\u001b[39;00m \u001b[38;5;21;01mllm_session\u001b[39;00m \u001b[38;5;28;01mimport\u001b[39;00m LLMSession\n\u001b[1;32m      3\u001b[0m \u001b[38;5;28;01mfrom\u001b[39;00m \u001b[38;5;21;01mspecifications\u001b[39;00m \u001b[38;5;28;01mimport\u001b[39;00m SPECIFICATION_V0\n\u001b[1;32m      4\u001b[0m \u001b[38;5;28;01mfrom\u001b[39;00m \u001b[38;5;21;01mdata_config\u001b[39;00m \u001b[38;5;28;01mimport\u001b[39;00m SCHEMA\n",
      "File \u001b[0;32m~/Documents/YDNPD_clones/clone3/YDNPD/agent/llm_session.py:6\u001b[0m\n\u001b[1;32m      3\u001b[0m \u001b[38;5;28;01mfrom\u001b[39;00m \u001b[38;5;21;01mcollections\u001b[39;00m \u001b[38;5;28;01mimport\u001b[39;00m Counter, defaultdict\n\u001b[1;32m      4\u001b[0m \u001b[38;5;28;01mfrom\u001b[39;00m \u001b[38;5;21;01mpprint\u001b[39;00m \u001b[38;5;28;01mimport\u001b[39;00m pprint\n\u001b[0;32m----> 6\u001b[0m \u001b[38;5;28;01mfrom\u001b[39;00m \u001b[38;5;21;01mopenai\u001b[39;00m \u001b[38;5;28;01mimport\u001b[39;00m OpenAI\n\u001b[1;32m      8\u001b[0m \u001b[38;5;28;01mimport\u001b[39;00m \u001b[38;5;21;01mwandb\u001b[39;00m\n\u001b[1;32m      9\u001b[0m \u001b[38;5;28;01mimport\u001b[39;00m \u001b[38;5;21;01mtime\u001b[39;00m\n",
      "\u001b[0;31mModuleNotFoundError\u001b[0m: No module named 'openai'"
=======
   "execution_count": null,
   "metadata": {},
   "outputs": [
    {
     "name": "stdout",
     "output_type": "stream",
     "text": [
      "Logged in as Weights & Biases user: shlomihod.\n",
      "View Weave data at https://wandb.ai/shlomihod/data_gen_agent/weave\n",
      "🍩 https://wandb.ai/shlomihod/data_gen_agent/r/call/01931d68-88ab-7580-867b-958c98fe824c\n",
      "🍩 https://wandb.ai/shlomihod/data_gen_agent/r/call/01931d68-96dc-74f1-8ca6-29a6da8fb947\n",
      "🍩 https://wandb.ai/shlomihod/data_gen_agent/r/call/01931d68-cf73-71e3-894b-d40283d19281\n",
      "🍩 https://wandb.ai/shlomihod/data_gen_agent/r/call/01931d68-ecfb-71f3-b9ce-ef7d9f935bd5\n",
      "🍩 https://wandb.ai/shlomihod/data_gen_agent/r/call/01931d69-0aca-73a2-9956-86796639394a\n",
      "🍩 https://wandb.ai/shlomihod/data_gen_agent/r/call/01931d69-2fbd-75b0-88a3-43057e6ae7d5\n"
>>>>>>> Stashed changes
     ]
    }
   ],
   "source": [
    "from machine import CasualModelingAgentMachine\n",
    "from llm_session import LLMSession\n",
    "from specifications import SPECIFICATION_V0\n",
    "from data_config import CENSUS_DATASET_METADATA\n",
    "import weave\n",
    "\n",
    "weave.init(\"data_gen_agent\")\n",
    "\n",
    "\n",
    "llm_sess = LLMSession(\n",
    "    specification=SPECIFICATION_V0,\n",
    "    metadata=CENSUS_DATASET_METADATA)\n",
    "\n",
    "sm = CasualModelingAgentMachine(llm_sess)\n",
    "\n",
    "print(llm_sess.context[\"code\"])"
   ]
  },
  {
   "cell_type": "code",
   "execution_count": null,
   "metadata": {},
   "outputs": [],
   "source": [
    "llm_sess.context[\"model\"]()"
   ]
  },
  {
   "cell_type": "code",
   "execution_count": null,
   "metadata": {},
   "outputs": [],
   "source": [
    "import pandas as pd\n",
    "\n",
    "df = pd.DataFrame([{key: value.item() for key, value in llm_sess.context[\"model\"]().items()}\n",
    "                   for _ in range(10_000)])"
   ]
  },
  {
   "cell_type": "code",
   "execution_count": null,
   "metadata": {},
   "outputs": [],
   "source": [
    "from ydata_profiling import ProfileReport\n",
    "ProfileReport(df)"
   ]
  },
  {
   "cell_type": "code",
   "execution_count": null,
   "metadata": {},
   "outputs": [],
   "source": []
  }
 ],
 "metadata": {
  "kernelspec": {
<<<<<<< Updated upstream
   "display_name": "Python 3",
=======
   "display_name": "Python 3 (ipykernel)",
>>>>>>> Stashed changes
   "language": "python",
   "name": "python3"
  },
  "language_info": {
   "codemirror_mode": {
    "name": "ipython",
    "version": 3
   },
   "file_extension": ".py",
   "mimetype": "text/x-python",
   "name": "python",
   "nbconvert_exporter": "python",
   "pygments_lexer": "ipython3",
   "version": "3.10.15"
  }
 },
 "nbformat": 4,
 "nbformat_minor": 4
}
