{
 "cells": [
  {
   "cell_type": "code",
   "execution_count": null,
   "metadata": {},
   "outputs": [],
   "source": [
    "import itertools as it\n",
    "import os\n",
    "\n",
    "os.environ[\"PRIVBAYES_BIN\"] = \"./ydnpd/synthesis/privbayes\"\n",
    "\n",
    "import ray\n",
    "import pandas as pd\n",
    "from matplotlib import pyplot as plt\n",
    "from IPython.display import display, Markdown\n",
    "\n",
    "import ydnpd"
   ]
  },
  {
   "cell_type": "code",
   "execution_count": null,
   "metadata": {},
   "outputs": [],
   "source": [
    "WANDB_GROUP = \"delme\""
   ]
  },
  {
   "cell_type": "markdown",
   "metadata": {},
   "source": [
    "## Tasks"
   ]
  },
  {
   "cell_type": "code",
   "execution_count": null,
   "metadata": {},
   "outputs": [],
   "source": [
    "total_task_size = 0\n",
    "for idx, task in enumerate(ydnpd.span_hparam_tasks(), start=1):\n",
    "    print(f\"{idx:2} {task}\")\n",
    "    total_task_size += task.size()\n",
    "print(f\"\\nTotal task size: {total_task_size}\")"
   ]
  },
  {
   "cell_type": "markdown",
   "metadata": {},
   "source": [
    "## Execute Tasks"
   ]
  },
  {
   "cell_type": "code",
   "execution_count": null,
   "metadata": {},
   "outputs": [],
   "source": [
    "ray.init(num_cpus=3)"
   ]
  },
  {
   "cell_type": "code",
   "execution_count": null,
   "metadata": {},
   "outputs": [],
   "source": [
    "hparams_tasks = ydnpd.span_hparam_ray_tasks(\n",
    "    # with_wandb=True, wandb_kwargs={\"group\": WANDB_GROUP}\n",
    ")\n",
    "hparam_tasks_results = ray.get(hparams_tasks)\n",
    "hparam_tasks_results = list(it.chain(*hparam_tasks_results))"
   ]
  },
  {
   "cell_type": "markdown",
   "metadata": {},
   "source": [
    "## Load Results from W&B"
   ]
  },
  {
   "cell_type": "code",
   "execution_count": null,
   "metadata": {},
   "outputs": [],
   "source": [
    "# import wandb\n",
    "\n",
    "# api = wandb.Api()\n",
    "\n",
    "# runs = api.runs(path=f\"shlomihod/ydnpd\")\n",
    "\n",
    "# hparam_tasks_results = []\n",
    "\n",
    "# for run in runs:\n",
    "#     if run.group == WANDB_GROUP:\n",
    "#         for step_data in run.history().to_dict(orient=\"records\"):\n",
    "#             hparam_tasks_results.append(dict(run.config) | {\"evaluation\": step_data})"
   ]
  },
  {
   "cell_type": "markdown",
   "metadata": {},
   "source": [
    "## Utility-Related Tasks"
   ]
  },
  {
   "cell_type": "code",
   "execution_count": null,
   "metadata": {},
   "outputs": [],
   "source": [
    "for metric in ydnpd.EVALUATION_METRICS:\n",
    "    display(Markdown(f\"## {metric}\"))\n",
    "\n",
    "    g1, g2 = ydnpd.UtilityTask.plot(\n",
    "        hparam_tasks_results, ydnpd.config.EXPERIMENTS, metric=metric\n",
    "    )\n",
    "    display(g1.fig)\n",
    "    plt.close(g1.fig)\n",
    "\n",
    "    display(g2.fig)\n",
    "    plt.close(g2.fig)"
   ]
  },
  {
   "cell_type": "code",
   "execution_count": null,
   "metadata": {},
   "outputs": [],
   "source": [
    "for metric in ydnpd.EVALUATION_METRICS:\n",
    "\n",
    "    display(Markdown(f\"## {metric}\"))\n",
    "    with pd.option_context(\"display.max_rows\", None):\n",
    "        display(\n",
    "            ydnpd.UtilityTask.evaluate(\n",
    "                hparam_tasks_results, ydnpd.config.EXPERIMENTS, metric\n",
    "            )\n",
    "            .multiply(100)\n",
    "            .round(1)\n",
    "        )"
   ]
  }
 ],
 "metadata": {
  "kernelspec": {
   "display_name": "sdnist",
   "language": "python",
   "name": "python3"
  },
  "language_info": {
   "codemirror_mode": {
    "name": "ipython",
    "version": 3
   },
   "file_extension": ".py",
   "mimetype": "text/x-python",
   "name": "python",
   "nbconvert_exporter": "python",
   "pygments_lexer": "ipython3",
   "version": "3.10.14"
  }
 },
 "nbformat": 4,
 "nbformat_minor": 2
}
