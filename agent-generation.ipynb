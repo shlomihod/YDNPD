{
 "cells": [
  {
   "cell_type": "code",
   "execution_count": null,
   "metadata": {},
   "outputs": [],
   "source": [
    "import pickle\n",
    "\n",
    "import pandas as pd\n",
    "import weave\n",
    "from IPython.display import display, Markdown\n",
    "\n",
    "from ydnpd.generation.agent.specifications import *\n",
    "from ydnpd.generation.agent.utils import produce_datasets\n",
    "from ydnpd.datasets import load_dataset, mix_datasets, mix_datasets, plot_distribution_distances, plot_dataset_selection, compare_datasets\n",
    "from ydnpd.utils import metadata_to_pandera_schema\n",
    "from ydnpd.harness import ALL_EXPERIMENTS\n",
    "\n",
    "# weave.init(\"ydnpd-data_gen_agent\")"
   ]
  },
  {
   "cell_type": "code",
   "execution_count": 3,
   "metadata": {},
   "outputs": [],
   "source": [
    "PRIVATE_DATASET = \"acs/national\"\n",
    "FAMILY, _ = PRIVATE_DATASET.split(\"/\")\n",
    "NUM_SAMPLES = len(load_dataset(PRIVATE_DATASET)[0])\n",
    "METADATA_PANDERA = metadata_to_pandera_schema(load_dataset(PRIVATE_DATASET)[1])\n",
    "\n",
    "NUM_DATASETS = 10\n",
    "LLM_NAMES = [\"gpt-4o-mini\", \"gpt-4o\"]  # \"o1-mini\", \"o1-preview\"\n",
    "SPECIFICATIONS = [SPECIFICATION_V1] #  SPECIFICATION_V0, SPECIFICATION_V01, SPECIFICATION_V02, SPECIFICATION_V03,\n",
    "TEMPERATURES = [0.3, 0.7, 1] #, 1] # [0.7]  # [0, 0.35, 0.7]"
   ]
  },
  {
   "cell_type": "code",
   "execution_count": 3,
   "metadata": {},
   "outputs": [],
   "source": [
    "# results = []\n",
    "\n",
    "# for specificaion_version, specification in enumerate(SPECIFICATIONS):\n",
    "\n",
    "#     for llm_name in LLM_NAMES:\n",
    "\n",
    "#         for llm_temperature in TEMPERATURES:\n",
    "            \n",
    "#             if specificaion_version == 1 and \"o1-\" in llm_name:\n",
    "#                 continue\n",
    "\n",
    "#             llm_kwargs = {\"llm_name\": llm_name,\n",
    "#                           \"llm_temperature\": llm_temperature,\n",
    "#                           \"verbose\": False}\n",
    "    \n",
    "#             produced_datasets, *_ = produce_datasets(PRIVATE_DATASET,\n",
    "#                                                 specification,\n",
    "#                                                 NUM_SAMPLES,\n",
    "#                                                 NUM_DATASETS,\n",
    "#                                                 **llm_kwargs)\n",
    "#             for dataset in produced_datasets:\n",
    "#                 results.append({\"llm_name\": llm_name,\n",
    "#                                 \"specificaion_version\": specificaion_version,\n",
    "#                                 \"llm_temperature\": llm_temperature,\n",
    "#                                 \"dataset\": dataset})"
   ]
  },
  {
   "cell_type": "code",
   "execution_count": 4,
   "metadata": {},
   "outputs": [],
   "source": [
    "# with open(\"llm-datasets.pkl\", \"wb\") as f:\n",
    "#     pickle.dump(results, f)\n",
    "\n",
    "with open(\"llm-datasets.pkl\", \"rb\") as f:\n",
    "    results = pickle.load(f)"
   ]
  },
  {
   "cell_type": "code",
   "execution_count": null,
   "metadata": {},
   "outputs": [],
   "source": [
    "llm_datasets = {}\n",
    "\n",
    "llm_gorupby = pd.DataFrame(results).groupby([\"llm_name\", \"llm_temperature\", \"specificaion_version\"])\n",
    "\n",
    "for key, group in llm_gorupby:\n",
    "    name = \"-\".join(map(str, key))\n",
    "\n",
    "    display(Markdown(f\"## {name}\"))\n",
    "\n",
    "    group_llm_datasets = {}\n",
    "\n",
    "    for i, (_, row) in enumerate(group.iterrows()):\n",
    "        group_llm_datasets[f\"{name}-{i}\"] = row[\"dataset\"]\n",
    "    \n",
    "    fig, _ = plot_dataset_selection(list(group_llm_datasets.values()))\n",
    "    display(fig)\n",
    "\n",
    "    llm_datasets |= group_llm_datasets\n",
    "\n",
    "plot_dataset_selection(list(llm_datasets.values()));"
   ]
  },
  {
   "cell_type": "code",
   "execution_count": 6,
   "metadata": {},
   "outputs": [],
   "source": [
    "MIXTURE_MAX_COV_OVERALL_NUM_DATASETS = 10\n",
    "MIXTURE_MAX_COV_PER_GROUP_NUM_DATASETS = 5\n",
    "\n",
    "mixture_llm_datasets = {\n",
    "    \"MIX-UNIF\": mix_datasets(list(llm_datasets.values()), NUM_SAMPLES, \"uniform\"),\n",
    "    \"MIX-MAX\": mix_datasets(list(llm_datasets.values()), NUM_SAMPLES, \"max_coverage\", MIXTURE_MAX_COV_OVERALL_NUM_DATASETS)\n",
    "\n",
    "}\n",
    "\n",
    "for key, group in llm_gorupby:\n",
    "    name = \"-\".join(map(str, key))\n",
    "\n",
    "    mixture_llm_datasets[f\"{name}-MIX-UNIF\"] = mix_datasets(list(group[\"dataset\"]), NUM_SAMPLES, \"uniform\")\n",
    "    mixture_llm_datasets[f\"{name}-MIX-MAX\"] = mix_datasets(list(group[\"dataset\"]), NUM_SAMPLES, \"max_coverage\", MIXTURE_MAX_COV_PER_GROUP_NUM_DATASETS)\n",
    "\n",
    "\n",
    "llm_datasets |= mixture_llm_datasets"
   ]
  },
  {
   "cell_type": "code",
   "execution_count": null,
   "metadata": {},
   "outputs": [],
   "source": [
    "datasets = {\n",
    "    name.split(\"/\")[1]: load_dataset(name)[0]\n",
    "    for name in ALL_EXPERIMENTS[FAMILY].dev_names\n",
    "} | llm_datasets\n",
    "\n",
    "plot_distribution_distances(datasets)"
   ]
  },
  {
   "cell_type": "code",
   "execution_count": 10,
   "metadata": {},
   "outputs": [],
   "source": [
    "for name, df in datasets.items():\n",
    "    if \"MIX\" in name:\n",
    "        df.to_csv(f\"llm_datasets/{FAMILY}/{name.replace('.','_')}.csv\")"
   ]
  }
 ],
 "metadata": {
  "kernelspec": {
   "display_name": "ydnpd",
   "language": "python",
   "name": "python3"
  },
  "language_info": {
   "codemirror_mode": {
    "name": "ipython",
    "version": 3
   },
   "file_extension": ".py",
   "mimetype": "text/x-python",
   "name": "python",
   "nbconvert_exporter": "python",
   "pygments_lexer": "ipython3",
   "version": "3.10.16"
  }
 },
 "nbformat": 4,
 "nbformat_minor": 2
}
