{
 "cells": [
  {
   "cell_type": "code",
   "execution_count": null,
   "metadata": {},
   "outputs": [],
   "source": [
    "import wandb\n",
    "\n",
    "from ydnpd.pretraining.trainer import TransformerTrainer, ModelConfig\n",
    "from ydnpd.pretraining.utils import set_strict_reproducibility_by_config"
   ]
  },
  {
   "cell_type": "code",
   "execution_count": 7,
   "metadata": {},
   "outputs": [],
   "source": [
    "from ydnpd import ALL_EXPERIMENTS\n",
    "from ydnpd.harness.config import EPSILONS\n",
    "\n",
    "DATASET_FAMILY = \"acs\"\n",
    "\n",
    "public_dataaset_pointers = [name for name in ALL_EXPERIMENTS[DATASET_FAMILY].dev_names\n",
    "                            if name != ALL_EXPERIMENTS[DATASET_FAMILY].test_name]\n",
    "\n",
    "\n",
    "sweep_configuration = {\n",
    "    \"method\": \"grid\",\n",
    "    \"metric\": {\"goal\": \"maximize\", \"name\": \"auc\"},\n",
    "    \"parameters\": {\n",
    "        \"num_epochs\": {\"values\": [1, 3 ,9]},\n",
    "        \"batch_size\": {\"values\": [8, 32, 128]},\n",
    "        \"lr\": {\"values\": [3e-4, 3e-5]},\n",
    "        \"private_data_pointer\": {\"value\": ALL_EXPERIMENTS[DATASET_FAMILY].test_name},\n",
    "        \"public_data_pointer\": {\"values\": public_dataaset_pointers[:1]},\n",
    "        \"epsilon\": {\"values\": EPSILONS},\n",
    "    },\n",
    "}\n",
    "\n",
    "def runner():\n",
    "    wandb.init(project=\"ydnpd-dp-ft\")\n",
    "    print(wandb.config)\n",
    "    set_strict_reproducibility_by_config(wandb.config)\n",
    "    results = TransformerTrainer.train_and_evaluate(\n",
    "        config=ModelConfig(num_epochs=wandb.config.num_epochs, \n",
    "                           batch_size=wandb.config.batch_size,\n",
    "                           lr=wandb.config.lr,\n",
    "                           epsilon=wandb.config.epsilon,),\n",
    "        public_data_pointer=wandb.config.public_data_pointer,\n",
    "        private_data_pointer=wandb.config.private_data_pointer,\n",
    "    )\n",
    "    wandb.log(**results)"
   ]
  },
  {
   "cell_type": "code",
   "execution_count": null,
   "metadata": {},
   "outputs": [],
   "source": [
    "sweep_id = wandb.sweep(sweep=sweep_configuration, project=\"ydnpd-dp-ft\")\n",
    "wandb.agent(sweep_id, function=runner)"
   ]
  }
 ],
 "metadata": {
  "kernelspec": {
   "display_name": "ydnpd-ft",
   "language": "python",
   "name": "python3"
  },
  "language_info": {
   "codemirror_mode": {
    "name": "ipython",
    "version": 3
   },
   "file_extension": ".py",
   "mimetype": "text/x-python",
   "name": "python",
   "nbconvert_exporter": "python",
   "pygments_lexer": "ipython3",
   "version": "3.10.16"
  }
 },
 "nbformat": 4,
 "nbformat_minor": 2
}
