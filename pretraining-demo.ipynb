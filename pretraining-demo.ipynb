{
 "cells": [
  {
   "cell_type": "code",
   "execution_count": null,
   "metadata": {},
   "outputs": [],
   "source": [
    "import wandb\n",
    "\n",
    "from ydnpd.pretraining.trainer import TransformerTrainer, ModelConfig, PreTrainConfig\n",
    "from ydnpd.pretraining.utils import set_strict_reproducibility_by_config\n",
    "from ydnpd import ALL_EXPERIMENTS\n",
    "from ydnpd.harness.config import EPSILONS\n"
   ]
  },
  {
   "cell_type": "code",
   "execution_count": 2,
   "metadata": {},
   "outputs": [],
   "source": [
    "DATASET_FAMILY = \"acs\""
   ]
  },
  {
   "cell_type": "code",
   "execution_count": null,
   "metadata": {},
   "outputs": [],
   "source": [
    "TransformerTrainer.train_and_evaluate(\n",
    "        public_data_pointer=ALL_EXPERIMENTS[DATASET_FAMILY].test_name,\n",
    "    )"
   ]
  },
  {
   "cell_type": "code",
   "execution_count": null,
   "metadata": {},
   "outputs": [],
   "source": [
    "public_dataaset_pointers = [name for name in ALL_EXPERIMENTS[DATASET_FAMILY].dev_names\n",
    "                            if name != ALL_EXPERIMENTS[DATASET_FAMILY].test_name]\n",
    "\n",
    "\n",
    "\n",
    "sweep_configuration = {\n",
    "    \"method\": \"grid\",\n",
    "    \"metric\": {\"goal\": \"maximize\", \"name\": \"auc\"},\n",
    "    \"parameters\": {\n",
    "        \"pre_num_epochs\": {\"values\": [1, 3 ,9]},\n",
    "        \"pre_batch_size\": {\"values\": [4, 32, 128]},\n",
    "        \"pre_lr\": {\"values\": [3e-4, 3e-5]},\n",
    "        \"dp_num_epochs\": {\"value\": [20]},\n",
    "        \"dp_batch_size\": {\"values\": [64, 128, 256]},\n",
    "        \"dp_lr\": {\"values\": [3e-3, 3e-4]},\n",
    "        \"epsilon\": {\"values\": EPSILONS},\n",
    "        \"private_data_pointer\": {\"value\": ALL_EXPERIMENTS[DATASET_FAMILY].test_name},\n",
    "        \"public_data_pointer\": {\"values\": [None] + public_dataaset_pointers[:1]},\n",
    "    },\n",
    "}\n",
    "\n",
    "def runner():\n",
    "    wandb.init(project=\"ydnpd-dp-ft\")\n",
    "    print(wandb.config)\n",
    "    set_strict_reproducibility_by_config(wandb.config)\n",
    "    results = TransformerTrainer.train_and_evaluate(\n",
    "        config=ModelConfig(\n",
    "            num_epochs=wandb.config.dp_num_epochs,\n",
    "            batch_size=wandb.config.dp_batch_size,\n",
    "            lr=wandb.config.dp_lr,\n",
    "            epsilon=wandb.config.epsilon\n",
    "        ),\n",
    "        pretrain_config=PreTrainConfig(\n",
    "            num_epochs=wandb.config.pre_num_epochs,\n",
    "            batch_size=wandb.config.pre_batch_size,\n",
    "            lr=wandb.config.pre_lr,\n",
    "        ),\n",
    "        public_data_pointer=wandb.config.public_data_pointer,\n",
    "        private_data_pointer=wandb.config.private_data_pointer,\n",
    "    )\n",
    "    wandb.log(**results)"
   ]
  },
  {
   "cell_type": "code",
   "execution_count": null,
   "metadata": {},
   "outputs": [],
   "source": [
    "sweep_id = wandb.sweep(sweep=sweep_configuration, project=\"ydnpd-dp-ft\")\n",
    "wandb.agent(sweep_id, function=runner)"
   ]
  }
 ],
 "metadata": {
  "kernelspec": {
   "display_name": "ydnpd-ft",
   "language": "python",
   "name": "python3"
  },
  "language_info": {
   "codemirror_mode": {
    "name": "ipython",
    "version": 3
   },
   "file_extension": ".py",
   "mimetype": "text/x-python",
   "name": "python",
   "nbconvert_exporter": "python",
   "pygments_lexer": "ipython3",
   "version": "3.10.16"
  }
 },
 "nbformat": 4,
 "nbformat_minor": 2
}
