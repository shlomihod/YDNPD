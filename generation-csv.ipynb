{
 "cells": [
  {
   "cell_type": "code",
   "execution_count": 1,
   "metadata": {},
   "outputs": [
    {
     "name": "stderr",
     "output_type": "stream",
     "text": [
      "OMP: Info #276: omp_set_nested routine deprecated, please use omp_set_max_active_levels instead.\n"
     ]
    },
    {
     "name": "stdout",
     "output_type": "stream",
     "text": [
      "weave version 0.51.28 is available!  To upgrade, please run:\n",
      " $ pip install weave --upgrade\n",
      "Logged in as Weights & Biases user: shlomihod.\n",
      "View Weave data at https://wandb.ai/shlomihod/ydnpd-data_gen_agent/weave\n"
     ]
    },
    {
     "data": {
      "text/plain": [
       "<weave.trace.weave_client.WeaveClient at 0x350edd120>"
      ]
     },
     "execution_count": 1,
     "metadata": {},
     "output_type": "execute_result"
    }
   ],
   "source": [
    "import pickle\n",
    "\n",
    "import pandas as pd\n",
    "import weave\n",
    "from IPython.display import display, Markdown\n",
    "\n",
    "from ydnpd.generation.agent.specifications import *\n",
    "from ydnpd.generation.agent.utils import produce_datasets\n",
    "from ydnpd.generation.config import LLM_PATHS\n",
    "from ydnpd.datasets import load_dataset, mix_datasets, mix_datasets, plot_distribution_distances, plot_dataset_selection, compare_datasets\n",
    "from ydnpd.utils import metadata_to_pandera_schema\n",
    "from ydnpd.harness import ALL_EXPERIMENTS\n",
    "\n",
    "weave.init(\"ydnpd-data_gen_agent\")"
   ]
  },
  {
   "cell_type": "code",
   "execution_count": 2,
   "metadata": {},
   "outputs": [],
   "source": [
    "PRIVATE_DATASET = \"acs/national\"\n",
    "FAMILY, _ = PRIVATE_DATASET.split(\"/\")\n",
    "NUM_SAMPLES = len(load_dataset(PRIVATE_DATASET)[0])\n",
    "METADATA_PANDERA = metadata_to_pandera_schema(load_dataset(PRIVATE_DATASET)[1])\n",
    "\n",
    "NUM_DATASETS = 2\n",
    "SPECIFICATIONS = [SPECIFICATION_V1] #  SPECIFICATION_V0, SPECIFICATION_V01, SPECIFICATION_V02, SPECIFICATION_V03,"
   ]
  },
  {
   "cell_type": "code",
   "execution_count": null,
   "metadata": {},
   "outputs": [
    {
     "name": "stdout",
     "output_type": "stream",
     "text": [
      "0\n",
      "🍩 https://wandb.ai/shlomihod/ydnpd-data_gen_agent/r/call/01946b76-ecf2-7c53-895a-6e8f5b21762c\n",
      "🍩 https://wandb.ai/shlomihod/ydnpd-data_gen_agent/r/call/01946b77-2066-7241-8993-6eb5dcf5d468\n",
      "🍩 https://wandb.ai/shlomihod/ydnpd-data_gen_agent/r/call/01946b77-48dd-7db0-b1c7-ed1cbf78bc8f\n",
      "🍩 https://wandb.ai/shlomihod/ydnpd-data_gen_agent/r/call/01946b77-7b17-7f90-872b-f4b4c4aa659a\n",
      "🍩 https://wandb.ai/shlomihod/ydnpd-data_gen_agent/r/call/01946b77-a412-77f3-98ea-c3adc54e61da\n",
      "🍩 https://wandb.ai/shlomihod/ydnpd-data_gen_agent/r/call/01946b77-cd8e-71a0-994b-7c68fdbe5706\n",
      "🍩 https://wandb.ai/shlomihod/ydnpd-data_gen_agent/r/call/01946b77-cd90-70f1-9e96-7fe1aac3b923\n",
      "🍩 https://wandb.ai/shlomihod/ydnpd-data_gen_agent/r/call/01946b78-09dd-7aa2-a4a5-cc075491c440\n"
     ]
    },
    {
     "name": "stderr",
     "output_type": "stream",
     "text": [
      "OMP: Info #276: omp_set_nested routine deprecated, please use omp_set_max_active_levels instead.\n"
     ]
    },
    {
     "name": "stdout",
     "output_type": "stream",
     "text": [
      "🍩 https://wandb.ai/shlomihod/ydnpd-data_gen_agent/r/call/01946b78-88c0-79a0-b102-1c499c142706\n"
     ]
    },
    {
     "name": "stderr",
     "output_type": "stream",
     "text": [
      "OMP: Info #276: omp_set_nested routine deprecated, please use omp_set_max_active_levels instead.\n"
     ]
    },
    {
     "name": "stdout",
     "output_type": "stream",
     "text": [
      "🍩 https://wandb.ai/shlomihod/ydnpd-data_gen_agent/r/call/01946b78-e895-73d3-bc04-bbd1c9ae9f05\n"
     ]
    },
    {
     "name": "stderr",
     "output_type": "stream",
     "text": [
      "OMP: Info #276: omp_set_nested routine deprecated, please use omp_set_max_active_levels instead.\n"
     ]
    },
    {
     "name": "stdout",
     "output_type": "stream",
     "text": [
      "🍩 https://wandb.ai/shlomihod/ydnpd-data_gen_agent/r/call/01946b79-6d8e-7c60-a282-94585d8bf367\n"
     ]
    },
    {
     "name": "stderr",
     "output_type": "stream",
     "text": [
      "OMP: Info #276: omp_set_nested routine deprecated, please use omp_set_max_active_levels instead.\n"
     ]
    },
    {
     "name": "stdout",
     "output_type": "stream",
     "text": [
      "🍩 https://wandb.ai/shlomihod/ydnpd-data_gen_agent/r/call/01946b79-e871-7301-81c6-5a6641d67b9c\n",
      "📦 Published to https://wandb.ai/shlomihod/ydnpd-data_gen_agent/weave/objects/context/versions/iAdxM8rf5wrHYYi4U5HVOXiOQ9eovCrBYn3vB89wOjA\n",
      "🍩 https://wandb.ai/shlomihod/ydnpd-data_gen_agent/r/call/01946b7a-72eb-72b2-92a1-f63eb4df5324\n",
      "1\n",
      "🍩 https://wandb.ai/shlomihod/ydnpd-data_gen_agent/r/call/01946b7a-9aa6-7332-9013-e7e9b68e5fbc\n",
      "🍩 https://wandb.ai/shlomihod/ydnpd-data_gen_agent/r/call/01946b7a-aece-7241-854c-fb68ac89320a\n",
      "🍩 https://wandb.ai/shlomihod/ydnpd-data_gen_agent/r/call/01946b7a-d600-7192-b4d2-1fe373a4cc00\n",
      "🍩 https://wandb.ai/shlomihod/ydnpd-data_gen_agent/r/call/01946b7a-eb3e-76a3-85ea-ecbcab751d34\n",
      "🍩 https://wandb.ai/shlomihod/ydnpd-data_gen_agent/r/call/01946b7b-03f5-7e03-9646-cf1e02b28f3c\n",
      "🍩 https://wandb.ai/shlomihod/ydnpd-data_gen_agent/r/call/01946b7b-20c5-7c50-a336-51e7506b91a7\n",
      "🍩 https://wandb.ai/shlomihod/ydnpd-data_gen_agent/r/call/01946b7b-20c7-7921-9154-6ddda103eefc\n",
      "🍩 https://wandb.ai/shlomihod/ydnpd-data_gen_agent/r/call/01946b7b-52dc-7cf0-a0c1-7633af12e1a9\n"
     ]
    },
    {
     "name": "stderr",
     "output_type": "stream",
     "text": [
      "OMP: Info #276: omp_set_nested routine deprecated, please use omp_set_max_active_levels instead.\n"
     ]
    },
    {
     "name": "stdout",
     "output_type": "stream",
     "text": [
      "🍩 https://wandb.ai/shlomihod/ydnpd-data_gen_agent/r/call/01946b7b-a3a8-7a92-8c80-62d6f3ac917e\n"
     ]
    },
    {
     "name": "stderr",
     "output_type": "stream",
     "text": [
      "OMP: Info #276: omp_set_nested routine deprecated, please use omp_set_max_active_levels instead.\n"
     ]
    },
    {
     "name": "stdout",
     "output_type": "stream",
     "text": [
      "🍩 https://wandb.ai/shlomihod/ydnpd-data_gen_agent/r/call/01946b7c-1a66-7381-98a3-9013483a2763\n"
     ]
    },
    {
     "name": "stderr",
     "output_type": "stream",
     "text": [
      "OMP: Info #276: omp_set_nested routine deprecated, please use omp_set_max_active_levels instead.\n"
     ]
    },
    {
     "name": "stdout",
     "output_type": "stream",
     "text": [
      "🍩 https://wandb.ai/shlomihod/ydnpd-data_gen_agent/r/call/01946b7c-838d-7630-9b68-3537de353744\n"
     ]
    },
    {
     "name": "stderr",
     "output_type": "stream",
     "text": [
      "OMP: Info #276: omp_set_nested routine deprecated, please use omp_set_max_active_levels instead.\n"
     ]
    },
    {
     "name": "stdout",
     "output_type": "stream",
     "text": [
      "🍩 https://wandb.ai/shlomihod/ydnpd-data_gen_agent/r/call/01946b7d-1f2d-7be2-aa34-b7c9dff8d689\n",
      "📦 Published to https://wandb.ai/shlomihod/ydnpd-data_gen_agent/weave/objects/context/versions/hyMsRcHJsXbN46tXbHaPpOlvI8QtB7HIKxPwrw3iejA\n",
      "🍩 https://wandb.ai/shlomihod/ydnpd-data_gen_agent/r/call/01946b7d-9ff2-7893-b14f-487fb04c8f41\n",
      "0\n",
      "🍩 https://wandb.ai/shlomihod/ydnpd-data_gen_agent/r/call/01946b7d-ce13-7e62-9fa4-ac84327a8702\n",
      "🍩 https://wandb.ai/shlomihod/ydnpd-data_gen_agent/r/call/01946b7d-e13b-7383-8683-d27cc929d5b9\n",
      "🍩 https://wandb.ai/shlomihod/ydnpd-data_gen_agent/r/call/01946b7e-009f-7952-9458-fb6f532de496\n",
      "🍩 https://wandb.ai/shlomihod/ydnpd-data_gen_agent/r/call/01946b7e-1523-78c1-8e8c-99c975cf50eb\n",
      "🍩 https://wandb.ai/shlomihod/ydnpd-data_gen_agent/r/call/01946b7e-2e53-73b2-ab15-cfabceb5a383\n",
      "🍩 https://wandb.ai/shlomihod/ydnpd-data_gen_agent/r/call/01946b7e-461c-7092-a161-2ba4c2f09e4f\n",
      "🍩 https://wandb.ai/shlomihod/ydnpd-data_gen_agent/r/call/01946b7e-461e-7072-9ccc-ffd4c34fac75\n",
      "🍩 https://wandb.ai/shlomihod/ydnpd-data_gen_agent/r/call/01946b7e-784e-7290-8410-242663f75fdc\n"
     ]
    },
    {
     "name": "stderr",
     "output_type": "stream",
     "text": [
      "OMP: Info #276: omp_set_nested routine deprecated, please use omp_set_max_active_levels instead.\n"
     ]
    },
    {
     "name": "stdout",
     "output_type": "stream",
     "text": [
      "🍩 https://wandb.ai/shlomihod/ydnpd-data_gen_agent/r/call/01946b7e-ceb1-7731-a4de-fc39fe0119fc\n"
     ]
    },
    {
     "name": "stderr",
     "output_type": "stream",
     "text": [
      "OMP: Info #276: omp_set_nested routine deprecated, please use omp_set_max_active_levels instead.\n"
     ]
    },
    {
     "name": "stdout",
     "output_type": "stream",
     "text": [
      "🍩 https://wandb.ai/shlomihod/ydnpd-data_gen_agent/r/call/01946b7f-347c-7f72-9a25-7bfa65bb831d\n"
     ]
    },
    {
     "name": "stderr",
     "output_type": "stream",
     "text": [
      "OMP: Info #276: omp_set_nested routine deprecated, please use omp_set_max_active_levels instead.\n"
     ]
    },
    {
     "name": "stdout",
     "output_type": "stream",
     "text": [
      "🍩 https://wandb.ai/shlomihod/ydnpd-data_gen_agent/r/call/01946b7f-b989-7651-9d32-2a525119c88b\n",
      "📦 Published to https://wandb.ai/shlomihod/ydnpd-data_gen_agent/weave/objects/context/versions/bjZL9XUcOQyiKkRqsUmVPUKGuburOTac2iXYUDhOZaQ\n",
      "🍩 https://wandb.ai/shlomihod/ydnpd-data_gen_agent/r/call/01946b80-39e7-7aa3-90b8-c2e08a70f3e6\n",
      "1\n",
      "🍩 https://wandb.ai/shlomihod/ydnpd-data_gen_agent/r/call/01946b80-8da5-7890-8572-1c9de5345af0\n",
      "🍩 https://wandb.ai/shlomihod/ydnpd-data_gen_agent/r/call/01946b80-9fff-78e1-9225-ddb28f6def7e\n",
      "🍩 https://wandb.ai/shlomihod/ydnpd-data_gen_agent/r/call/01946b80-c064-7652-9350-79b34de622fd\n",
      "🍩 https://wandb.ai/shlomihod/ydnpd-data_gen_agent/r/call/01946b80-d903-7e21-a6ea-fcdbd6296155\n",
      "🍩 https://wandb.ai/shlomihod/ydnpd-data_gen_agent/r/call/01946b80-f39c-7fb3-8f5c-9dba65ce3f5e\n",
      "🍩 https://wandb.ai/shlomihod/ydnpd-data_gen_agent/r/call/01946b81-0f82-7c81-b737-2151fb9b2468\n",
      "🍩 https://wandb.ai/shlomihod/ydnpd-data_gen_agent/r/call/01946b81-0f84-7d90-80f5-d7bf834b484e\n",
      "🍩 https://wandb.ai/shlomihod/ydnpd-data_gen_agent/r/call/01946b81-325f-7f63-b7f0-7a536306f536\n"
     ]
    },
    {
     "name": "stderr",
     "output_type": "stream",
     "text": [
      "OMP: Info #276: omp_set_nested routine deprecated, please use omp_set_max_active_levels instead.\n"
     ]
    },
    {
     "name": "stdout",
     "output_type": "stream",
     "text": [
      "🍩 https://wandb.ai/shlomihod/ydnpd-data_gen_agent/r/call/01946b81-7474-7451-8603-03c0392a640a\n"
     ]
    },
    {
     "name": "stderr",
     "output_type": "stream",
     "text": [
      "OMP: Info #276: omp_set_nested routine deprecated, please use omp_set_max_active_levels instead.\n"
     ]
    },
    {
     "name": "stdout",
     "output_type": "stream",
     "text": [
      "🍩 https://wandb.ai/shlomihod/ydnpd-data_gen_agent/r/call/01946b81-d1c6-75c3-a3cf-f4ad78ea3730\n"
     ]
    },
    {
     "name": "stderr",
     "output_type": "stream",
     "text": [
      "OMP: Info #276: omp_set_nested routine deprecated, please use omp_set_max_active_levels instead.\n"
     ]
    },
    {
     "name": "stdout",
     "output_type": "stream",
     "text": [
      "🍩 https://wandb.ai/shlomihod/ydnpd-data_gen_agent/r/call/01946b82-33f5-7520-880a-ccaae89db6b5\n"
     ]
    },
    {
     "name": "stderr",
     "output_type": "stream",
     "text": [
      "OMP: Info #276: omp_set_nested routine deprecated, please use omp_set_max_active_levels instead.\n"
     ]
    },
    {
     "name": "stdout",
     "output_type": "stream",
     "text": [
      "🍩 https://wandb.ai/shlomihod/ydnpd-data_gen_agent/r/call/01946b82-a8a7-75c2-833c-afe125ac8bd2\n",
      "📦 Published to https://wandb.ai/shlomihod/ydnpd-data_gen_agent/weave/objects/context/versions/c20gmvt76qYN7rkYJpaHpBls90DZtvUVrSMmsrcobXk\n",
      "🍩 https://wandb.ai/shlomihod/ydnpd-data_gen_agent/r/call/01946b83-2382-73e3-a7ec-b13031f32c2b\n",
      "0\n",
      "🍩 https://wandb.ai/shlomihod/ydnpd-data_gen_agent/r/call/01946b83-9770-7db3-a2d1-26ce1d6991f4\n",
      "🍩 https://wandb.ai/shlomihod/ydnpd-data_gen_agent/r/call/01946b83-a495-7d53-93b0-0096654a3d6e\n",
      "🍩 https://wandb.ai/shlomihod/ydnpd-data_gen_agent/r/call/01946b83-aefd-75d2-8f9d-df036e95d489\n",
      "🍩 https://wandb.ai/shlomihod/ydnpd-data_gen_agent/r/call/01946b83-b536-7210-915f-27f7af99dd4a\n",
      "🍩 https://wandb.ai/shlomihod/ydnpd-data_gen_agent/r/call/01946b83-bd36-7e71-b316-87be73e9430a\n",
      "🍩 https://wandb.ai/shlomihod/ydnpd-data_gen_agent/r/call/01946b83-c3fa-70d1-8ed4-09b7cc4a821d\n",
      "🍩 https://wandb.ai/shlomihod/ydnpd-data_gen_agent/r/call/01946b83-c3fc-7f42-b00a-64312366c293\n",
      "🍩 https://wandb.ai/shlomihod/ydnpd-data_gen_agent/r/call/01946b83-d4cd-7e13-acf1-4073434ea679\n",
      "🍩 https://wandb.ai/shlomihod/ydnpd-data_gen_agent/r/call/01946b83-f3c2-70f2-b9aa-bc2a19553f73\n",
      "{'RAC1P': tensor(0), 'SEX': tensor(0), 'EDU': tensor(6), 'MSP': tensor(0), 'PINCP_DECILE': tensor(4), 'OWN_RENT': tensor(0), 'HOUSING_TYPE': tensor(0)}\n"
     ]
    },
    {
     "name": "stderr",
     "output_type": "stream",
     "text": [
      "OMP: Info #276: omp_set_nested routine deprecated, please use omp_set_max_active_levels instead.\n"
     ]
    },
    {
     "name": "stdout",
     "output_type": "stream",
     "text": [
      "{'RAC1P': tensor(0), 'SEX': tensor(0), 'EDU': tensor(6), 'MSP': tensor(0), 'PINCP_DECILE': tensor(4), 'OWN_RENT': tensor(0), 'HOUSING_TYPE': tensor(0)}\n",
      "🍩 https://wandb.ai/shlomihod/ydnpd-data_gen_agent/r/call/01946b83-ff04-7261-a13b-017cec313107\n",
      "{'RAC1P': tensor(1), 'SEX': tensor(1), 'EDU': tensor(6), 'MSP': tensor(1), 'PINCP_DECILE': tensor(4), 'OWN_RENT': tensor(0), 'HOUSING_TYPE': tensor(1)}\n"
     ]
    },
    {
     "name": "stderr",
     "output_type": "stream",
     "text": [
      "OMP: Info #276: omp_set_nested routine deprecated, please use omp_set_max_active_levels instead.\n"
     ]
    },
    {
     "name": "stdout",
     "output_type": "stream",
     "text": [
      "{'RAC1P': tensor(1), 'SEX': tensor(1), 'EDU': tensor(6), 'MSP': tensor(1), 'PINCP_DECILE': tensor(4), 'OWN_RENT': tensor(0), 'HOUSING_TYPE': tensor(1)}\n",
      "🍩 https://wandb.ai/shlomihod/ydnpd-data_gen_agent/r/call/01946b84-2548-7550-aa89-2389e86ab704\n",
      "{'RAC1P': tensor(1), 'SEX': tensor(1), 'EDU': tensor(6), 'MSP': tensor(1), 'PINCP_DECILE': tensor(4), 'OWN_RENT': tensor(0), 'HOUSING_TYPE': tensor(1)}\n"
     ]
    },
    {
     "name": "stderr",
     "output_type": "stream",
     "text": [
      "OMP: Info #276: omp_set_nested routine deprecated, please use omp_set_max_active_levels instead.\n"
     ]
    },
    {
     "name": "stdout",
     "output_type": "stream",
     "text": [
      "{'RAC1P': tensor(1), 'SEX': tensor(1), 'EDU': tensor(6), 'MSP': tensor(1), 'PINCP_DECILE': tensor(4), 'OWN_RENT': tensor(0), 'HOUSING_TYPE': tensor(1)}\n",
      "🍩 https://wandb.ai/shlomihod/ydnpd-data_gen_agent/r/call/01946b84-4f3e-7da3-b840-5910c651bbf3\n",
      "{'RAC1P': tensor(1), 'SEX': tensor(1), 'EDU': tensor(6), 'MSP': tensor(1), 'PINCP_DECILE': tensor(4), 'OWN_RENT': tensor(0), 'HOUSING_TYPE': tensor(1)}\n",
      "📦 Published to https://wandb.ai/shlomihod/ydnpd-data_gen_agent/weave/objects/context/versions/vGvqmMdHlQXllJuJcgaNbNlHZ9cCfJhEXcNbt4Cb3jQ\n",
      "🍩 https://wandb.ai/shlomihod/ydnpd-data_gen_agent/r/call/01946b84-788c-7091-8582-922df5f30578\n",
      "1\n",
      "🍩 https://wandb.ai/shlomihod/ydnpd-data_gen_agent/r/call/01946b84-c699-7cf0-a08b-7bf7cf860d76\n",
      "🍩 https://wandb.ai/shlomihod/ydnpd-data_gen_agent/r/call/01946b84-cacd-71a2-b104-236b2111c99d\n",
      "🍩 https://wandb.ai/shlomihod/ydnpd-data_gen_agent/r/call/01946b84-d66f-7fd0-94fa-edf1cb7891d0\n",
      "🍩 https://wandb.ai/shlomihod/ydnpd-data_gen_agent/r/call/01946b84-df47-7371-af2d-a1b1533abb40\n",
      "🍩 https://wandb.ai/shlomihod/ydnpd-data_gen_agent/r/call/01946b84-e729-7ae2-8c02-0fe1687aeb9a\n",
      "🍩 https://wandb.ai/shlomihod/ydnpd-data_gen_agent/r/call/01946b84-f20b-7c62-be90-a508371a2d4b\n",
      "🍩 https://wandb.ai/shlomihod/ydnpd-data_gen_agent/r/call/01946b84-f20d-7be1-9369-d101ff8457f6\n",
      "🍩 https://wandb.ai/shlomihod/ydnpd-data_gen_agent/r/call/01946b85-1f53-7483-be08-5a7c897d644a\n",
      "🍩 https://wandb.ai/shlomihod/ydnpd-data_gen_agent/r/call/01946b85-6add-7810-8c92-dd6a32277ad2\n",
      "🍩 https://wandb.ai/shlomihod/ydnpd-data_gen_agent/r/call/01946b85-817e-7b73-8b39-9543c2b1e957\n",
      "🍩 https://wandb.ai/shlomihod/ydnpd-data_gen_agent/r/call/01946b85-a8a2-7580-8ca0-ff00bdba2fdc\n",
      "🍩 https://wandb.ai/shlomihod/ydnpd-data_gen_agent/r/call/01946b85-d338-7fa3-ae27-34b10146c15e\n",
      "🍩 https://wandb.ai/shlomihod/ydnpd-data_gen_agent/r/call/01946b85-ff4e-7a11-ae2a-94dee042fd5f\n",
      "🍩 https://wandb.ai/shlomihod/ydnpd-data_gen_agent/r/call/01946b86-2b9f-7843-8d0a-7c378d10f5fe\n",
      "{'SEX': tensor(1.), 'RAC1P': tensor(0), 'EDU': tensor(1), 'MSP': tensor(4), 'PINCP_DECILE': tensor(0), 'OWN_RENT': tensor(0.), 'HOUSING_TYPE': tensor(0)}\n"
     ]
    },
    {
     "name": "stderr",
     "output_type": "stream",
     "text": [
      "OMP: Info #276: omp_set_nested routine deprecated, please use omp_set_max_active_levels instead.\n"
     ]
    },
    {
     "name": "stdout",
     "output_type": "stream",
     "text": [
      "{'SEX': tensor(0.), 'RAC1P': tensor(0), 'EDU': tensor(0), 'MSP': tensor(0), 'PINCP_DECILE': tensor(3), 'OWN_RENT': tensor(0.), 'HOUSING_TYPE': tensor(2)}\n",
      "🍩 https://wandb.ai/shlomihod/ydnpd-data_gen_agent/r/call/01946b86-58e1-7a60-b449-cde49ecec6c8\n",
      "{'SEX': tensor(1.), 'RAC1P': tensor(8), 'EDU': tensor(1), 'MSP': tensor(2), 'PINCP_DECILE': tensor(0), 'OWN_RENT': tensor(1.), 'HOUSING_TYPE': tensor(2)}\n"
     ]
    },
    {
     "name": "stderr",
     "output_type": "stream",
     "text": [
      "OMP: Info #276: omp_set_nested routine deprecated, please use omp_set_max_active_levels instead.\n"
     ]
    },
    {
     "name": "stdout",
     "output_type": "stream",
     "text": [
      "{'SEX': tensor(1.), 'RAC1P': tensor(4), 'EDU': tensor(6), 'MSP': tensor(1), 'PINCP_DECILE': tensor(1), 'OWN_RENT': tensor(2.), 'HOUSING_TYPE': tensor(1)}\n",
      "🍩 https://wandb.ai/shlomihod/ydnpd-data_gen_agent/r/call/01946b86-f92c-74b3-b944-a05bf9ed9e03\n",
      "{'SEX': tensor(1, dtype=torch.int32), 'RAC1P': tensor(1, dtype=torch.int32), 'EDU': tensor(3, dtype=torch.int32), 'MSP': tensor(2, dtype=torch.int32), 'PINCP_DECILE': tensor(1, dtype=torch.int32), 'OWN_RENT': tensor(2, dtype=torch.int32), 'HOUSING_TYPE': tensor(2, dtype=torch.int32)}\n"
     ]
    },
    {
     "name": "stderr",
     "output_type": "stream",
     "text": [
      "OMP: Info #276: omp_set_nested routine deprecated, please use omp_set_max_active_levels instead.\n"
     ]
    },
    {
     "name": "stdout",
     "output_type": "stream",
     "text": [
      "{'SEX': tensor(1, dtype=torch.int32), 'RAC1P': tensor(1, dtype=torch.int32), 'EDU': tensor(7, dtype=torch.int32), 'MSP': tensor(4, dtype=torch.int32), 'PINCP_DECILE': tensor(0, dtype=torch.int32), 'OWN_RENT': tensor(2, dtype=torch.int32), 'HOUSING_TYPE': tensor(2, dtype=torch.int32)}\n",
      "🍩 https://wandb.ai/shlomihod/ydnpd-data_gen_agent/r/call/01946b87-a580-76e3-911a-34262342cf16\n"
     ]
    }
   ],
   "source": [
    "results = []\n",
    "\n",
    "for specificaion_version, specification in enumerate(SPECIFICATIONS):\n",
    "\n",
    "    for llm_path in LLM_PATHS:\n",
    "        \n",
    "        if specificaion_version == 1 and \"o1-\" in llm_path:\n",
    "            continue\n",
    "\n",
    "        llm_kwargs = {\"llm_path\": llm_path,\n",
    "                        \"llm_temperature\": llm_temperature,\n",
    "                        \"verbose\": False}\n",
    "\n",
    "        produced_datasets, *_ = produce_datasets(PRIVATE_DATASET,\n",
    "                                            specification,\n",
    "                                            NUM_SAMPLES,\n",
    "                                            NUM_DATASETS,\n",
    "                                            **llm_kwargs)\n",
    "        for dataset in produced_datasets:\n",
    "            results.append({\"llm_path\": llm_path,\n",
    "                            \"specificaion_version\": specificaion_version,\n",
    "                            \"dataset\": dataset})"
   ]
  },
  {
   "cell_type": "code",
   "execution_count": null,
   "metadata": {},
   "outputs": [],
   "source": [
    "results"
   ]
  },
  {
   "cell_type": "code",
   "execution_count": null,
   "metadata": {},
   "outputs": [],
   "source": [
    "# with open(\"llm-datasets.pkl\", \"wb\") as f:\n",
    "#     pickle.dump(results, f)\n",
    "\n",
    "# with open(\"llm-datasets.pkl\", \"rb\") as f:\n",
    "#     results = pickle.load(f)"
   ]
  },
  {
   "cell_type": "code",
   "execution_count": null,
   "metadata": {},
   "outputs": [],
   "source": [
    "llm_datasets = {}\n",
    "\n",
    "llm_gorupby = pd.DataFrame(results).groupby([\"llm_name\", \"llm_temperature\", \"specificaion_version\"])\n",
    "\n",
    "for key, group in llm_gorupby:\n",
    "    name = \"-\".join(map(str, key))\n",
    "\n",
    "    display(Markdown(f\"## {name}\"))\n",
    "\n",
    "    group_llm_datasets = {}\n",
    "\n",
    "    for i, (_, row) in enumerate(group.iterrows()):\n",
    "        group_llm_datasets[f\"{name}-{i}\"] = row[\"dataset\"]\n",
    "    \n",
    "    fig, _ = plot_dataset_selection(list(group_llm_datasets.values()))\n",
    "    display(fig)\n",
    "\n",
    "    llm_datasets |= group_llm_datasets\n",
    "\n",
    "plot_dataset_selection(list(llm_datasets.values()));"
   ]
  },
  {
   "cell_type": "code",
   "execution_count": 6,
   "metadata": {},
   "outputs": [],
   "source": [
    "MIXTURE_MAX_COV_OVERALL_NUM_DATASETS = 10\n",
    "MIXTURE_MAX_COV_PER_GROUP_NUM_DATASETS = 5\n",
    "\n",
    "mixture_llm_datasets = {\n",
    "    \"MIX-UNIF\": mix_datasets(list(llm_datasets.values()), NUM_SAMPLES, \"uniform\"),\n",
    "    \"MIX-MAX\": mix_datasets(list(llm_datasets.values()), NUM_SAMPLES, \"max_coverage\", MIXTURE_MAX_COV_OVERALL_NUM_DATASETS)\n",
    "\n",
    "}\n",
    "\n",
    "for key, group in llm_gorupby:\n",
    "    name = \"-\".join(map(str, key))\n",
    "\n",
    "    mixture_llm_datasets[f\"{name}-MIX-UNIF\"] = mix_datasets(list(group[\"dataset\"]), NUM_SAMPLES, \"uniform\")\n",
    "    mixture_llm_datasets[f\"{name}-MIX-MAX\"] = mix_datasets(list(group[\"dataset\"]), NUM_SAMPLES, \"max_coverage\", MIXTURE_MAX_COV_PER_GROUP_NUM_DATASETS)\n",
    "\n",
    "\n",
    "llm_datasets |= mixture_llm_datasets"
   ]
  },
  {
   "cell_type": "code",
   "execution_count": null,
   "metadata": {},
   "outputs": [],
   "source": [
    "datasets = {\n",
    "    name.split(\"/\")[1]: load_dataset(name)[0]\n",
    "    for name in ALL_EXPERIMENTS[FAMILY].dev_names\n",
    "} | llm_datasets\n",
    "\n",
    "plot_distribution_distances(datasets)"
   ]
  },
  {
   "cell_type": "code",
   "execution_count": 10,
   "metadata": {},
   "outputs": [],
   "source": [
    "for name, df in datasets.items():\n",
    "    if \"MIX\" in name:\n",
    "        df.to_csv(f\"llm_datasets/{FAMILY}/{name.replace('.','_')}.csv\")"
   ]
  }
 ],
 "metadata": {
  "kernelspec": {
   "display_name": "ydnpd",
   "language": "python",
   "name": "python3"
  },
  "language_info": {
   "codemirror_mode": {
    "name": "ipython",
    "version": 3
   },
   "file_extension": ".py",
   "mimetype": "text/x-python",
   "name": "python",
   "nbconvert_exporter": "python",
   "pygments_lexer": "ipython3",
   "version": "3.10.16"
  }
 },
 "nbformat": 4,
 "nbformat_minor": 2
}
