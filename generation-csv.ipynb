{
 "cells": [
  {
   "cell_type": "code",
   "execution_count": null,
   "metadata": {},
   "outputs": [],
   "source": [
    "import pickle\n",
    "\n",
    "import pandas as pd\n",
    "import weave\n",
    "from IPython.display import display, Markdown\n",
    "\n",
    "from ydnpd.generation.agent.specifications import *\n",
    "from ydnpd.generation.config import LLM_PATHS\n",
    "from ydnpd.harness import ALL_EXPERIMENTS\n",
    "from ydnpd.generation.csv import generate_csv\n",
    "\n",
    "weave.init(\"ydnpd-data_gen_csv\")"
   ]
  },
  {
   "cell_type": "code",
   "execution_count": 2,
   "metadata": {},
   "outputs": [],
   "source": [
    "PRIVATE_DATASET = \"acs/national\""
   ]
  },
  {
   "cell_type": "code",
   "execution_count": null,
   "metadata": {},
   "outputs": [],
   "source": [
    "results = []\n",
    "\n",
    "for llm_path in LLM_PATHS:\n",
    "    \n",
    "    display(Markdown(f\"## {llm_path}\"))\n",
    "    \n",
    "    dataset = generate_csv(\n",
    "        PRIVATE_DATASET,\n",
    "        verbose=True\n",
    "    )        \n",
    "    results.append({\"llm_path\": llm_path,\n",
    "                    \"dataset\": dataset})"
   ]
  },
  {
   "cell_type": "code",
   "execution_count": null,
   "metadata": {},
   "outputs": [],
   "source": [
    "results"
   ]
  },
  {
   "cell_type": "code",
   "execution_count": null,
   "metadata": {},
   "outputs": [],
   "source": [
    "# with open(\"llm-datasets.pkl\", \"wb\") as f:\n",
    "#     pickle.dump(results, f)\n",
    "\n",
    "# with open(\"llm-datasets.pkl\", \"rb\") as f:\n",
    "#     results = pickle.load(f)"
   ]
  },
  {
   "cell_type": "code",
   "execution_count": null,
   "metadata": {},
   "outputs": [],
   "source": [
    "llm_datasets = {}\n",
    "\n",
    "llm_gorupby = pd.DataFrame(results).groupby([\"llm_name\", \"llm_temperature\", \"specificaion_version\"])\n",
    "\n",
    "for key, group in llm_gorupby:\n",
    "    name = \"-\".join(map(str, key))\n",
    "\n",
    "    display(Markdown(f\"## {name}\"))\n",
    "\n",
    "    group_llm_datasets = {}\n",
    "\n",
    "    for i, (_, row) in enumerate(group.iterrows()):\n",
    "        group_llm_datasets[f\"{name}-{i}\"] = row[\"dataset\"]\n",
    "    \n",
    "    fig, _ = plot_dataset_selection(list(group_llm_datasets.values()))\n",
    "    display(fig)\n",
    "\n",
    "    llm_datasets |= group_llm_datasets\n",
    "\n",
    "plot_dataset_selection(list(llm_datasets.values()));"
   ]
  },
  {
   "cell_type": "code",
   "execution_count": 6,
   "metadata": {},
   "outputs": [],
   "source": [
    "MIXTURE_MAX_COV_OVERALL_NUM_DATASETS = 10\n",
    "MIXTURE_MAX_COV_PER_GROUP_NUM_DATASETS = 5\n",
    "\n",
    "mixture_llm_datasets = {\n",
    "    \"MIX-UNIF\": mix_datasets(list(llm_datasets.values()), NUM_SAMPLES, \"uniform\"),\n",
    "    \"MIX-MAX\": mix_datasets(list(llm_datasets.values()), NUM_SAMPLES, \"max_coverage\", MIXTURE_MAX_COV_OVERALL_NUM_DATASETS)\n",
    "\n",
    "}\n",
    "\n",
    "for key, group in llm_gorupby:\n",
    "    name = \"-\".join(map(str, key))\n",
    "\n",
    "    mixture_llm_datasets[f\"{name}-MIX-UNIF\"] = mix_datasets(list(group[\"dataset\"]), NUM_SAMPLES, \"uniform\")\n",
    "    mixture_llm_datasets[f\"{name}-MIX-MAX\"] = mix_datasets(list(group[\"dataset\"]), NUM_SAMPLES, \"max_coverage\", MIXTURE_MAX_COV_PER_GROUP_NUM_DATASETS)\n",
    "\n",
    "\n",
    "llm_datasets |= mixture_llm_datasets"
   ]
  },
  {
   "cell_type": "code",
   "execution_count": null,
   "metadata": {},
   "outputs": [],
   "source": [
    "datasets = {\n",
    "    name.split(\"/\")[1]: load_dataset(name)[0]\n",
    "    for name in ALL_EXPERIMENTS[FAMILY].dev_names\n",
    "} | llm_datasets\n",
    "\n",
    "plot_distribution_distances(datasets)"
   ]
  },
  {
   "cell_type": "code",
   "execution_count": 10,
   "metadata": {},
   "outputs": [],
   "source": [
    "for name, df in datasets.items():\n",
    "    if \"MIX\" in name:\n",
    "        df.to_csv(f\"llm_datasets/{FAMILY}/{name.replace('.','_')}.csv\")"
   ]
  }
 ],
 "metadata": {
  "kernelspec": {
   "display_name": "ydnpd",
   "language": "python",
   "name": "python3"
  },
  "language_info": {
   "codemirror_mode": {
    "name": "ipython",
    "version": 3
   },
   "file_extension": ".py",
   "mimetype": "text/x-python",
   "name": "python",
   "nbconvert_exporter": "python",
   "pygments_lexer": "ipython3",
   "version": "3.10.16"
  }
 },
 "nbformat": 4,
 "nbformat_minor": 2
}
