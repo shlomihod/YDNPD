{
 "cells": [
  {
   "cell_type": "code",
   "execution_count": 1,
   "metadata": {},
   "outputs": [],
   "source": [
    "from pathlib import Path\n",
    "\n",
    "import pandas as pd\n",
    "\n",
    "from ydnpd.generation.agent.specifications import *\n",
    "from ydnpd.harness import ALL_EXPERIMENTS\n",
    "from ydnpd import load_dataset"
   ]
  },
  {
   "cell_type": "code",
   "execution_count": 2,
   "metadata": {},
   "outputs": [],
   "source": [
    "# Constants\n",
    "SEED = 42\n",
    "DATASET_SIZE_MAPPING = {\n",
    "    'acs': len(load_dataset('acs/national')[0]),\n",
    "    'edad': len(load_dataset('edad/2023')[0]),\n",
    "    'we': len(load_dataset('we/2023')[0])\n",
    "}"
   ]
  },
  {
   "cell_type": "code",
   "execution_count": 3,
   "metadata": {},
   "outputs": [],
   "source": [
    "# Setup paths\n",
    "source_dir = Path('./llm_datasets/results/sd-scm')\n",
    "output_base_dir = Path('./llm_datasets')"
   ]
  },
  {
   "cell_type": "code",
   "execution_count": 4,
   "metadata": {},
   "outputs": [],
   "source": [
    "# Process all relevant files\n",
    "for file_path in source_dir.glob('*_1000.csv'):\n",
    "    # Parse filename\n",
    "    dataset_family, llm_family, size = file_path.stem.split('_')\n",
    "    \n",
    "    if size != '1000':  # Extra validation\n",
    "        continue\n",
    "\n",
    "    # !!! TODO CHECK IF CHANGING DATASETS !!!\n",
    "    index_col = None if dataset_family == \"we\" else 0\n",
    "\n",
    "    # Read the source data\n",
    "    df = pd.read_csv(file_path, index_col=index_col)\n",
    "    \n",
    "    # Get target size for this family\n",
    "    target_size = DATASET_SIZE_MAPPING[dataset_family]\n",
    "    \n",
    "    # Resample\n",
    "    resampled_df = df.sample(n=target_size, random_state=SEED, replace=True)\n",
    "    \n",
    "    # Setup output path\n",
    "    output_dir = output_base_dir / dataset_family\n",
    "    output_path = output_dir / f'sdscm-{llm_family}.csv'\n",
    "    \n",
    "    # Save\n",
    "    resampled_df.to_csv(output_path, index=False)"
   ]
  }
 ],
 "metadata": {
  "kernelspec": {
   "display_name": "shlomi-yndpd",
   "language": "python",
   "name": "python3"
  },
  "language_info": {
   "codemirror_mode": {
    "name": "ipython",
    "version": 3
   },
   "file_extension": ".py",
   "mimetype": "text/x-python",
   "name": "python",
   "nbconvert_exporter": "python",
   "pygments_lexer": "ipython3",
   "version": "3.10.16"
  }
 },
 "nbformat": 4,
 "nbformat_minor": 2
}
