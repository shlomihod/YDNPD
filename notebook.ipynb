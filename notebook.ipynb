{
 "cells": [
  {
   "cell_type": "code",
   "execution_count": null,
   "metadata": {},
   "outputs": [],
   "source": [
    "import pickle\n",
    "import itertools as it\n",
    "import os\n",
    "os.environ[\"PRIVBAYES_BIN\"] = \"./ydnpd/synthesis/privbayes\"\n",
    "\n",
    "import ray\n",
    "from matplotlib import pyplot as plt\n",
    "from IPython.display import display, Markdown\n",
    "\n",
    "\n",
    "import ydnpd"
   ]
  },
  {
   "cell_type": "code",
   "execution_count": null,
   "metadata": {},
   "outputs": [],
   "source": [
    "for idx, task in enumerate(ydnpd.span_hparam_tasks(), start=1):\n",
    "    print(f\"{idx:2} {task}\")"
   ]
  },
  {
   "cell_type": "markdown",
   "metadata": {},
   "source": [
    "## Execute Tasks"
   ]
  },
  {
   "cell_type": "code",
   "execution_count": null,
   "metadata": {},
   "outputs": [],
   "source": [
    "hparams_tasks = ydnpd.span_hparam_ray_tasks()\n",
    "hparam_tasks_results = ray.get(hparams_tasks)\n",
    "hparam_tasks_results = list(it.chain(*hparam_tasks_results))"
   ]
  },
  {
   "cell_type": "code",
   "execution_count": null,
   "metadata": {},
   "outputs": [],
   "source": [
    "pickle.dump(hparam_tasks_results, open(\"hparam_tasks_results.pkl\", \"wb\"))\n",
    "# hparam_tasks_results = pickle.load(open(\"hparam_tasks_results.pkl\", \"rb\"))"
   ]
  },
  {
   "cell_type": "markdown",
   "metadata": {},
   "source": [
    "## Utility-Related Tasks"
   ]
  },
  {
   "cell_type": "code",
   "execution_count": null,
   "metadata": {},
   "outputs": [],
   "source": [
    "METRICS = [\"marginals_3_max_abs_diff_error\", \"marginals_3_total_abs_diff_error\", \"accuracy_diff\"]"
   ]
  },
  {
   "cell_type": "code",
   "execution_count": null,
   "metadata": {},
   "outputs": [],
   "source": [
    "for metric in METRICS:\n",
    "    display(Markdown(f\"## {metric}\"))\n",
    "    \n",
    "    g1, g2 = ydnpd.UtilityTask.plot(hparam_tasks_results, ydnpd.config.EXPERIMENTS,\n",
    "                    metric=metric)\n",
    "    display(g1.fig)\n",
    "    plt.close(g1.fig)\n",
    "\n",
    "    display(g2.fig)\n",
    "    plt.close(g2.fig)\n"
   ]
  },
  {
   "cell_type": "code",
   "execution_count": null,
   "metadata": {},
   "outputs": [],
   "source": [
    "for metric in METRICS:\n",
    "    display(Markdown(f\"## {metric}\"))\n",
    "    \n",
    "    display(ydnpd.UtilityTask.evaluate(hparam_tasks_results, ydnpd.config.EXPERIMENTS, metric))"
   ]
  }
 ],
 "metadata": {
  "kernelspec": {
   "display_name": "sdnist",
   "language": "python",
   "name": "python3"
  },
  "language_info": {
   "codemirror_mode": {
    "name": "ipython",
    "version": 3
   },
   "file_extension": ".py",
   "mimetype": "text/x-python",
   "name": "python",
   "nbconvert_exporter": "python",
   "pygments_lexer": "ipython3",
   "version": "3.10.14"
  }
 },
 "nbformat": 4,
 "nbformat_minor": 2
}
