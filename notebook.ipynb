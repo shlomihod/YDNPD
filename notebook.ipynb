{
 "cells": [
  {
   "cell_type": "code",
   "execution_count": null,
   "metadata": {},
   "outputs": [],
   "source": [
    "import pickle\n",
    "import os\n",
    "os.environ[\"PRIVBAYES_BIN\"] = \"./ydnpd/synthesis/privbayes\"\n",
    "\n",
    "import ray\n",
    "from IPython.display import display, Markdown\n",
    "\n",
    "import ydnpd"
   ]
  },
  {
   "cell_type": "code",
   "execution_count": null,
   "metadata": {},
   "outputs": [],
   "source": [
    "ray.init()"
   ]
  },
  {
   "cell_type": "code",
   "execution_count": null,
   "metadata": {},
   "outputs": [],
   "source": [
    "print(f\"Task sizes: {[task.size() for task in ydnpd.span_hparam_tasks()]}\")"
   ]
  },
  {
   "cell_type": "markdown",
   "metadata": {},
   "source": [
    "## Execute Tasks"
   ]
  },
  {
   "cell_type": "code",
   "execution_count": null,
   "metadata": {},
   "outputs": [],
   "source": [
    "flatten_hparam_tasks_results = ray.get(ydnpd.span_hparam_ray_tasks())"
   ]
  },
  {
   "cell_type": "code",
   "execution_count": null,
   "metadata": {},
   "outputs": [],
   "source": [
    "pickle.dump(flatten_hparam_tasks_results, open(\"flatten_hparam_tasks_results.pkl\", \"wb\"))"
   ]
  },
  {
   "cell_type": "code",
   "execution_count": null,
   "metadata": {},
   "outputs": [],
   "source": [
    "hparam_tasks_results = ydnpd.collect_hparam_runs(flatten_hparam_tasks_results)"
   ]
  },
  {
   "cell_type": "markdown",
   "metadata": {},
   "source": [
    "## Task: Hyperparameter Search"
   ]
  },
  {
   "cell_type": "code",
   "execution_count": null,
   "metadata": {},
   "outputs": [],
   "source": [
    "for synth_name, (hparam_task, hparam_results) in hparam_tasks_results.items():\n",
    "\n",
    "    for dev_name, test_name in ydnpd.config.EXPERIMENTS:\n",
    "        \n",
    "        display(Markdown(f\"## {synth_name}: {dev_name} × {test_name}\"))\n",
    "\n",
    "        hparam_task.plot(hparam_results,\n",
    "                         dev_name=dev_name,\n",
    "                         test_name=test_name,\n",
    "                         metric=\"marginals_up_to_3_max_abs_diff_errors\")"
   ]
  },
  {
   "cell_type": "markdown",
   "metadata": {},
   "source": [
    "## Task: Privacy-Utility Trade-off"
   ]
  },
  {
   "cell_type": "code",
   "execution_count": null,
   "metadata": {},
   "outputs": [],
   "source": [
    "for synth_name, (hparam_task, hparam_results) in hparam_tasks_results.items():\n",
    "\n",
    "    tradeoff_task = ydnpd.PrivacyUtilityTradeoffTask(hparam_task)\n",
    "    \n",
    "    for dev_name, test_name in ydnpd.config.EXPERIMENTS:\n",
    "        \n",
    "        display(Markdown(f\"## {synth_name}: {dev_name} × {test_name}\"))\n",
    "\n",
    "        tradeoff_task.plot(hparam_results,\n",
    "                           dev_name=dev_name,\n",
    "                           test_name=test_name,\n",
    "                           metric=\"thresholded_marginals_up_to_3_max_abs_diff_errors\")"
   ]
  }
 ],
 "metadata": {
  "kernelspec": {
   "display_name": "sdnist",
   "language": "python",
   "name": "python3"
  },
  "language_info": {
   "codemirror_mode": {
    "name": "ipython",
    "version": 3
   },
   "file_extension": ".py",
   "mimetype": "text/x-python",
   "name": "python",
   "nbconvert_exporter": "python",
   "pygments_lexer": "ipython3",
   "version": "3.10.14"
  }
 },
 "nbformat": 4,
 "nbformat_minor": 2
}
