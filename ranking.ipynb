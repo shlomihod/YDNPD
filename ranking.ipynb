{
 "cells": [
  {
   "cell_type": "code",
   "execution_count": 1,
   "metadata": {},
   "outputs": [
    {
     "name": "stderr",
     "output_type": "stream",
     "text": [
      "/Users/lucasrosenblatt/opt/miniconda3/envs/fairly_uncertain/lib/python3.10/site-packages/tqdm/auto.py:21: TqdmWarning: IProgress not found. Please update jupyter and ipywidgets. See https://ipywidgets.readthedocs.io/en/stable/user_install.html\n",
      "  from .autonotebook import tqdm as notebook_tqdm\n",
      "2025-01-24 07:36:37,885\tINFO util.py:154 -- Missing packages: ['ipywidgets']. Run `pip install -U ipywidgets`, then restart the notebook server for rich notebook output.\n"
     ]
    }
   ],
   "source": [
    "import os\n",
    "import glob\n",
    "import pickle\n",
    "import time\n",
    "\n",
    "os.environ[\"PRIVBAYES_BIN\"] = \"./ydnpd/harness/synthesis/privbayes/mac_bin\"\n",
    "\n",
    "import numpy as np\n",
    "import pandas as pd\n",
    "from matplotlib import pyplot as plt\n",
    "from IPython.display import display, Markdown\n",
    "\n",
    "\n",
    "import ydnpd\n",
    "from additional import ADDITIONAL_EXPERIMENTS, ADDITIONAL_PATH\n",
    "from ydnpd import EVALUATION_METRICS, ALL_EXPERIMENTS, Experiments\n",
    "\n",
    "ADDITIONAL_DATASETS = sum(list(ADDITIONAL_EXPERIMENTS.values()), [])\n",
    "\n",
    "with open(\"./results/harness.pkl\", \"rb\") as f:\n",
    "    utility_tasks_results = pickle.load(f)\n",
    "\n",
    "for x in utility_tasks_results:\n",
    "    if type(x[\"evaluation\"][\"error_rate_diff\"]) == list:\n",
    "        assert len(x[\"evaluation\"][\"error_rate_diff\"]) == 1\n",
    "        x[\"evaluation\"][\"error_rate_diff\"] = x[\"evaluation\"][\"error_rate_diff\"][0]\n",
    "\n",
    "ALL_EXPERIMENTS_SIMPLIFIED = {name: exp.dev_names for name, exp in ALL_EXPERIMENTS.items()}\n",
    "ADDITIONAL_EXPERIMENTS_SIMPLIFIED = {name: [x[0] for x in exp] for name, exp in ADDITIONAL_EXPERIMENTS.items()}\n",
    "ALL_EXPERIMENTS_SIMPLIFIED_MERGED = {\n",
    "    name: ADDITIONAL_EXPERIMENTS_SIMPLIFIED.get(name, []) + dev_names\n",
    "    for name, dev_names in ALL_EXPERIMENTS_SIMPLIFIED.items()\n",
    "}\n",
    "\n",
    "reference_data_mapping = {\n",
    "    \"acs\": \"acs/national\",\n",
    "    \"edad\": \"edad/2023\",\n",
    "    \"we\": \"we/2023\"\n",
    "}\n",
    "\n",
    "ALL_EXPERIMENTS_OBJ = {\n",
    "    name: Experiments(reference_data_mapping.get(name, \"\"), dev_names)\n",
    "    for name, dev_names in ALL_EXPERIMENTS_SIMPLIFIED_MERGED.items()\n",
    "}\n",
    "\n",
    "# remove all the real data and public data baselines,\n",
    "# and now the MIX data\n",
    "to_remove = [\n",
    "    # 'acs/national',\n",
    "    # 'edad/2023',\n",
    "    # 'we/2023',\n",
    "    'acs/massachusetts_upsampled',\n",
    "    'edad/2020',\n",
    "    'we/2018',\n",
    "    ## MIX data\n",
    "    # 'edad/gen-MIX-MAX',\n",
    "    # 'acs/gen-MIX-MAX',\n",
    "    # 'we/gen-MIX-MAX',\n",
    "    # 'acs/gen-llama-MIX-MAX',\n",
    "    # 'edad/gen-llama-MIX-MAX',\n",
    "    # 'we/gen-llama-MIX-MAX',\n",
    "    # 'acs/gen-claude-MIX-MAX',\n",
    "    # 'edad/gen-claude-MIX-MAX',\n",
    "    # 'we/gen-claude-MIX-MAX',\n",
    "    # 'acs/gen-gpt-MIX-MAX',\n",
    "    # 'edad/gen-gpt-MIX-MAX',\n",
    "    # 'we/gen-gpt-MIX-MAX',\n",
    "]\n",
    "\n",
    "ALL_EXPERIMENTS_OBJ = {\n",
    "    name: Experiments(exp.test_name, [dev for dev in exp.dev_names if dev not in to_remove])\n",
    "    for name, exp in ALL_EXPERIMENTS_OBJ.items()\n",
    "}\n",
    "\n",
    "METRIC_DIRECTION = {\n",
    "    \"total_variation_distance\": \"closer_to_zero_is_better\",\n",
    "    \"marginals_3_max_abs_diff_error\": \"closer_to_zero_is_better\",\n",
    "    \"marginals_3_avg_abs_diff_error\": \"closer_to_zero_is_better\",\n",
    "    \"thresholded_marginals_3_max_abs_diff_error\": \"closer_to_zero_is_better\",\n",
    "    \"thresholded_marginals_3_avg_abs_diff_error\": \"closer_to_zero_is_better\",\n",
    "    \"pearson_corr_max_abs_diff\": \"closer_to_zero_is_better\",\n",
    "    \"pearson_corr_avg_abs_diff\": \"closer_to_zero_is_better\",\n",
    "    \"cramer_v_corr_max_abs_diff\": \"closer_to_zero_is_better\",\n",
    "    \"cramer_v_corr_avg_abs_diff\": \"closer_to_zero_is_better\",\n",
    "    \"error_rate_diff\": \"closer_to_zero_is_better\",  \n",
    "    \"error_rate_train_dataset\": \"closer_to_zero_is_better\",\n",
    "    \"error_rate_synth_dataset\": \"closer_to_zero_is_better\",\n",
    "    \"aoc_diff\": \"closer_to_zero_is_better\",     \n",
    "    \"aoc_train_dataset\": \"higher_is_better\",\n",
    "    \"aoc_synth_dataset\": \"higher_is_better\",\n",
    "}\n"
   ]
  },
  {
   "cell_type": "code",
   "execution_count": 2,
   "metadata": {},
   "outputs": [
    {
     "data": {
      "text/plain": [
       "{'acs': Experiments(test_name='acs/national', dev_names=['acs/gen-MIX-MAX', 'acs/csv-gpt', 'acs/gen-gpt-MIX-MAX', 'acs/sdscm-gpt2', 'acs/gen-llama-MIX-MAX', 'acs/sdscm-olmo-1b-hf', 'acs/gen-gpt-MIX-UNIF', 'acs/gen-claude-MIX-MAX', 'acs/csv-claude', 'acs/gen-claude-MIX-UNIF', 'acs/gen-MIX-UNIF', 'acs/gen-llama-MIX-UNIF', 'acs/sdscm-llama-3-8b', 'acs/csv-llama', 'acs/baseline_univariate', 'acs/baseline_domain', 'acs/arbitrary']),\n",
       " 'edad': Experiments(test_name='edad/2023', dev_names=['edad/gen-MIX-MAX', 'edad/csv-gpt', 'edad/gen-gpt-MIX-MAX', 'edad/sdscm-gpt2', 'edad/gen-llama-MIX-MAX', 'edad/sdscm-olmo-1b-hf', 'edad/gen-gpt-MIX-UNIF', 'edad/gen-claude-MIX-MAX', 'edad/csv-claude', 'edad/gen-claude-MIX-UNIF', 'edad/gen-MIX-UNIF', 'edad/gen-llama-MIX-UNIF', 'edad/sdscm-llama-3-8b', 'edad/csv-llama', 'edad/baseline_univariate', 'edad/baseline_domain', 'edad/arbitrary']),\n",
       " 'we': Experiments(test_name='we/2023', dev_names=['we/gen-MIX-MAX', 'we/csv-gpt', 'we/gen-gpt-MIX-MAX', 'we/sdscm-gpt2', 'we/gen-llama-MIX-MAX', 'we/sdscm-olmo-1b-hf', 'we/gen-gpt-MIX-UNIF', 'we/gen-claude-MIX-MAX', 'we/csv-claude', 'we/gen-claude-MIX-UNIF', 'we/gen-MIX-UNIF', 'we/gen-llama-MIX-UNIF', 'we/sdscm-llama-3-8b', 'we/csv-llama', 'we/baseline_univariate', 'we/baseline_domain', 'we/arbitrary'])}"
      ]
     },
     "execution_count": 2,
     "metadata": {},
     "output_type": "execute_result"
    }
   ],
   "source": [
    "ALL_EXPERIMENTS_OBJ"
   ]
  },
  {
   "cell_type": "markdown",
   "metadata": {},
   "source": [
    "## Absolute rankings"
   ]
  },
  {
   "cell_type": "code",
   "execution_count": 3,
   "metadata": {},
   "outputs": [
    {
     "data": {
      "text/markdown": [
       "## ACS"
      ],
      "text/plain": [
       "<IPython.core.display.Markdown object>"
      ]
     },
     "metadata": {},
     "output_type": "display_data"
    },
    {
     "data": {
      "text/markdown": [
       "### total_variation_distance"
      ],
      "text/plain": [
       "<IPython.core.display.Markdown object>"
      ]
     },
     "metadata": {},
     "output_type": "display_data"
    },
    {
     "data": {
      "text/markdown": [
       "### marginals_3_max_abs_diff_error"
      ],
      "text/plain": [
       "<IPython.core.display.Markdown object>"
      ]
     },
     "metadata": {},
     "output_type": "display_data"
    },
    {
     "data": {
      "text/markdown": [
       "### marginals_3_avg_abs_diff_error"
      ],
      "text/plain": [
       "<IPython.core.display.Markdown object>"
      ]
     },
     "metadata": {},
     "output_type": "display_data"
    },
    {
     "data": {
      "text/markdown": [
       "### thresholded_marginals_3_max_abs_diff_error"
      ],
      "text/plain": [
       "<IPython.core.display.Markdown object>"
      ]
     },
     "metadata": {},
     "output_type": "display_data"
    },
    {
     "data": {
      "text/markdown": [
       "### thresholded_marginals_3_avg_abs_diff_error"
      ],
      "text/plain": [
       "<IPython.core.display.Markdown object>"
      ]
     },
     "metadata": {},
     "output_type": "display_data"
    },
    {
     "data": {
      "text/markdown": [
       "### pearson_corr_max_abs_diff"
      ],
      "text/plain": [
       "<IPython.core.display.Markdown object>"
      ]
     },
     "metadata": {},
     "output_type": "display_data"
    },
    {
     "data": {
      "text/markdown": [
       "### pearson_corr_avg_abs_diff"
      ],
      "text/plain": [
       "<IPython.core.display.Markdown object>"
      ]
     },
     "metadata": {},
     "output_type": "display_data"
    },
    {
     "data": {
      "text/markdown": [
       "### cramer_v_corr_max_abs_diff"
      ],
      "text/plain": [
       "<IPython.core.display.Markdown object>"
      ]
     },
     "metadata": {},
     "output_type": "display_data"
    },
    {
     "data": {
      "text/markdown": [
       "### cramer_v_corr_avg_abs_diff"
      ],
      "text/plain": [
       "<IPython.core.display.Markdown object>"
      ]
     },
     "metadata": {},
     "output_type": "display_data"
    },
    {
     "data": {
      "text/markdown": [
       "### error_rate_diff"
      ],
      "text/plain": [
       "<IPython.core.display.Markdown object>"
      ]
     },
     "metadata": {},
     "output_type": "display_data"
    },
    {
     "data": {
      "text/markdown": [
       "### error_rate_train_dataset"
      ],
      "text/plain": [
       "<IPython.core.display.Markdown object>"
      ]
     },
     "metadata": {},
     "output_type": "display_data"
    },
    {
     "data": {
      "text/markdown": [
       "### error_rate_synth_dataset"
      ],
      "text/plain": [
       "<IPython.core.display.Markdown object>"
      ]
     },
     "metadata": {},
     "output_type": "display_data"
    },
    {
     "data": {
      "text/markdown": [
       "### aoc_diff"
      ],
      "text/plain": [
       "<IPython.core.display.Markdown object>"
      ]
     },
     "metadata": {},
     "output_type": "display_data"
    },
    {
     "data": {
      "text/markdown": [
       "### aoc_train_dataset"
      ],
      "text/plain": [
       "<IPython.core.display.Markdown object>"
      ]
     },
     "metadata": {},
     "output_type": "display_data"
    },
    {
     "data": {
      "text/markdown": [
       "### aoc_synth_dataset"
      ],
      "text/plain": [
       "<IPython.core.display.Markdown object>"
      ]
     },
     "metadata": {},
     "output_type": "display_data"
    },
    {
     "data": {
      "text/markdown": [
       "## EDAD"
      ],
      "text/plain": [
       "<IPython.core.display.Markdown object>"
      ]
     },
     "metadata": {},
     "output_type": "display_data"
    },
    {
     "data": {
      "text/markdown": [
       "### total_variation_distance"
      ],
      "text/plain": [
       "<IPython.core.display.Markdown object>"
      ]
     },
     "metadata": {},
     "output_type": "display_data"
    },
    {
     "data": {
      "text/markdown": [
       "### marginals_3_max_abs_diff_error"
      ],
      "text/plain": [
       "<IPython.core.display.Markdown object>"
      ]
     },
     "metadata": {},
     "output_type": "display_data"
    },
    {
     "data": {
      "text/markdown": [
       "### marginals_3_avg_abs_diff_error"
      ],
      "text/plain": [
       "<IPython.core.display.Markdown object>"
      ]
     },
     "metadata": {},
     "output_type": "display_data"
    },
    {
     "data": {
      "text/markdown": [
       "### thresholded_marginals_3_max_abs_diff_error"
      ],
      "text/plain": [
       "<IPython.core.display.Markdown object>"
      ]
     },
     "metadata": {},
     "output_type": "display_data"
    },
    {
     "data": {
      "text/markdown": [
       "### thresholded_marginals_3_avg_abs_diff_error"
      ],
      "text/plain": [
       "<IPython.core.display.Markdown object>"
      ]
     },
     "metadata": {},
     "output_type": "display_data"
    },
    {
     "data": {
      "text/markdown": [
       "### pearson_corr_max_abs_diff"
      ],
      "text/plain": [
       "<IPython.core.display.Markdown object>"
      ]
     },
     "metadata": {},
     "output_type": "display_data"
    },
    {
     "data": {
      "text/markdown": [
       "### pearson_corr_avg_abs_diff"
      ],
      "text/plain": [
       "<IPython.core.display.Markdown object>"
      ]
     },
     "metadata": {},
     "output_type": "display_data"
    },
    {
     "data": {
      "text/markdown": [
       "### cramer_v_corr_max_abs_diff"
      ],
      "text/plain": [
       "<IPython.core.display.Markdown object>"
      ]
     },
     "metadata": {},
     "output_type": "display_data"
    },
    {
     "data": {
      "text/markdown": [
       "### cramer_v_corr_avg_abs_diff"
      ],
      "text/plain": [
       "<IPython.core.display.Markdown object>"
      ]
     },
     "metadata": {},
     "output_type": "display_data"
    },
    {
     "data": {
      "text/markdown": [
       "### error_rate_diff"
      ],
      "text/plain": [
       "<IPython.core.display.Markdown object>"
      ]
     },
     "metadata": {},
     "output_type": "display_data"
    },
    {
     "name": "stdout",
     "output_type": "stream",
     "text": [
      "Error in extractor function:\n",
      " - synth_name: aim_jax\n",
      " - epsilon: 1\n",
      " - dev_name: edad/gen-MIX-MAX\n",
      " - test_name: edad/2023\n",
      " - Error: Cannot index by location index with a non-integer key\n",
      "Error in evaluate method: Cannot index by location index with a non-integer key\n",
      "Error: Cannot index by location index with a non-integer key\n"
     ]
    },
    {
     "data": {
      "text/markdown": [
       "### error_rate_train_dataset"
      ],
      "text/plain": [
       "<IPython.core.display.Markdown object>"
      ]
     },
     "metadata": {},
     "output_type": "display_data"
    },
    {
     "name": "stdout",
     "output_type": "stream",
     "text": [
      "Error in extractor function:\n",
      " - synth_name: aim_jax\n",
      " - epsilon: 1\n",
      " - dev_name: edad/gen-MIX-MAX\n",
      " - test_name: edad/2023\n",
      " - Error: Cannot index by location index with a non-integer key\n",
      "Error in evaluate method: Cannot index by location index with a non-integer key\n",
      "Error: Cannot index by location index with a non-integer key\n"
     ]
    },
    {
     "data": {
      "text/markdown": [
       "### error_rate_synth_dataset"
      ],
      "text/plain": [
       "<IPython.core.display.Markdown object>"
      ]
     },
     "metadata": {},
     "output_type": "display_data"
    },
    {
     "name": "stdout",
     "output_type": "stream",
     "text": [
      "Error in extractor function:\n",
      " - synth_name: aim_jax\n",
      " - epsilon: 1\n",
      " - dev_name: edad/gen-MIX-MAX\n",
      " - test_name: edad/2023\n",
      " - Error: Cannot index by location index with a non-integer key\n",
      "Error in evaluate method: Cannot index by location index with a non-integer key\n",
      "Error: Cannot index by location index with a non-integer key\n"
     ]
    },
    {
     "data": {
      "text/markdown": [
       "### aoc_diff"
      ],
      "text/plain": [
       "<IPython.core.display.Markdown object>"
      ]
     },
     "metadata": {},
     "output_type": "display_data"
    },
    {
     "name": "stdout",
     "output_type": "stream",
     "text": [
      "Error in extractor function:\n",
      " - synth_name: aim_jax\n",
      " - epsilon: 1\n",
      " - dev_name: edad/gen-MIX-MAX\n",
      " - test_name: edad/2023\n",
      " - Error: Cannot index by location index with a non-integer key\n",
      "Error in evaluate method: Cannot index by location index with a non-integer key\n",
      "Error: Cannot index by location index with a non-integer key\n"
     ]
    },
    {
     "data": {
      "text/markdown": [
       "### aoc_train_dataset"
      ],
      "text/plain": [
       "<IPython.core.display.Markdown object>"
      ]
     },
     "metadata": {},
     "output_type": "display_data"
    },
    {
     "name": "stdout",
     "output_type": "stream",
     "text": [
      "Error in extractor function:\n",
      " - synth_name: aim_jax\n",
      " - epsilon: 1\n",
      " - dev_name: edad/gen-MIX-MAX\n",
      " - test_name: edad/2023\n",
      " - Error: Cannot index by location index with a non-integer key\n",
      "Error in evaluate method: Cannot index by location index with a non-integer key\n",
      "Error: Cannot index by location index with a non-integer key\n"
     ]
    },
    {
     "data": {
      "text/markdown": [
       "### aoc_synth_dataset"
      ],
      "text/plain": [
       "<IPython.core.display.Markdown object>"
      ]
     },
     "metadata": {},
     "output_type": "display_data"
    },
    {
     "name": "stdout",
     "output_type": "stream",
     "text": [
      "Error in extractor function:\n",
      " - synth_name: aim_jax\n",
      " - epsilon: 1\n",
      " - dev_name: edad/gen-MIX-MAX\n",
      " - test_name: edad/2023\n",
      " - Error: Cannot index by location index with a non-integer key\n",
      "Error in evaluate method: Cannot index by location index with a non-integer key\n",
      "Error: Cannot index by location index with a non-integer key\n"
     ]
    },
    {
     "data": {
      "text/markdown": [
       "## WE"
      ],
      "text/plain": [
       "<IPython.core.display.Markdown object>"
      ]
     },
     "metadata": {},
     "output_type": "display_data"
    },
    {
     "data": {
      "text/markdown": [
       "### total_variation_distance"
      ],
      "text/plain": [
       "<IPython.core.display.Markdown object>"
      ]
     },
     "metadata": {},
     "output_type": "display_data"
    },
    {
     "data": {
      "text/markdown": [
       "### marginals_3_max_abs_diff_error"
      ],
      "text/plain": [
       "<IPython.core.display.Markdown object>"
      ]
     },
     "metadata": {},
     "output_type": "display_data"
    },
    {
     "data": {
      "text/markdown": [
       "### marginals_3_avg_abs_diff_error"
      ],
      "text/plain": [
       "<IPython.core.display.Markdown object>"
      ]
     },
     "metadata": {},
     "output_type": "display_data"
    },
    {
     "data": {
      "text/markdown": [
       "### thresholded_marginals_3_max_abs_diff_error"
      ],
      "text/plain": [
       "<IPython.core.display.Markdown object>"
      ]
     },
     "metadata": {},
     "output_type": "display_data"
    },
    {
     "data": {
      "text/markdown": [
       "### thresholded_marginals_3_avg_abs_diff_error"
      ],
      "text/plain": [
       "<IPython.core.display.Markdown object>"
      ]
     },
     "metadata": {},
     "output_type": "display_data"
    },
    {
     "data": {
      "text/markdown": [
       "### pearson_corr_max_abs_diff"
      ],
      "text/plain": [
       "<IPython.core.display.Markdown object>"
      ]
     },
     "metadata": {},
     "output_type": "display_data"
    },
    {
     "data": {
      "text/markdown": [
       "### pearson_corr_avg_abs_diff"
      ],
      "text/plain": [
       "<IPython.core.display.Markdown object>"
      ]
     },
     "metadata": {},
     "output_type": "display_data"
    },
    {
     "data": {
      "text/markdown": [
       "### cramer_v_corr_max_abs_diff"
      ],
      "text/plain": [
       "<IPython.core.display.Markdown object>"
      ]
     },
     "metadata": {},
     "output_type": "display_data"
    },
    {
     "data": {
      "text/markdown": [
       "### cramer_v_corr_avg_abs_diff"
      ],
      "text/plain": [
       "<IPython.core.display.Markdown object>"
      ]
     },
     "metadata": {},
     "output_type": "display_data"
    },
    {
     "data": {
      "text/markdown": [
       "### error_rate_diff"
      ],
      "text/plain": [
       "<IPython.core.display.Markdown object>"
      ]
     },
     "metadata": {},
     "output_type": "display_data"
    },
    {
     "data": {
      "text/markdown": [
       "### error_rate_train_dataset"
      ],
      "text/plain": [
       "<IPython.core.display.Markdown object>"
      ]
     },
     "metadata": {},
     "output_type": "display_data"
    },
    {
     "data": {
      "text/markdown": [
       "### error_rate_synth_dataset"
      ],
      "text/plain": [
       "<IPython.core.display.Markdown object>"
      ]
     },
     "metadata": {},
     "output_type": "display_data"
    },
    {
     "data": {
      "text/markdown": [
       "### aoc_diff"
      ],
      "text/plain": [
       "<IPython.core.display.Markdown object>"
      ]
     },
     "metadata": {},
     "output_type": "display_data"
    },
    {
     "data": {
      "text/markdown": [
       "### aoc_train_dataset"
      ],
      "text/plain": [
       "<IPython.core.display.Markdown object>"
      ]
     },
     "metadata": {},
     "output_type": "display_data"
    },
    {
     "data": {
      "text/markdown": [
       "### aoc_synth_dataset"
      ],
      "text/plain": [
       "<IPython.core.display.Markdown object>"
      ]
     },
     "metadata": {},
     "output_type": "display_data"
    }
   ],
   "source": [
    "# suppress warnings\n",
    "import warnings\n",
    "warnings.filterwarnings(\"ignore\")\n",
    "\n",
    "column_to_rank_on = 'correspond_test'\n",
    "for experiments_name, experiments in ALL_EXPERIMENTS_OBJ.items():\n",
    "\n",
    "    display(Markdown(f\"## {experiments_name.upper()}\"))\n",
    "\n",
    "    datasets = {}\n",
    "\n",
    "    for metric in ydnpd.EVALUATION_METRICS:\n",
    "\n",
    "        display(Markdown(f\"### {metric}\"))\n",
    "        with pd.option_context(\"display.max_rows\", None):\n",
    "            try: \n",
    "                df_extract_all = ydnpd.UtilityTask.evaluate(utility_tasks_results, experiments, metric).multiply(100).round(2)\n",
    "                \n",
    "                # flatten df_extract_all\n",
    "                df_extract_all = df_extract_all.reset_index()\n",
    "\n",
    "                df_extract_all_smaller = df_extract_all[['synth_name', 'experiment', 'epsilon', column_to_rank_on]] \n",
    "\n",
    "                # rank based on lower or higher being better (closer_to_zero_is_better is default for lower_is_better)\n",
    "                metric_direction = METRIC_DIRECTION[metric]\n",
    "\n",
    "                df_extract_all_smaller.loc[:, \"_rank_value\"] = df_extract_all_smaller[column_to_rank_on]\n",
    "\n",
    "                if metric_direction == \"closer_to_zero_is_better\":\n",
    "                    df_extract_all_smaller.loc[:, \"_rank_value\"] = df_extract_all_smaller[\"_rank_value\"].abs()\n",
    "                    ascending = True\n",
    "                    aggfunc = \"min\"\n",
    "                elif metric_direction == \"lower_is_better\":\n",
    "                    ascending = True\n",
    "                    aggfunc = \"min\"\n",
    "                else:  # \"higher_is_better\"\n",
    "                    ascending = False\n",
    "                    aggfunc = \"max\"\n",
    "\n",
    "                idx = df_extract_all_smaller.groupby(\n",
    "                    ['synth_name', 'experiment', 'epsilon']\n",
    "                )[\"_rank_value\"].idxmin() if ascending else df_extract_all_smaller.groupby(\n",
    "                    ['synth_name', 'experiment', 'epsilon']\n",
    "                )[\"_rank_value\"].idxmax()\n",
    "\n",
    "                df_best = df_extract_all_smaller.loc[idx].reset_index(drop=True)\n",
    "\n",
    "                df_experiment_best = df_best.groupby(['synth_name', 'epsilon', 'experiment'])[column_to_rank_on].min().reset_index()\n",
    "                df_experiment_best['rank'] = df_experiment_best.groupby(['synth_name', 'epsilon'])[column_to_rank_on].rank(method='dense', ascending=True)\n",
    "                df_experiment_best = df_experiment_best.sort_values(['synth_name', 'epsilon', 'rank'])\n",
    "\n",
    "                df_final = pd.merge(df_best, df_experiment_best[['synth_name', 'epsilon', 'experiment', 'rank']],\n",
    "                                    on=['synth_name', 'epsilon', 'experiment'],\n",
    "                                    how='left')\n",
    "\n",
    "                df_final_avg = df_final.groupby(['experiment','synth_name'])['rank'].mean().reset_index()\n",
    "\n",
    "                # for synth_name in df_final_avg['synth_name'].unique():\n",
    "                df_final_avg.groupby(['experiment','synth_name'])['rank'].mean().reset_index()\n",
    "                df_final_avg.to_csv(f\"./results/all_rankings/{metric}_{experiments_name}.csv\")\n",
    "            except Exception as e:\n",
    "                print(f\"Error: {e}\")\n",
    "                continue\n",
    "\n"
   ]
  },
  {
   "cell_type": "code",
   "execution_count": 4,
   "metadata": {},
   "outputs": [
    {
     "name": "stdout",
     "output_type": "stream",
     "text": [
      "super ranking saved as  ./results/all_rankings/super_ranking.csv\n"
     ]
    }
   ],
   "source": [
    "# slightly hacky, just grabbing all files in the rankings folder\n",
    "RANKINGS_FOLDER = \"./results/all_rankings\"\n",
    "\n",
    "ranking_files = glob.glob(os.path.join(RANKINGS_FOLDER, \"*.csv\"))\n",
    "\n",
    "dfs = []\n",
    "\n",
    "for file_path in ranking_files:\n",
    "    file_name = os.path.basename(file_path) \n",
    "    file_stem, _ = os.path.splitext(file_name)\n",
    "\n",
    "    parts = file_stem.split(\"_\")\n",
    "    experiments_name = parts[-1]           \n",
    "    metric = \"_\".join(parts[:-1])          \n",
    "\n",
    "    df = pd.read_csv(file_path)\n",
    "\n",
    "    df[\"metric\"] = metric\n",
    "    df[\"experiments_name\"] = experiments_name\n",
    "\n",
    "    dfs.append(df)\n",
    "\n",
    "all_ranks_df = pd.concat(dfs, ignore_index=True)\n",
    "\n",
    "# ccreate a super ranking by averaging ranks across all metrics\n",
    "# for each (experiment, synth_name) within each experiments_name \n",
    "super_rank_df = (\n",
    "    all_ranks_df\n",
    "    .groupby([\"experiments_name\", \"experiment\", \"synth_name\"], as_index=False)[\"rank\"]\n",
    "    .mean()\n",
    "    .rename(columns={\"rank\": \"super_rank\"})\n",
    ")\n",
    "\n",
    "super_rank_df = super_rank_df.sort_values([\"experiments_name\", \"super_rank\"])\n",
    "\n",
    "super_rank_df.to_csv(os.path.join(RANKINGS_FOLDER, \"super_ranking.csv\"), index=False)\n",
    "\n",
    "print(\"super ranking saved as \", os.path.join(RANKINGS_FOLDER, \"super_ranking.csv\"))\n"
   ]
  },
  {
   "cell_type": "code",
   "execution_count": 5,
   "metadata": {},
   "outputs": [],
   "source": [
    "df_privbayes = super_rank_df[super_rank_df[\"synth_name\"] == \"privbayes\"].copy()\n",
    "df_gem       = super_rank_df[super_rank_df[\"synth_name\"] == \"gem\"].copy()\n",
    "df_aim_jax   = super_rank_df[super_rank_df[\"synth_name\"] == \"aim_jax\"].copy()"
   ]
  },
  {
   "cell_type": "code",
   "execution_count": 6,
   "metadata": {},
   "outputs": [
    {
     "data": {
      "text/html": [
       "<div>\n",
       "<style scoped>\n",
       "    .dataframe tbody tr th:only-of-type {\n",
       "        vertical-align: middle;\n",
       "    }\n",
       "\n",
       "    .dataframe tbody tr th {\n",
       "        vertical-align: top;\n",
       "    }\n",
       "\n",
       "    .dataframe thead th {\n",
       "        text-align: right;\n",
       "    }\n",
       "</style>\n",
       "<table border=\"1\" class=\"dataframe\">\n",
       "  <thead>\n",
       "    <tr style=\"text-align: right;\">\n",
       "      <th></th>\n",
       "      <th>experiments_name</th>\n",
       "      <th>experiment</th>\n",
       "      <th>synth_name</th>\n",
       "      <th>super_rank</th>\n",
       "    </tr>\n",
       "  </thead>\n",
       "  <tbody>\n",
       "    <tr>\n",
       "      <th>17</th>\n",
       "      <td>acs</td>\n",
       "      <td>acs/national/acs/csv-llama</td>\n",
       "      <td>privbayes</td>\n",
       "      <td>1.600000</td>\n",
       "    </tr>\n",
       "    <tr>\n",
       "      <th>41</th>\n",
       "      <td>acs</td>\n",
       "      <td>acs/national/acs/gen-llama-MIX-UNIF</td>\n",
       "      <td>privbayes</td>\n",
       "      <td>1.733333</td>\n",
       "    </tr>\n",
       "    <tr>\n",
       "      <th>11</th>\n",
       "      <td>acs</td>\n",
       "      <td>acs/national/acs/csv-claude</td>\n",
       "      <td>privbayes</td>\n",
       "      <td>2.050000</td>\n",
       "    </tr>\n",
       "    <tr>\n",
       "      <th>14</th>\n",
       "      <td>acs</td>\n",
       "      <td>acs/national/acs/csv-gpt</td>\n",
       "      <td>privbayes</td>\n",
       "      <td>2.050000</td>\n",
       "    </tr>\n",
       "    <tr>\n",
       "      <th>29</th>\n",
       "      <td>acs</td>\n",
       "      <td>acs/national/acs/gen-claude-MIX-UNIF</td>\n",
       "      <td>privbayes</td>\n",
       "      <td>2.050000</td>\n",
       "    </tr>\n",
       "    <tr>\n",
       "      <th>38</th>\n",
       "      <td>acs</td>\n",
       "      <td>acs/national/acs/gen-llama-MIX-MAX</td>\n",
       "      <td>privbayes</td>\n",
       "      <td>2.066667</td>\n",
       "    </tr>\n",
       "    <tr>\n",
       "      <th>26</th>\n",
       "      <td>acs</td>\n",
       "      <td>acs/national/acs/gen-claude-MIX-MAX</td>\n",
       "      <td>privbayes</td>\n",
       "      <td>2.233333</td>\n",
       "    </tr>\n",
       "    <tr>\n",
       "      <th>32</th>\n",
       "      <td>acs</td>\n",
       "      <td>acs/national/acs/gen-gpt-MIX-MAX</td>\n",
       "      <td>privbayes</td>\n",
       "      <td>2.233333</td>\n",
       "    </tr>\n",
       "    <tr>\n",
       "      <th>50</th>\n",
       "      <td>acs</td>\n",
       "      <td>acs/national/acs/sdscm-olmo-1b-hf</td>\n",
       "      <td>privbayes</td>\n",
       "      <td>2.233333</td>\n",
       "    </tr>\n",
       "    <tr>\n",
       "      <th>23</th>\n",
       "      <td>acs</td>\n",
       "      <td>acs/national/acs/gen-MIX-UNIF</td>\n",
       "      <td>privbayes</td>\n",
       "      <td>2.250000</td>\n",
       "    </tr>\n",
       "    <tr>\n",
       "      <th>35</th>\n",
       "      <td>acs</td>\n",
       "      <td>acs/national/acs/gen-gpt-MIX-UNIF</td>\n",
       "      <td>privbayes</td>\n",
       "      <td>2.250000</td>\n",
       "    </tr>\n",
       "    <tr>\n",
       "      <th>2</th>\n",
       "      <td>acs</td>\n",
       "      <td>acs/national/acs/arbitrary</td>\n",
       "      <td>privbayes</td>\n",
       "      <td>2.333333</td>\n",
       "    </tr>\n",
       "    <tr>\n",
       "      <th>20</th>\n",
       "      <td>acs</td>\n",
       "      <td>acs/national/acs/gen-MIX-MAX</td>\n",
       "      <td>privbayes</td>\n",
       "      <td>2.333333</td>\n",
       "    </tr>\n",
       "    <tr>\n",
       "      <th>47</th>\n",
       "      <td>acs</td>\n",
       "      <td>acs/national/acs/sdscm-llama-3-8b</td>\n",
       "      <td>privbayes</td>\n",
       "      <td>2.483333</td>\n",
       "    </tr>\n",
       "    <tr>\n",
       "      <th>44</th>\n",
       "      <td>acs</td>\n",
       "      <td>acs/national/acs/sdscm-gpt2</td>\n",
       "      <td>privbayes</td>\n",
       "      <td>2.900000</td>\n",
       "    </tr>\n",
       "    <tr>\n",
       "      <th>5</th>\n",
       "      <td>acs</td>\n",
       "      <td>acs/national/acs/baseline_domain</td>\n",
       "      <td>privbayes</td>\n",
       "      <td>4.400000</td>\n",
       "    </tr>\n",
       "    <tr>\n",
       "      <th>8</th>\n",
       "      <td>acs</td>\n",
       "      <td>acs/national/acs/baseline_univariate</td>\n",
       "      <td>privbayes</td>\n",
       "      <td>4.466667</td>\n",
       "    </tr>\n",
       "  </tbody>\n",
       "</table>\n",
       "</div>"
      ],
      "text/plain": [
       "   experiments_name                            experiment synth_name  \\\n",
       "17              acs            acs/national/acs/csv-llama  privbayes   \n",
       "41              acs   acs/national/acs/gen-llama-MIX-UNIF  privbayes   \n",
       "11              acs           acs/national/acs/csv-claude  privbayes   \n",
       "14              acs              acs/national/acs/csv-gpt  privbayes   \n",
       "29              acs  acs/national/acs/gen-claude-MIX-UNIF  privbayes   \n",
       "38              acs    acs/national/acs/gen-llama-MIX-MAX  privbayes   \n",
       "26              acs   acs/national/acs/gen-claude-MIX-MAX  privbayes   \n",
       "32              acs      acs/national/acs/gen-gpt-MIX-MAX  privbayes   \n",
       "50              acs     acs/national/acs/sdscm-olmo-1b-hf  privbayes   \n",
       "23              acs         acs/national/acs/gen-MIX-UNIF  privbayes   \n",
       "35              acs     acs/national/acs/gen-gpt-MIX-UNIF  privbayes   \n",
       "2               acs            acs/national/acs/arbitrary  privbayes   \n",
       "20              acs          acs/national/acs/gen-MIX-MAX  privbayes   \n",
       "47              acs     acs/national/acs/sdscm-llama-3-8b  privbayes   \n",
       "44              acs           acs/national/acs/sdscm-gpt2  privbayes   \n",
       "5               acs      acs/national/acs/baseline_domain  privbayes   \n",
       "8               acs  acs/national/acs/baseline_univariate  privbayes   \n",
       "\n",
       "    super_rank  \n",
       "17    1.600000  \n",
       "41    1.733333  \n",
       "11    2.050000  \n",
       "14    2.050000  \n",
       "29    2.050000  \n",
       "38    2.066667  \n",
       "26    2.233333  \n",
       "32    2.233333  \n",
       "50    2.233333  \n",
       "23    2.250000  \n",
       "35    2.250000  \n",
       "2     2.333333  \n",
       "20    2.333333  \n",
       "47    2.483333  \n",
       "44    2.900000  \n",
       "5     4.400000  \n",
       "8     4.466667  "
      ]
     },
     "execution_count": 6,
     "metadata": {},
     "output_type": "execute_result"
    }
   ],
   "source": [
    "df_privbayes[df_privbayes['experiments_name'] == 'acs']"
   ]
  },
  {
   "cell_type": "code",
   "execution_count": 7,
   "metadata": {},
   "outputs": [
    {
     "data": {
      "text/html": [
       "<div>\n",
       "<style scoped>\n",
       "    .dataframe tbody tr th:only-of-type {\n",
       "        vertical-align: middle;\n",
       "    }\n",
       "\n",
       "    .dataframe tbody tr th {\n",
       "        vertical-align: top;\n",
       "    }\n",
       "\n",
       "    .dataframe thead th {\n",
       "        text-align: right;\n",
       "    }\n",
       "</style>\n",
       "<table border=\"1\" class=\"dataframe\">\n",
       "  <thead>\n",
       "    <tr style=\"text-align: right;\">\n",
       "      <th></th>\n",
       "      <th>experiments_name</th>\n",
       "      <th>experiment</th>\n",
       "      <th>synth_name</th>\n",
       "      <th>super_rank</th>\n",
       "    </tr>\n",
       "  </thead>\n",
       "  <tbody>\n",
       "    <tr>\n",
       "      <th>317</th>\n",
       "      <td>we</td>\n",
       "      <td>we/2023/we/sdscm-gpt2</td>\n",
       "      <td>privbayes</td>\n",
       "      <td>2.666667</td>\n",
       "    </tr>\n",
       "    <tr>\n",
       "      <th>299</th>\n",
       "      <td>we</td>\n",
       "      <td>we/2023/we/gen-claude-MIX-MAX</td>\n",
       "      <td>privbayes</td>\n",
       "      <td>2.833333</td>\n",
       "    </tr>\n",
       "    <tr>\n",
       "      <th>323</th>\n",
       "      <td>we</td>\n",
       "      <td>we/2023/we/sdscm-olmo-1b-hf</td>\n",
       "      <td>privbayes</td>\n",
       "      <td>2.933333</td>\n",
       "    </tr>\n",
       "    <tr>\n",
       "      <th>320</th>\n",
       "      <td>we</td>\n",
       "      <td>we/2023/we/sdscm-llama-3-8b</td>\n",
       "      <td>privbayes</td>\n",
       "      <td>2.983333</td>\n",
       "    </tr>\n",
       "    <tr>\n",
       "      <th>275</th>\n",
       "      <td>we</td>\n",
       "      <td>we/2023/we/arbitrary</td>\n",
       "      <td>privbayes</td>\n",
       "      <td>3.083333</td>\n",
       "    </tr>\n",
       "    <tr>\n",
       "      <th>302</th>\n",
       "      <td>we</td>\n",
       "      <td>we/2023/we/gen-claude-MIX-UNIF</td>\n",
       "      <td>privbayes</td>\n",
       "      <td>3.100000</td>\n",
       "    </tr>\n",
       "    <tr>\n",
       "      <th>290</th>\n",
       "      <td>we</td>\n",
       "      <td>we/2023/we/csv-llama</td>\n",
       "      <td>privbayes</td>\n",
       "      <td>3.133333</td>\n",
       "    </tr>\n",
       "    <tr>\n",
       "      <th>287</th>\n",
       "      <td>we</td>\n",
       "      <td>we/2023/we/csv-gpt</td>\n",
       "      <td>privbayes</td>\n",
       "      <td>3.200000</td>\n",
       "    </tr>\n",
       "    <tr>\n",
       "      <th>293</th>\n",
       "      <td>we</td>\n",
       "      <td>we/2023/we/gen-MIX-MAX</td>\n",
       "      <td>privbayes</td>\n",
       "      <td>3.250000</td>\n",
       "    </tr>\n",
       "    <tr>\n",
       "      <th>314</th>\n",
       "      <td>we</td>\n",
       "      <td>we/2023/we/gen-llama-MIX-UNIF</td>\n",
       "      <td>privbayes</td>\n",
       "      <td>3.266667</td>\n",
       "    </tr>\n",
       "    <tr>\n",
       "      <th>305</th>\n",
       "      <td>we</td>\n",
       "      <td>we/2023/we/gen-gpt-MIX-MAX</td>\n",
       "      <td>privbayes</td>\n",
       "      <td>3.283333</td>\n",
       "    </tr>\n",
       "    <tr>\n",
       "      <th>311</th>\n",
       "      <td>we</td>\n",
       "      <td>we/2023/we/gen-llama-MIX-MAX</td>\n",
       "      <td>privbayes</td>\n",
       "      <td>3.366667</td>\n",
       "    </tr>\n",
       "    <tr>\n",
       "      <th>284</th>\n",
       "      <td>we</td>\n",
       "      <td>we/2023/we/csv-claude</td>\n",
       "      <td>privbayes</td>\n",
       "      <td>3.383333</td>\n",
       "    </tr>\n",
       "    <tr>\n",
       "      <th>296</th>\n",
       "      <td>we</td>\n",
       "      <td>we/2023/we/gen-MIX-UNIF</td>\n",
       "      <td>privbayes</td>\n",
       "      <td>3.500000</td>\n",
       "    </tr>\n",
       "    <tr>\n",
       "      <th>281</th>\n",
       "      <td>we</td>\n",
       "      <td>we/2023/we/baseline_univariate</td>\n",
       "      <td>privbayes</td>\n",
       "      <td>3.950000</td>\n",
       "    </tr>\n",
       "    <tr>\n",
       "      <th>278</th>\n",
       "      <td>we</td>\n",
       "      <td>we/2023/we/baseline_domain</td>\n",
       "      <td>privbayes</td>\n",
       "      <td>4.083333</td>\n",
       "    </tr>\n",
       "    <tr>\n",
       "      <th>308</th>\n",
       "      <td>we</td>\n",
       "      <td>we/2023/we/gen-gpt-MIX-UNIF</td>\n",
       "      <td>privbayes</td>\n",
       "      <td>4.266667</td>\n",
       "    </tr>\n",
       "  </tbody>\n",
       "</table>\n",
       "</div>"
      ],
      "text/plain": [
       "    experiments_name                      experiment synth_name  super_rank\n",
       "317               we           we/2023/we/sdscm-gpt2  privbayes    2.666667\n",
       "299               we   we/2023/we/gen-claude-MIX-MAX  privbayes    2.833333\n",
       "323               we     we/2023/we/sdscm-olmo-1b-hf  privbayes    2.933333\n",
       "320               we     we/2023/we/sdscm-llama-3-8b  privbayes    2.983333\n",
       "275               we            we/2023/we/arbitrary  privbayes    3.083333\n",
       "302               we  we/2023/we/gen-claude-MIX-UNIF  privbayes    3.100000\n",
       "290               we            we/2023/we/csv-llama  privbayes    3.133333\n",
       "287               we              we/2023/we/csv-gpt  privbayes    3.200000\n",
       "293               we          we/2023/we/gen-MIX-MAX  privbayes    3.250000\n",
       "314               we   we/2023/we/gen-llama-MIX-UNIF  privbayes    3.266667\n",
       "305               we      we/2023/we/gen-gpt-MIX-MAX  privbayes    3.283333\n",
       "311               we    we/2023/we/gen-llama-MIX-MAX  privbayes    3.366667\n",
       "284               we           we/2023/we/csv-claude  privbayes    3.383333\n",
       "296               we         we/2023/we/gen-MIX-UNIF  privbayes    3.500000\n",
       "281               we  we/2023/we/baseline_univariate  privbayes    3.950000\n",
       "278               we      we/2023/we/baseline_domain  privbayes    4.083333\n",
       "308               we     we/2023/we/gen-gpt-MIX-UNIF  privbayes    4.266667"
      ]
     },
     "execution_count": 7,
     "metadata": {},
     "output_type": "execute_result"
    }
   ],
   "source": [
    "df_privbayes[df_privbayes['experiments_name'] == 'we']"
   ]
  },
  {
   "cell_type": "code",
   "execution_count": 8,
   "metadata": {},
   "outputs": [
    {
     "data": {
      "text/html": [
       "<div>\n",
       "<style scoped>\n",
       "    .dataframe tbody tr th:only-of-type {\n",
       "        vertical-align: middle;\n",
       "    }\n",
       "\n",
       "    .dataframe tbody tr th {\n",
       "        vertical-align: top;\n",
       "    }\n",
       "\n",
       "    .dataframe thead th {\n",
       "        text-align: right;\n",
       "    }\n",
       "</style>\n",
       "<table border=\"1\" class=\"dataframe\">\n",
       "  <thead>\n",
       "    <tr style=\"text-align: right;\">\n",
       "      <th></th>\n",
       "      <th>experiments_name</th>\n",
       "      <th>experiment</th>\n",
       "      <th>synth_name</th>\n",
       "      <th>super_rank</th>\n",
       "    </tr>\n",
       "  </thead>\n",
       "  <tbody>\n",
       "    <tr>\n",
       "      <th>71</th>\n",
       "      <td>edad</td>\n",
       "      <td>edad/2023/edad/gen-MIX-MAX</td>\n",
       "      <td>privbayes</td>\n",
       "      <td>1.888889</td>\n",
       "    </tr>\n",
       "    <tr>\n",
       "      <th>65</th>\n",
       "      <td>edad</td>\n",
       "      <td>edad/2023/edad/csv-gpt</td>\n",
       "      <td>privbayes</td>\n",
       "      <td>2.111111</td>\n",
       "    </tr>\n",
       "    <tr>\n",
       "      <th>62</th>\n",
       "      <td>edad</td>\n",
       "      <td>edad/2023/edad/csv-claude</td>\n",
       "      <td>privbayes</td>\n",
       "      <td>2.138889</td>\n",
       "    </tr>\n",
       "    <tr>\n",
       "      <th>53</th>\n",
       "      <td>edad</td>\n",
       "      <td>edad/2023/edad/arbitrary</td>\n",
       "      <td>privbayes</td>\n",
       "      <td>2.166667</td>\n",
       "    </tr>\n",
       "    <tr>\n",
       "      <th>74</th>\n",
       "      <td>edad</td>\n",
       "      <td>edad/2023/edad/gen-MIX-UNIF</td>\n",
       "      <td>privbayes</td>\n",
       "      <td>2.305556</td>\n",
       "    </tr>\n",
       "    <tr>\n",
       "      <th>68</th>\n",
       "      <td>edad</td>\n",
       "      <td>edad/2023/edad/csv-llama</td>\n",
       "      <td>privbayes</td>\n",
       "      <td>2.333333</td>\n",
       "    </tr>\n",
       "    <tr>\n",
       "      <th>80</th>\n",
       "      <td>edad</td>\n",
       "      <td>edad/2023/edad/gen-claude-MIX-UNIF</td>\n",
       "      <td>privbayes</td>\n",
       "      <td>2.361111</td>\n",
       "    </tr>\n",
       "    <tr>\n",
       "      <th>77</th>\n",
       "      <td>edad</td>\n",
       "      <td>edad/2023/edad/gen-claude-MIX-MAX</td>\n",
       "      <td>privbayes</td>\n",
       "      <td>2.500000</td>\n",
       "    </tr>\n",
       "    <tr>\n",
       "      <th>83</th>\n",
       "      <td>edad</td>\n",
       "      <td>edad/2023/edad/gen-gpt-MIX-MAX</td>\n",
       "      <td>privbayes</td>\n",
       "      <td>2.555556</td>\n",
       "    </tr>\n",
       "    <tr>\n",
       "      <th>86</th>\n",
       "      <td>edad</td>\n",
       "      <td>edad/2023/edad/gen-gpt-MIX-UNIF</td>\n",
       "      <td>privbayes</td>\n",
       "      <td>3.277778</td>\n",
       "    </tr>\n",
       "    <tr>\n",
       "      <th>98</th>\n",
       "      <td>edad</td>\n",
       "      <td>edad/2023/edad/sdscm-llama-3-8b</td>\n",
       "      <td>privbayes</td>\n",
       "      <td>3.694444</td>\n",
       "    </tr>\n",
       "    <tr>\n",
       "      <th>101</th>\n",
       "      <td>edad</td>\n",
       "      <td>edad/2023/edad/sdscm-olmo-1b-hf</td>\n",
       "      <td>privbayes</td>\n",
       "      <td>4.000000</td>\n",
       "    </tr>\n",
       "    <tr>\n",
       "      <th>89</th>\n",
       "      <td>edad</td>\n",
       "      <td>edad/2023/edad/gen-llama-MIX-MAX</td>\n",
       "      <td>privbayes</td>\n",
       "      <td>4.333333</td>\n",
       "    </tr>\n",
       "    <tr>\n",
       "      <th>95</th>\n",
       "      <td>edad</td>\n",
       "      <td>edad/2023/edad/sdscm-gpt2</td>\n",
       "      <td>privbayes</td>\n",
       "      <td>4.638889</td>\n",
       "    </tr>\n",
       "    <tr>\n",
       "      <th>59</th>\n",
       "      <td>edad</td>\n",
       "      <td>edad/2023/edad/baseline_univariate</td>\n",
       "      <td>privbayes</td>\n",
       "      <td>5.166667</td>\n",
       "    </tr>\n",
       "    <tr>\n",
       "      <th>56</th>\n",
       "      <td>edad</td>\n",
       "      <td>edad/2023/edad/baseline_domain</td>\n",
       "      <td>privbayes</td>\n",
       "      <td>5.194444</td>\n",
       "    </tr>\n",
       "    <tr>\n",
       "      <th>92</th>\n",
       "      <td>edad</td>\n",
       "      <td>edad/2023/edad/gen-llama-MIX-UNIF</td>\n",
       "      <td>privbayes</td>\n",
       "      <td>5.444444</td>\n",
       "    </tr>\n",
       "  </tbody>\n",
       "</table>\n",
       "</div>"
      ],
      "text/plain": [
       "    experiments_name                          experiment synth_name  \\\n",
       "71              edad          edad/2023/edad/gen-MIX-MAX  privbayes   \n",
       "65              edad              edad/2023/edad/csv-gpt  privbayes   \n",
       "62              edad           edad/2023/edad/csv-claude  privbayes   \n",
       "53              edad            edad/2023/edad/arbitrary  privbayes   \n",
       "74              edad         edad/2023/edad/gen-MIX-UNIF  privbayes   \n",
       "68              edad            edad/2023/edad/csv-llama  privbayes   \n",
       "80              edad  edad/2023/edad/gen-claude-MIX-UNIF  privbayes   \n",
       "77              edad   edad/2023/edad/gen-claude-MIX-MAX  privbayes   \n",
       "83              edad      edad/2023/edad/gen-gpt-MIX-MAX  privbayes   \n",
       "86              edad     edad/2023/edad/gen-gpt-MIX-UNIF  privbayes   \n",
       "98              edad     edad/2023/edad/sdscm-llama-3-8b  privbayes   \n",
       "101             edad     edad/2023/edad/sdscm-olmo-1b-hf  privbayes   \n",
       "89              edad    edad/2023/edad/gen-llama-MIX-MAX  privbayes   \n",
       "95              edad           edad/2023/edad/sdscm-gpt2  privbayes   \n",
       "59              edad  edad/2023/edad/baseline_univariate  privbayes   \n",
       "56              edad      edad/2023/edad/baseline_domain  privbayes   \n",
       "92              edad   edad/2023/edad/gen-llama-MIX-UNIF  privbayes   \n",
       "\n",
       "     super_rank  \n",
       "71     1.888889  \n",
       "65     2.111111  \n",
       "62     2.138889  \n",
       "53     2.166667  \n",
       "74     2.305556  \n",
       "68     2.333333  \n",
       "80     2.361111  \n",
       "77     2.500000  \n",
       "83     2.555556  \n",
       "86     3.277778  \n",
       "98     3.694444  \n",
       "101    4.000000  \n",
       "89     4.333333  \n",
       "95     4.638889  \n",
       "59     5.166667  \n",
       "56     5.194444  \n",
       "92     5.444444  "
      ]
     },
     "execution_count": 8,
     "metadata": {},
     "output_type": "execute_result"
    }
   ],
   "source": [
    "df_privbayes[df_privbayes['experiments_name'] == 'edad']"
   ]
  },
  {
   "cell_type": "code",
   "execution_count": 9,
   "metadata": {},
   "outputs": [],
   "source": [
    "super_rank_df[\"method\"] = super_rank_df[\"experiment\"].str.split(\"/\").str[-1]\n",
    "\n",
    "df_method_avg = (\n",
    "    super_rank_df\n",
    "    .groupby(\"method\", as_index=False)[\"super_rank\"]\n",
    "    .mean()\n",
    "    .rename(columns={\"super_rank\": \"avg_super_rank\"})\n",
    ")\n",
    "\n",
    "df_method_avg[\"super_super_rank\"] = df_method_avg[\"avg_super_rank\"].rank(method=\"dense\", ascending=True)\n",
    "\n",
    "df_method_avg = df_method_avg.sort_values(\"super_super_rank\")"
   ]
  },
  {
   "cell_type": "code",
   "execution_count": 10,
   "metadata": {},
   "outputs": [
    {
     "data": {
      "text/html": [
       "<div>\n",
       "<style scoped>\n",
       "    .dataframe tbody tr th:only-of-type {\n",
       "        vertical-align: middle;\n",
       "    }\n",
       "\n",
       "    .dataframe tbody tr th {\n",
       "        vertical-align: top;\n",
       "    }\n",
       "\n",
       "    .dataframe thead th {\n",
       "        text-align: right;\n",
       "    }\n",
       "</style>\n",
       "<table border=\"1\" class=\"dataframe\">\n",
       "  <thead>\n",
       "    <tr style=\"text-align: right;\">\n",
       "      <th></th>\n",
       "      <th>method</th>\n",
       "      <th>avg_super_rank</th>\n",
       "      <th>super_super_rank</th>\n",
       "    </tr>\n",
       "  </thead>\n",
       "  <tbody>\n",
       "    <tr>\n",
       "      <th>11</th>\n",
       "      <td>gen-claude-MIX-MAX</td>\n",
       "      <td>2.422222</td>\n",
       "      <td>1.0</td>\n",
       "    </tr>\n",
       "    <tr>\n",
       "      <th>7</th>\n",
       "      <td>csv-gpt</td>\n",
       "      <td>2.524691</td>\n",
       "      <td>2.0</td>\n",
       "    </tr>\n",
       "    <tr>\n",
       "      <th>3</th>\n",
       "      <td>arbitrary</td>\n",
       "      <td>2.591975</td>\n",
       "      <td>3.0</td>\n",
       "    </tr>\n",
       "    <tr>\n",
       "      <th>10</th>\n",
       "      <td>gen-MIX-UNIF</td>\n",
       "      <td>2.624074</td>\n",
       "      <td>4.0</td>\n",
       "    </tr>\n",
       "    <tr>\n",
       "      <th>12</th>\n",
       "      <td>gen-claude-MIX-UNIF</td>\n",
       "      <td>2.675926</td>\n",
       "      <td>5.0</td>\n",
       "    </tr>\n",
       "    <tr>\n",
       "      <th>9</th>\n",
       "      <td>gen-MIX-MAX</td>\n",
       "      <td>2.681481</td>\n",
       "      <td>6.0</td>\n",
       "    </tr>\n",
       "    <tr>\n",
       "      <th>13</th>\n",
       "      <td>gen-gpt-MIX-MAX</td>\n",
       "      <td>2.707407</td>\n",
       "      <td>7.0</td>\n",
       "    </tr>\n",
       "    <tr>\n",
       "      <th>8</th>\n",
       "      <td>csv-llama</td>\n",
       "      <td>2.724691</td>\n",
       "      <td>8.0</td>\n",
       "    </tr>\n",
       "    <tr>\n",
       "      <th>6</th>\n",
       "      <td>csv-claude</td>\n",
       "      <td>2.767901</td>\n",
       "      <td>9.0</td>\n",
       "    </tr>\n",
       "    <tr>\n",
       "      <th>14</th>\n",
       "      <td>gen-gpt-MIX-UNIF</td>\n",
       "      <td>2.855556</td>\n",
       "      <td>10.0</td>\n",
       "    </tr>\n",
       "    <tr>\n",
       "      <th>20</th>\n",
       "      <td>sdscm-llama-3-8b</td>\n",
       "      <td>2.861728</td>\n",
       "      <td>11.0</td>\n",
       "    </tr>\n",
       "    <tr>\n",
       "      <th>21</th>\n",
       "      <td>sdscm-olmo-1b-hf</td>\n",
       "      <td>2.989506</td>\n",
       "      <td>12.0</td>\n",
       "    </tr>\n",
       "    <tr>\n",
       "      <th>15</th>\n",
       "      <td>gen-llama-MIX-MAX</td>\n",
       "      <td>2.993210</td>\n",
       "      <td>13.0</td>\n",
       "    </tr>\n",
       "    <tr>\n",
       "      <th>19</th>\n",
       "      <td>sdscm-gpt2</td>\n",
       "      <td>3.068519</td>\n",
       "      <td>14.0</td>\n",
       "    </tr>\n",
       "    <tr>\n",
       "      <th>16</th>\n",
       "      <td>gen-llama-MIX-UNIF</td>\n",
       "      <td>3.137654</td>\n",
       "      <td>15.0</td>\n",
       "    </tr>\n",
       "    <tr>\n",
       "      <th>5</th>\n",
       "      <td>baseline_univariate</td>\n",
       "      <td>3.359877</td>\n",
       "      <td>16.0</td>\n",
       "    </tr>\n",
       "    <tr>\n",
       "      <th>4</th>\n",
       "      <td>baseline_domain</td>\n",
       "      <td>3.662963</td>\n",
       "      <td>17.0</td>\n",
       "    </tr>\n",
       "    <tr>\n",
       "      <th>0</th>\n",
       "      <td>2018</td>\n",
       "      <td>NaN</td>\n",
       "      <td>NaN</td>\n",
       "    </tr>\n",
       "    <tr>\n",
       "      <th>1</th>\n",
       "      <td>2020</td>\n",
       "      <td>NaN</td>\n",
       "      <td>NaN</td>\n",
       "    </tr>\n",
       "    <tr>\n",
       "      <th>2</th>\n",
       "      <td>2023</td>\n",
       "      <td>NaN</td>\n",
       "      <td>NaN</td>\n",
       "    </tr>\n",
       "    <tr>\n",
       "      <th>17</th>\n",
       "      <td>massachusetts_upsampled</td>\n",
       "      <td>NaN</td>\n",
       "      <td>NaN</td>\n",
       "    </tr>\n",
       "    <tr>\n",
       "      <th>18</th>\n",
       "      <td>national</td>\n",
       "      <td>NaN</td>\n",
       "      <td>NaN</td>\n",
       "    </tr>\n",
       "  </tbody>\n",
       "</table>\n",
       "</div>"
      ],
      "text/plain": [
       "                     method  avg_super_rank  super_super_rank\n",
       "11       gen-claude-MIX-MAX        2.422222               1.0\n",
       "7                   csv-gpt        2.524691               2.0\n",
       "3                 arbitrary        2.591975               3.0\n",
       "10             gen-MIX-UNIF        2.624074               4.0\n",
       "12      gen-claude-MIX-UNIF        2.675926               5.0\n",
       "9               gen-MIX-MAX        2.681481               6.0\n",
       "13          gen-gpt-MIX-MAX        2.707407               7.0\n",
       "8                 csv-llama        2.724691               8.0\n",
       "6                csv-claude        2.767901               9.0\n",
       "14         gen-gpt-MIX-UNIF        2.855556              10.0\n",
       "20         sdscm-llama-3-8b        2.861728              11.0\n",
       "21         sdscm-olmo-1b-hf        2.989506              12.0\n",
       "15        gen-llama-MIX-MAX        2.993210              13.0\n",
       "19               sdscm-gpt2        3.068519              14.0\n",
       "16       gen-llama-MIX-UNIF        3.137654              15.0\n",
       "5       baseline_univariate        3.359877              16.0\n",
       "4           baseline_domain        3.662963              17.0\n",
       "0                      2018             NaN               NaN\n",
       "1                      2020             NaN               NaN\n",
       "2                      2023             NaN               NaN\n",
       "17  massachusetts_upsampled             NaN               NaN\n",
       "18                 national             NaN               NaN"
      ]
     },
     "execution_count": 10,
     "metadata": {},
     "output_type": "execute_result"
    }
   ],
   "source": [
    "df_method_avg"
   ]
  },
  {
   "cell_type": "markdown",
   "metadata": {},
   "source": [
    "## Calculating rankings based on advantage\n",
    "### TODO: Currently buggy, need to fix."
   ]
  },
  {
   "cell_type": "code",
   "execution_count": 15,
   "metadata": {},
   "outputs": [
    {
     "data": {
      "text/markdown": [
       "## ACS"
      ],
      "text/plain": [
       "<IPython.core.display.Markdown object>"
      ]
     },
     "metadata": {},
     "output_type": "display_data"
    },
    {
     "data": {
      "text/markdown": [
       "### total_variation_distance"
      ],
      "text/plain": [
       "<IPython.core.display.Markdown object>"
      ]
     },
     "metadata": {},
     "output_type": "display_data"
    },
    {
     "data": {
      "text/markdown": [
       "### marginals_3_max_abs_diff_error"
      ],
      "text/plain": [
       "<IPython.core.display.Markdown object>"
      ]
     },
     "metadata": {},
     "output_type": "display_data"
    },
    {
     "data": {
      "text/markdown": [
       "### marginals_3_avg_abs_diff_error"
      ],
      "text/plain": [
       "<IPython.core.display.Markdown object>"
      ]
     },
     "metadata": {},
     "output_type": "display_data"
    },
    {
     "data": {
      "text/markdown": [
       "### thresholded_marginals_3_max_abs_diff_error"
      ],
      "text/plain": [
       "<IPython.core.display.Markdown object>"
      ]
     },
     "metadata": {},
     "output_type": "display_data"
    },
    {
     "data": {
      "text/markdown": [
       "### thresholded_marginals_3_avg_abs_diff_error"
      ],
      "text/plain": [
       "<IPython.core.display.Markdown object>"
      ]
     },
     "metadata": {},
     "output_type": "display_data"
    },
    {
     "data": {
      "text/markdown": [
       "### pearson_corr_max_abs_diff"
      ],
      "text/plain": [
       "<IPython.core.display.Markdown object>"
      ]
     },
     "metadata": {},
     "output_type": "display_data"
    },
    {
     "data": {
      "text/markdown": [
       "### pearson_corr_avg_abs_diff"
      ],
      "text/plain": [
       "<IPython.core.display.Markdown object>"
      ]
     },
     "metadata": {},
     "output_type": "display_data"
    },
    {
     "data": {
      "text/markdown": [
       "### cramer_v_corr_max_abs_diff"
      ],
      "text/plain": [
       "<IPython.core.display.Markdown object>"
      ]
     },
     "metadata": {},
     "output_type": "display_data"
    },
    {
     "data": {
      "text/markdown": [
       "### cramer_v_corr_avg_abs_diff"
      ],
      "text/plain": [
       "<IPython.core.display.Markdown object>"
      ]
     },
     "metadata": {},
     "output_type": "display_data"
    },
    {
     "data": {
      "text/markdown": [
       "### error_rate_diff"
      ],
      "text/plain": [
       "<IPython.core.display.Markdown object>"
      ]
     },
     "metadata": {},
     "output_type": "display_data"
    },
    {
     "data": {
      "text/markdown": [
       "### error_rate_train_dataset"
      ],
      "text/plain": [
       "<IPython.core.display.Markdown object>"
      ]
     },
     "metadata": {},
     "output_type": "display_data"
    },
    {
     "data": {
      "text/markdown": [
       "### error_rate_synth_dataset"
      ],
      "text/plain": [
       "<IPython.core.display.Markdown object>"
      ]
     },
     "metadata": {},
     "output_type": "display_data"
    },
    {
     "data": {
      "text/markdown": [
       "### aoc_diff"
      ],
      "text/plain": [
       "<IPython.core.display.Markdown object>"
      ]
     },
     "metadata": {},
     "output_type": "display_data"
    },
    {
     "data": {
      "text/markdown": [
       "### aoc_train_dataset"
      ],
      "text/plain": [
       "<IPython.core.display.Markdown object>"
      ]
     },
     "metadata": {},
     "output_type": "display_data"
    },
    {
     "data": {
      "text/markdown": [
       "### aoc_synth_dataset"
      ],
      "text/plain": [
       "<IPython.core.display.Markdown object>"
      ]
     },
     "metadata": {},
     "output_type": "display_data"
    },
    {
     "data": {
      "text/markdown": [
       "## EDAD"
      ],
      "text/plain": [
       "<IPython.core.display.Markdown object>"
      ]
     },
     "metadata": {},
     "output_type": "display_data"
    },
    {
     "data": {
      "text/markdown": [
       "### total_variation_distance"
      ],
      "text/plain": [
       "<IPython.core.display.Markdown object>"
      ]
     },
     "metadata": {},
     "output_type": "display_data"
    },
    {
     "data": {
      "text/markdown": [
       "### marginals_3_max_abs_diff_error"
      ],
      "text/plain": [
       "<IPython.core.display.Markdown object>"
      ]
     },
     "metadata": {},
     "output_type": "display_data"
    },
    {
     "data": {
      "text/markdown": [
       "### marginals_3_avg_abs_diff_error"
      ],
      "text/plain": [
       "<IPython.core.display.Markdown object>"
      ]
     },
     "metadata": {},
     "output_type": "display_data"
    },
    {
     "data": {
      "text/markdown": [
       "### thresholded_marginals_3_max_abs_diff_error"
      ],
      "text/plain": [
       "<IPython.core.display.Markdown object>"
      ]
     },
     "metadata": {},
     "output_type": "display_data"
    },
    {
     "data": {
      "text/markdown": [
       "### thresholded_marginals_3_avg_abs_diff_error"
      ],
      "text/plain": [
       "<IPython.core.display.Markdown object>"
      ]
     },
     "metadata": {},
     "output_type": "display_data"
    },
    {
     "data": {
      "text/markdown": [
       "### pearson_corr_max_abs_diff"
      ],
      "text/plain": [
       "<IPython.core.display.Markdown object>"
      ]
     },
     "metadata": {},
     "output_type": "display_data"
    },
    {
     "data": {
      "text/markdown": [
       "### pearson_corr_avg_abs_diff"
      ],
      "text/plain": [
       "<IPython.core.display.Markdown object>"
      ]
     },
     "metadata": {},
     "output_type": "display_data"
    },
    {
     "data": {
      "text/markdown": [
       "### cramer_v_corr_max_abs_diff"
      ],
      "text/plain": [
       "<IPython.core.display.Markdown object>"
      ]
     },
     "metadata": {},
     "output_type": "display_data"
    },
    {
     "data": {
      "text/markdown": [
       "### cramer_v_corr_avg_abs_diff"
      ],
      "text/plain": [
       "<IPython.core.display.Markdown object>"
      ]
     },
     "metadata": {},
     "output_type": "display_data"
    },
    {
     "data": {
      "text/markdown": [
       "### error_rate_diff"
      ],
      "text/plain": [
       "<IPython.core.display.Markdown object>"
      ]
     },
     "metadata": {},
     "output_type": "display_data"
    },
    {
     "name": "stdout",
     "output_type": "stream",
     "text": [
      "Error in extractor function:\n",
      " - synth_name: aim_jax\n",
      " - epsilon: 1\n",
      " - dev_name: edad/gen-MIX-MAX\n",
      " - test_name: edad/2023\n",
      " - Error: Cannot index by location index with a non-integer key\n",
      "Error in evaluate method: Cannot index by location index with a non-integer key\n",
      "Error: Cannot index by location index with a non-integer key\n"
     ]
    },
    {
     "data": {
      "text/markdown": [
       "### error_rate_train_dataset"
      ],
      "text/plain": [
       "<IPython.core.display.Markdown object>"
      ]
     },
     "metadata": {},
     "output_type": "display_data"
    },
    {
     "name": "stdout",
     "output_type": "stream",
     "text": [
      "Error in extractor function:\n",
      " - synth_name: aim_jax\n",
      " - epsilon: 1\n",
      " - dev_name: edad/gen-MIX-MAX\n",
      " - test_name: edad/2023\n",
      " - Error: Cannot index by location index with a non-integer key\n",
      "Error in evaluate method: Cannot index by location index with a non-integer key\n",
      "Error: Cannot index by location index with a non-integer key\n"
     ]
    },
    {
     "data": {
      "text/markdown": [
       "### error_rate_synth_dataset"
      ],
      "text/plain": [
       "<IPython.core.display.Markdown object>"
      ]
     },
     "metadata": {},
     "output_type": "display_data"
    },
    {
     "name": "stdout",
     "output_type": "stream",
     "text": [
      "Error in extractor function:\n",
      " - synth_name: aim_jax\n",
      " - epsilon: 1\n",
      " - dev_name: edad/gen-MIX-MAX\n",
      " - test_name: edad/2023\n",
      " - Error: Cannot index by location index with a non-integer key\n",
      "Error in evaluate method: Cannot index by location index with a non-integer key\n",
      "Error: Cannot index by location index with a non-integer key\n"
     ]
    },
    {
     "data": {
      "text/markdown": [
       "### aoc_diff"
      ],
      "text/plain": [
       "<IPython.core.display.Markdown object>"
      ]
     },
     "metadata": {},
     "output_type": "display_data"
    },
    {
     "name": "stdout",
     "output_type": "stream",
     "text": [
      "Error in extractor function:\n",
      " - synth_name: aim_jax\n",
      " - epsilon: 1\n",
      " - dev_name: edad/gen-MIX-MAX\n",
      " - test_name: edad/2023\n",
      " - Error: Cannot index by location index with a non-integer key\n",
      "Error in evaluate method: Cannot index by location index with a non-integer key\n",
      "Error: Cannot index by location index with a non-integer key\n"
     ]
    },
    {
     "data": {
      "text/markdown": [
       "### aoc_train_dataset"
      ],
      "text/plain": [
       "<IPython.core.display.Markdown object>"
      ]
     },
     "metadata": {},
     "output_type": "display_data"
    },
    {
     "name": "stdout",
     "output_type": "stream",
     "text": [
      "Error in extractor function:\n",
      " - synth_name: aim_jax\n",
      " - epsilon: 1\n",
      " - dev_name: edad/gen-MIX-MAX\n",
      " - test_name: edad/2023\n",
      " - Error: Cannot index by location index with a non-integer key\n",
      "Error in evaluate method: Cannot index by location index with a non-integer key\n",
      "Error: Cannot index by location index with a non-integer key\n"
     ]
    },
    {
     "data": {
      "text/markdown": [
       "### aoc_synth_dataset"
      ],
      "text/plain": [
       "<IPython.core.display.Markdown object>"
      ]
     },
     "metadata": {},
     "output_type": "display_data"
    },
    {
     "name": "stdout",
     "output_type": "stream",
     "text": [
      "Error in extractor function:\n",
      " - synth_name: aim_jax\n",
      " - epsilon: 1\n",
      " - dev_name: edad/gen-MIX-MAX\n",
      " - test_name: edad/2023\n",
      " - Error: Cannot index by location index with a non-integer key\n",
      "Error in evaluate method: Cannot index by location index with a non-integer key\n",
      "Error: Cannot index by location index with a non-integer key\n"
     ]
    },
    {
     "data": {
      "text/markdown": [
       "## WE"
      ],
      "text/plain": [
       "<IPython.core.display.Markdown object>"
      ]
     },
     "metadata": {},
     "output_type": "display_data"
    },
    {
     "data": {
      "text/markdown": [
       "### total_variation_distance"
      ],
      "text/plain": [
       "<IPython.core.display.Markdown object>"
      ]
     },
     "metadata": {},
     "output_type": "display_data"
    },
    {
     "data": {
      "text/markdown": [
       "### marginals_3_max_abs_diff_error"
      ],
      "text/plain": [
       "<IPython.core.display.Markdown object>"
      ]
     },
     "metadata": {},
     "output_type": "display_data"
    },
    {
     "data": {
      "text/markdown": [
       "### marginals_3_avg_abs_diff_error"
      ],
      "text/plain": [
       "<IPython.core.display.Markdown object>"
      ]
     },
     "metadata": {},
     "output_type": "display_data"
    },
    {
     "data": {
      "text/markdown": [
       "### thresholded_marginals_3_max_abs_diff_error"
      ],
      "text/plain": [
       "<IPython.core.display.Markdown object>"
      ]
     },
     "metadata": {},
     "output_type": "display_data"
    },
    {
     "data": {
      "text/markdown": [
       "### thresholded_marginals_3_avg_abs_diff_error"
      ],
      "text/plain": [
       "<IPython.core.display.Markdown object>"
      ]
     },
     "metadata": {},
     "output_type": "display_data"
    },
    {
     "data": {
      "text/markdown": [
       "### pearson_corr_max_abs_diff"
      ],
      "text/plain": [
       "<IPython.core.display.Markdown object>"
      ]
     },
     "metadata": {},
     "output_type": "display_data"
    },
    {
     "data": {
      "text/markdown": [
       "### pearson_corr_avg_abs_diff"
      ],
      "text/plain": [
       "<IPython.core.display.Markdown object>"
      ]
     },
     "metadata": {},
     "output_type": "display_data"
    },
    {
     "data": {
      "text/markdown": [
       "### cramer_v_corr_max_abs_diff"
      ],
      "text/plain": [
       "<IPython.core.display.Markdown object>"
      ]
     },
     "metadata": {},
     "output_type": "display_data"
    },
    {
     "data": {
      "text/markdown": [
       "### cramer_v_corr_avg_abs_diff"
      ],
      "text/plain": [
       "<IPython.core.display.Markdown object>"
      ]
     },
     "metadata": {},
     "output_type": "display_data"
    },
    {
     "data": {
      "text/markdown": [
       "### error_rate_diff"
      ],
      "text/plain": [
       "<IPython.core.display.Markdown object>"
      ]
     },
     "metadata": {},
     "output_type": "display_data"
    },
    {
     "data": {
      "text/markdown": [
       "### error_rate_train_dataset"
      ],
      "text/plain": [
       "<IPython.core.display.Markdown object>"
      ]
     },
     "metadata": {},
     "output_type": "display_data"
    },
    {
     "data": {
      "text/markdown": [
       "### error_rate_synth_dataset"
      ],
      "text/plain": [
       "<IPython.core.display.Markdown object>"
      ]
     },
     "metadata": {},
     "output_type": "display_data"
    },
    {
     "data": {
      "text/markdown": [
       "### aoc_diff"
      ],
      "text/plain": [
       "<IPython.core.display.Markdown object>"
      ]
     },
     "metadata": {},
     "output_type": "display_data"
    },
    {
     "data": {
      "text/markdown": [
       "### aoc_train_dataset"
      ],
      "text/plain": [
       "<IPython.core.display.Markdown object>"
      ]
     },
     "metadata": {},
     "output_type": "display_data"
    },
    {
     "data": {
      "text/markdown": [
       "### aoc_synth_dataset"
      ],
      "text/plain": [
       "<IPython.core.display.Markdown object>"
      ]
     },
     "metadata": {},
     "output_type": "display_data"
    }
   ],
   "source": [
    "# suppress warnings\n",
    "import warnings\n",
    "warnings.filterwarnings(\"ignore\")\n",
    "\n",
    "column_to_rank_on = 'correspond_test'\n",
    "for experiments_name, experiments in ALL_EXPERIMENTS_OBJ.items():\n",
    "\n",
    "    display(Markdown(f\"## {experiments_name.upper()}\"))\n",
    "\n",
    "    datasets = {}\n",
    "\n",
    "    for metric in ydnpd.EVALUATION_METRICS:\n",
    "\n",
    "        display(Markdown(f\"### {metric}\"))\n",
    "        with pd.option_context(\"display.max_rows\", None):\n",
    "            try: \n",
    "                df_extract_all = ydnpd.UtilityTask.evaluate(utility_tasks_results, experiments, metric).multiply(100).round(2)\n",
    "                \n",
    "                # flatten df_extract_all\n",
    "                df_extract_all = df_extract_all.reset_index()\n",
    "\n",
    "                df_extract_all_smaller = df_extract_all[['synth_name', 'experiment', 'epsilon', column_to_rank_on]] \n",
    "\n",
    "                metric_direction = METRIC_DIRECTION[metric]\n",
    "\n",
    "                df_extract_all_smaller[\"_raw_value\"] = df_extract_all_smaller[column_to_rank_on]\n",
    "\n",
    "                grp = df_extract_all_smaller.groupby([\"experiment\", \"epsilon\"])[\"_raw_value\"]\n",
    "\n",
    "                if metric_direction in [\"closer_to_zero_is_better\", \"lower_is_better\"]:\n",
    "                    # baseline is best  or lowest in that group\n",
    "                    baseline_series = grp.transform(\"min\")\n",
    "                    df_extract_all_smaller[\"_advantage\"] = (\n",
    "                        baseline_series - df_extract_all_smaller[\"_raw_value\"]\n",
    "                    ) / baseline_series\n",
    "                else:\n",
    "                    # baseline is best or highest in that group\n",
    "                    baseline_series = grp.transform(\"max\")\n",
    "                    df_extract_all_smaller[\"_advantage\"] = (\n",
    "                        df_extract_all_smaller[\"_raw_value\"] - baseline_series\n",
    "                    ) / baseline_series\n",
    "\n",
    "                df_extract_all_smaller = df_extract_all_smaller.sort_values(\n",
    "                    by=[\"experiment\", \"epsilon\", \"_advantage\"],\n",
    "                    ascending=[True, True, False],\n",
    "                )\n",
    "\n",
    "                df_extract_all_smaller[\"_advantage_rank\"] = df_extract_all_smaller.groupby(\n",
    "                    [\"experiment\", \"epsilon\"]\n",
    "                ).cumcount() + 1\n",
    "\n",
    "                df_experiment_best = (\n",
    "                    df_extract_all_smaller\n",
    "                    .groupby([\"synth_name\", \"experiment\"], as_index=False)[\"_advantage_rank\"]\n",
    "                    .min()\n",
    "                )\n",
    "\n",
    "                df_final_avg = (\n",
    "                    df_experiment_best\n",
    "                    .groupby([\"experiment\", \"synth_name\"])[\"_advantage_rank\"]\n",
    "                    .mean()\n",
    "                    .reset_index()\n",
    "                )\n",
    "\n",
    "                df_final_avg.to_csv(f\"./results/advantage_rankings/{metric}_{experiments_name}_advantage.csv\")\n",
    "\n",
    "            except Exception as e:\n",
    "                print(f\"Error: {e}\")\n",
    "                continue\n",
    "\n"
   ]
  },
  {
   "cell_type": "code",
   "execution_count": 14,
   "metadata": {},
   "outputs": [
    {
     "data": {
      "text/html": [
       "<div>\n",
       "<style scoped>\n",
       "    .dataframe tbody tr th:only-of-type {\n",
       "        vertical-align: middle;\n",
       "    }\n",
       "\n",
       "    .dataframe tbody tr th {\n",
       "        vertical-align: top;\n",
       "    }\n",
       "\n",
       "    .dataframe thead th {\n",
       "        text-align: right;\n",
       "    }\n",
       "</style>\n",
       "<table border=\"1\" class=\"dataframe\">\n",
       "  <thead>\n",
       "    <tr style=\"text-align: right;\">\n",
       "      <th></th>\n",
       "      <th>experiment</th>\n",
       "      <th>synth_name</th>\n",
       "      <th>_advantage_rank</th>\n",
       "    </tr>\n",
       "  </thead>\n",
       "  <tbody>\n",
       "    <tr>\n",
       "      <th>0</th>\n",
       "      <td>we/2023/we/arbitrary</td>\n",
       "      <td>aim_jax</td>\n",
       "      <td>1.25</td>\n",
       "    </tr>\n",
       "    <tr>\n",
       "      <th>1</th>\n",
       "      <td>we/2023/we/arbitrary</td>\n",
       "      <td>gem</td>\n",
       "      <td>3.00</td>\n",
       "    </tr>\n",
       "    <tr>\n",
       "      <th>2</th>\n",
       "      <td>we/2023/we/arbitrary</td>\n",
       "      <td>privbayes</td>\n",
       "      <td>1.75</td>\n",
       "    </tr>\n",
       "    <tr>\n",
       "      <th>3</th>\n",
       "      <td>we/2023/we/baseline_domain</td>\n",
       "      <td>aim_jax</td>\n",
       "      <td>1.75</td>\n",
       "    </tr>\n",
       "    <tr>\n",
       "      <th>4</th>\n",
       "      <td>we/2023/we/baseline_domain</td>\n",
       "      <td>gem</td>\n",
       "      <td>3.00</td>\n",
       "    </tr>\n",
       "    <tr>\n",
       "      <th>5</th>\n",
       "      <td>we/2023/we/baseline_domain</td>\n",
       "      <td>privbayes</td>\n",
       "      <td>1.25</td>\n",
       "    </tr>\n",
       "    <tr>\n",
       "      <th>6</th>\n",
       "      <td>we/2023/we/baseline_univariate</td>\n",
       "      <td>aim_jax</td>\n",
       "      <td>1.25</td>\n",
       "    </tr>\n",
       "    <tr>\n",
       "      <th>7</th>\n",
       "      <td>we/2023/we/baseline_univariate</td>\n",
       "      <td>gem</td>\n",
       "      <td>3.00</td>\n",
       "    </tr>\n",
       "    <tr>\n",
       "      <th>8</th>\n",
       "      <td>we/2023/we/baseline_univariate</td>\n",
       "      <td>privbayes</td>\n",
       "      <td>1.75</td>\n",
       "    </tr>\n",
       "    <tr>\n",
       "      <th>9</th>\n",
       "      <td>we/2023/we/csv-claude</td>\n",
       "      <td>aim_jax</td>\n",
       "      <td>1.25</td>\n",
       "    </tr>\n",
       "    <tr>\n",
       "      <th>10</th>\n",
       "      <td>we/2023/we/csv-claude</td>\n",
       "      <td>gem</td>\n",
       "      <td>2.75</td>\n",
       "    </tr>\n",
       "    <tr>\n",
       "      <th>11</th>\n",
       "      <td>we/2023/we/csv-claude</td>\n",
       "      <td>privbayes</td>\n",
       "      <td>2.00</td>\n",
       "    </tr>\n",
       "    <tr>\n",
       "      <th>12</th>\n",
       "      <td>we/2023/we/csv-gpt</td>\n",
       "      <td>aim_jax</td>\n",
       "      <td>1.00</td>\n",
       "    </tr>\n",
       "    <tr>\n",
       "      <th>13</th>\n",
       "      <td>we/2023/we/csv-gpt</td>\n",
       "      <td>gem</td>\n",
       "      <td>2.75</td>\n",
       "    </tr>\n",
       "    <tr>\n",
       "      <th>14</th>\n",
       "      <td>we/2023/we/csv-gpt</td>\n",
       "      <td>privbayes</td>\n",
       "      <td>2.25</td>\n",
       "    </tr>\n",
       "    <tr>\n",
       "      <th>15</th>\n",
       "      <td>we/2023/we/csv-llama</td>\n",
       "      <td>aim_jax</td>\n",
       "      <td>1.00</td>\n",
       "    </tr>\n",
       "    <tr>\n",
       "      <th>16</th>\n",
       "      <td>we/2023/we/csv-llama</td>\n",
       "      <td>gem</td>\n",
       "      <td>3.00</td>\n",
       "    </tr>\n",
       "    <tr>\n",
       "      <th>17</th>\n",
       "      <td>we/2023/we/csv-llama</td>\n",
       "      <td>privbayes</td>\n",
       "      <td>2.00</td>\n",
       "    </tr>\n",
       "    <tr>\n",
       "      <th>18</th>\n",
       "      <td>we/2023/we/gen-MIX-MAX</td>\n",
       "      <td>aim_jax</td>\n",
       "      <td>1.25</td>\n",
       "    </tr>\n",
       "    <tr>\n",
       "      <th>19</th>\n",
       "      <td>we/2023/we/gen-MIX-MAX</td>\n",
       "      <td>gem</td>\n",
       "      <td>3.00</td>\n",
       "    </tr>\n",
       "    <tr>\n",
       "      <th>20</th>\n",
       "      <td>we/2023/we/gen-MIX-MAX</td>\n",
       "      <td>privbayes</td>\n",
       "      <td>1.75</td>\n",
       "    </tr>\n",
       "    <tr>\n",
       "      <th>21</th>\n",
       "      <td>we/2023/we/gen-MIX-UNIF</td>\n",
       "      <td>aim_jax</td>\n",
       "      <td>1.00</td>\n",
       "    </tr>\n",
       "    <tr>\n",
       "      <th>22</th>\n",
       "      <td>we/2023/we/gen-MIX-UNIF</td>\n",
       "      <td>gem</td>\n",
       "      <td>3.00</td>\n",
       "    </tr>\n",
       "    <tr>\n",
       "      <th>23</th>\n",
       "      <td>we/2023/we/gen-MIX-UNIF</td>\n",
       "      <td>privbayes</td>\n",
       "      <td>2.00</td>\n",
       "    </tr>\n",
       "    <tr>\n",
       "      <th>24</th>\n",
       "      <td>we/2023/we/gen-claude-MIX-MAX</td>\n",
       "      <td>aim_jax</td>\n",
       "      <td>1.25</td>\n",
       "    </tr>\n",
       "    <tr>\n",
       "      <th>25</th>\n",
       "      <td>we/2023/we/gen-claude-MIX-MAX</td>\n",
       "      <td>gem</td>\n",
       "      <td>3.00</td>\n",
       "    </tr>\n",
       "    <tr>\n",
       "      <th>26</th>\n",
       "      <td>we/2023/we/gen-claude-MIX-MAX</td>\n",
       "      <td>privbayes</td>\n",
       "      <td>1.75</td>\n",
       "    </tr>\n",
       "    <tr>\n",
       "      <th>27</th>\n",
       "      <td>we/2023/we/gen-claude-MIX-UNIF</td>\n",
       "      <td>aim_jax</td>\n",
       "      <td>1.25</td>\n",
       "    </tr>\n",
       "    <tr>\n",
       "      <th>28</th>\n",
       "      <td>we/2023/we/gen-claude-MIX-UNIF</td>\n",
       "      <td>gem</td>\n",
       "      <td>3.00</td>\n",
       "    </tr>\n",
       "    <tr>\n",
       "      <th>29</th>\n",
       "      <td>we/2023/we/gen-claude-MIX-UNIF</td>\n",
       "      <td>privbayes</td>\n",
       "      <td>1.75</td>\n",
       "    </tr>\n",
       "    <tr>\n",
       "      <th>30</th>\n",
       "      <td>we/2023/we/gen-gpt-MIX-MAX</td>\n",
       "      <td>aim_jax</td>\n",
       "      <td>1.25</td>\n",
       "    </tr>\n",
       "    <tr>\n",
       "      <th>31</th>\n",
       "      <td>we/2023/we/gen-gpt-MIX-MAX</td>\n",
       "      <td>gem</td>\n",
       "      <td>3.00</td>\n",
       "    </tr>\n",
       "    <tr>\n",
       "      <th>32</th>\n",
       "      <td>we/2023/we/gen-gpt-MIX-MAX</td>\n",
       "      <td>privbayes</td>\n",
       "      <td>1.75</td>\n",
       "    </tr>\n",
       "    <tr>\n",
       "      <th>33</th>\n",
       "      <td>we/2023/we/gen-gpt-MIX-UNIF</td>\n",
       "      <td>aim_jax</td>\n",
       "      <td>1.25</td>\n",
       "    </tr>\n",
       "    <tr>\n",
       "      <th>34</th>\n",
       "      <td>we/2023/we/gen-gpt-MIX-UNIF</td>\n",
       "      <td>gem</td>\n",
       "      <td>3.00</td>\n",
       "    </tr>\n",
       "    <tr>\n",
       "      <th>35</th>\n",
       "      <td>we/2023/we/gen-gpt-MIX-UNIF</td>\n",
       "      <td>privbayes</td>\n",
       "      <td>1.75</td>\n",
       "    </tr>\n",
       "    <tr>\n",
       "      <th>36</th>\n",
       "      <td>we/2023/we/gen-llama-MIX-MAX</td>\n",
       "      <td>aim_jax</td>\n",
       "      <td>1.00</td>\n",
       "    </tr>\n",
       "    <tr>\n",
       "      <th>37</th>\n",
       "      <td>we/2023/we/gen-llama-MIX-MAX</td>\n",
       "      <td>gem</td>\n",
       "      <td>3.00</td>\n",
       "    </tr>\n",
       "    <tr>\n",
       "      <th>38</th>\n",
       "      <td>we/2023/we/gen-llama-MIX-MAX</td>\n",
       "      <td>privbayes</td>\n",
       "      <td>2.00</td>\n",
       "    </tr>\n",
       "    <tr>\n",
       "      <th>39</th>\n",
       "      <td>we/2023/we/gen-llama-MIX-UNIF</td>\n",
       "      <td>aim_jax</td>\n",
       "      <td>1.00</td>\n",
       "    </tr>\n",
       "    <tr>\n",
       "      <th>40</th>\n",
       "      <td>we/2023/we/gen-llama-MIX-UNIF</td>\n",
       "      <td>gem</td>\n",
       "      <td>3.00</td>\n",
       "    </tr>\n",
       "    <tr>\n",
       "      <th>41</th>\n",
       "      <td>we/2023/we/gen-llama-MIX-UNIF</td>\n",
       "      <td>privbayes</td>\n",
       "      <td>2.00</td>\n",
       "    </tr>\n",
       "    <tr>\n",
       "      <th>42</th>\n",
       "      <td>we/2023/we/sdscm-gpt2</td>\n",
       "      <td>aim_jax</td>\n",
       "      <td>1.00</td>\n",
       "    </tr>\n",
       "    <tr>\n",
       "      <th>43</th>\n",
       "      <td>we/2023/we/sdscm-gpt2</td>\n",
       "      <td>gem</td>\n",
       "      <td>2.75</td>\n",
       "    </tr>\n",
       "    <tr>\n",
       "      <th>44</th>\n",
       "      <td>we/2023/we/sdscm-gpt2</td>\n",
       "      <td>privbayes</td>\n",
       "      <td>2.25</td>\n",
       "    </tr>\n",
       "    <tr>\n",
       "      <th>45</th>\n",
       "      <td>we/2023/we/sdscm-llama-3-8b</td>\n",
       "      <td>aim_jax</td>\n",
       "      <td>1.25</td>\n",
       "    </tr>\n",
       "    <tr>\n",
       "      <th>46</th>\n",
       "      <td>we/2023/we/sdscm-llama-3-8b</td>\n",
       "      <td>gem</td>\n",
       "      <td>2.75</td>\n",
       "    </tr>\n",
       "    <tr>\n",
       "      <th>47</th>\n",
       "      <td>we/2023/we/sdscm-llama-3-8b</td>\n",
       "      <td>privbayes</td>\n",
       "      <td>2.00</td>\n",
       "    </tr>\n",
       "    <tr>\n",
       "      <th>48</th>\n",
       "      <td>we/2023/we/sdscm-olmo-1b-hf</td>\n",
       "      <td>aim_jax</td>\n",
       "      <td>1.25</td>\n",
       "    </tr>\n",
       "    <tr>\n",
       "      <th>49</th>\n",
       "      <td>we/2023/we/sdscm-olmo-1b-hf</td>\n",
       "      <td>gem</td>\n",
       "      <td>3.00</td>\n",
       "    </tr>\n",
       "    <tr>\n",
       "      <th>50</th>\n",
       "      <td>we/2023/we/sdscm-olmo-1b-hf</td>\n",
       "      <td>privbayes</td>\n",
       "      <td>1.75</td>\n",
       "    </tr>\n",
       "  </tbody>\n",
       "</table>\n",
       "</div>"
      ],
      "text/plain": [
       "                        experiment synth_name  _advantage_rank\n",
       "0             we/2023/we/arbitrary    aim_jax             1.25\n",
       "1             we/2023/we/arbitrary        gem             3.00\n",
       "2             we/2023/we/arbitrary  privbayes             1.75\n",
       "3       we/2023/we/baseline_domain    aim_jax             1.75\n",
       "4       we/2023/we/baseline_domain        gem             3.00\n",
       "5       we/2023/we/baseline_domain  privbayes             1.25\n",
       "6   we/2023/we/baseline_univariate    aim_jax             1.25\n",
       "7   we/2023/we/baseline_univariate        gem             3.00\n",
       "8   we/2023/we/baseline_univariate  privbayes             1.75\n",
       "9            we/2023/we/csv-claude    aim_jax             1.25\n",
       "10           we/2023/we/csv-claude        gem             2.75\n",
       "11           we/2023/we/csv-claude  privbayes             2.00\n",
       "12              we/2023/we/csv-gpt    aim_jax             1.00\n",
       "13              we/2023/we/csv-gpt        gem             2.75\n",
       "14              we/2023/we/csv-gpt  privbayes             2.25\n",
       "15            we/2023/we/csv-llama    aim_jax             1.00\n",
       "16            we/2023/we/csv-llama        gem             3.00\n",
       "17            we/2023/we/csv-llama  privbayes             2.00\n",
       "18          we/2023/we/gen-MIX-MAX    aim_jax             1.25\n",
       "19          we/2023/we/gen-MIX-MAX        gem             3.00\n",
       "20          we/2023/we/gen-MIX-MAX  privbayes             1.75\n",
       "21         we/2023/we/gen-MIX-UNIF    aim_jax             1.00\n",
       "22         we/2023/we/gen-MIX-UNIF        gem             3.00\n",
       "23         we/2023/we/gen-MIX-UNIF  privbayes             2.00\n",
       "24   we/2023/we/gen-claude-MIX-MAX    aim_jax             1.25\n",
       "25   we/2023/we/gen-claude-MIX-MAX        gem             3.00\n",
       "26   we/2023/we/gen-claude-MIX-MAX  privbayes             1.75\n",
       "27  we/2023/we/gen-claude-MIX-UNIF    aim_jax             1.25\n",
       "28  we/2023/we/gen-claude-MIX-UNIF        gem             3.00\n",
       "29  we/2023/we/gen-claude-MIX-UNIF  privbayes             1.75\n",
       "30      we/2023/we/gen-gpt-MIX-MAX    aim_jax             1.25\n",
       "31      we/2023/we/gen-gpt-MIX-MAX        gem             3.00\n",
       "32      we/2023/we/gen-gpt-MIX-MAX  privbayes             1.75\n",
       "33     we/2023/we/gen-gpt-MIX-UNIF    aim_jax             1.25\n",
       "34     we/2023/we/gen-gpt-MIX-UNIF        gem             3.00\n",
       "35     we/2023/we/gen-gpt-MIX-UNIF  privbayes             1.75\n",
       "36    we/2023/we/gen-llama-MIX-MAX    aim_jax             1.00\n",
       "37    we/2023/we/gen-llama-MIX-MAX        gem             3.00\n",
       "38    we/2023/we/gen-llama-MIX-MAX  privbayes             2.00\n",
       "39   we/2023/we/gen-llama-MIX-UNIF    aim_jax             1.00\n",
       "40   we/2023/we/gen-llama-MIX-UNIF        gem             3.00\n",
       "41   we/2023/we/gen-llama-MIX-UNIF  privbayes             2.00\n",
       "42           we/2023/we/sdscm-gpt2    aim_jax             1.00\n",
       "43           we/2023/we/sdscm-gpt2        gem             2.75\n",
       "44           we/2023/we/sdscm-gpt2  privbayes             2.25\n",
       "45     we/2023/we/sdscm-llama-3-8b    aim_jax             1.25\n",
       "46     we/2023/we/sdscm-llama-3-8b        gem             2.75\n",
       "47     we/2023/we/sdscm-llama-3-8b  privbayes             2.00\n",
       "48     we/2023/we/sdscm-olmo-1b-hf    aim_jax             1.25\n",
       "49     we/2023/we/sdscm-olmo-1b-hf        gem             3.00\n",
       "50     we/2023/we/sdscm-olmo-1b-hf  privbayes             1.75"
      ]
     },
     "execution_count": 14,
     "metadata": {},
     "output_type": "execute_result"
    }
   ],
   "source": [
    "df_final_avg"
   ]
  },
  {
   "cell_type": "code",
   "execution_count": null,
   "metadata": {},
   "outputs": [],
   "source": []
  }
 ],
 "metadata": {
  "kernelspec": {
   "display_name": "fairly_uncertain",
   "language": "python",
   "name": "python3"
  },
  "language_info": {
   "codemirror_mode": {
    "name": "ipython",
    "version": 3
   },
   "file_extension": ".py",
   "mimetype": "text/x-python",
   "name": "python",
   "nbconvert_exporter": "python",
   "pygments_lexer": "ipython3",
   "version": "3.10.15"
  }
 },
 "nbformat": 4,
 "nbformat_minor": 2
}
