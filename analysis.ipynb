{
 "cells": [
  {
   "cell_type": "code",
   "execution_count": null,
   "metadata": {},
   "outputs": [],
   "source": [
    "import os\n",
    "\n",
    "os.environ[\"PRIVBAYES_BIN\"] = \"./ydnpd/synthesis/privbayes\"\n",
    "\n",
    "import numpy as np\n",
    "import pandas as pd\n",
    "from matplotlib import pyplot as plt\n",
    "from IPython.display import display, Markdown\n",
    "import wandb\n",
    "\n",
    "import ydnpd"
   ]
  },
  {
   "cell_type": "code",
   "execution_count": null,
   "metadata": {},
   "outputs": [],
   "source": [
    "WANDB_GROUPS = [\"test\"]  # to add patectgan: \"test2\""
   ]
  },
  {
   "cell_type": "markdown",
   "metadata": {},
   "source": [
    "## Tasks"
   ]
  },
  {
   "cell_type": "code",
   "execution_count": null,
   "metadata": {},
   "outputs": [],
   "source": [
    "total_task_size = 0\n",
    "for idx, task in enumerate(ydnpd.span_utility_tasks(), start=1):\n",
    "    print(f\"{idx:2} {task}\")\n",
    "    total_task_size += task.size()\n",
    "print(f\"\\nTotal task size: {total_task_size}\")"
   ]
  },
  {
   "cell_type": "markdown",
   "metadata": {},
   "source": [
    "## Load Results from W&B"
   ]
  },
  {
   "cell_type": "code",
   "execution_count": null,
   "metadata": {},
   "outputs": [],
   "source": [
    "api = wandb.Api()\n",
    "\n",
    "runs = api.runs(path=f\"shlomihod/ydnpd\")\n",
    "\n",
    "utility_tasks_results = []\n",
    "\n",
    "for run in runs:\n",
    "    if run.group in WANDB_GROUPS:\n",
    "        for step_data in run.history().to_dict(orient=\"records\"):\n",
    "\n",
    "            # TODO: why does this happen?\n",
    "            if step_data[\"_step\"] >= ydnpd.config.NUM_RUNS:\n",
    "                print(f\"Run {run.id} has more than {ydnpd.config.NUM_RUNS} steps\")\n",
    "                continue\n",
    "\n",
    "            # TODO: why does this happen?\n",
    "            for metric in step_data:\n",
    "                if not metric.startswith(\"_\") and step_data[metric] in [\"NaN\"]:\n",
    "                    step_data[metric] = np.nan\n",
    "\n",
    "            utility_tasks_results.append(dict(run.config) | {\"evaluation\": step_data})"
   ]
  },
  {
   "cell_type": "markdown",
   "metadata": {},
   "source": [
    "## Utility-Related Tasks"
   ]
  },
  {
   "cell_type": "code",
   "execution_count": null,
   "metadata": {},
   "outputs": [],
   "source": [
    "for experiments_name, experiments in ydnpd.config.ALL_EXPERIMENTS.items():\n",
    "\n",
    "    display(Markdown(f\"## {experiments_name}\"))\n",
    "\n",
    "    for metric in ydnpd.EVALUATION_METRICS:\n",
    "        if metric not in utility_tasks_results[0][\"evaluation\"]:\n",
    "            continue\n",
    "\n",
    "        display(Markdown(f\"### {metric}\"))\n",
    "\n",
    "        gs = ydnpd.UtilityTask.plot(\n",
    "            utility_tasks_results, experiments, metric=metric\n",
    "        )\n",
    "\n",
    "        for g in gs:\n",
    "            display(g.fig)\n",
    "            plt.close(g.fig)\n",
    "\n",
    "    for metric in ydnpd.EVALUATION_METRICS:\n",
    "        if metric not in utility_tasks_results[0][\"evaluation\"]:\n",
    "            continue\n",
    "\n",
    "        display(Markdown(f\"## {metric}\"))\n",
    "        with pd.option_context(\"display.max_rows\", None):\n",
    "            display(\n",
    "                ydnpd.UtilityTask.evaluate(\n",
    "                    utility_tasks_results, experiments, metric\n",
    "                )\n",
    "                .multiply(100)\n",
    "                .round(1)\n",
    "            )"
   ]
  }
 ],
 "metadata": {
  "kernelspec": {
   "display_name": "sdnist",
   "language": "python",
   "name": "python3"
  },
  "language_info": {
   "codemirror_mode": {
    "name": "ipython",
    "version": 3
   },
   "file_extension": ".py",
   "mimetype": "text/x-python",
   "name": "python",
   "nbconvert_exporter": "python",
   "pygments_lexer": "ipython3",
   "version": "3.10.14"
  }
 },
 "nbformat": 4,
 "nbformat_minor": 2
}
