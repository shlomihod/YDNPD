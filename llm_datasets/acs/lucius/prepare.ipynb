{
 "cells": [
  {
   "cell_type": "code",
   "execution_count": 1,
   "metadata": {},
   "outputs": [],
   "source": [
    "import sys\n",
    "from pathlib import Path\n",
    "\n",
    "import pandas as pd\n",
    "\n",
    "sys.path.append(\"../../..\")\n",
    "from ydnpd import load_dataset\n",
    "\n",
    "\n",
    "NUM_SAMPLES = len(load_dataset(\"acs/national\")[0])\n",
    "RANDOM_STATE = 42"
   ]
  },
  {
   "cell_type": "code",
   "execution_count": 2,
   "metadata": {},
   "outputs": [],
   "source": [
    "for filename in Path(\".\").glob(\"*.csv\"):\n",
    "    df = pd.read_csv(filename)\n",
    "\n",
    "    start_at_one_columns = list(set(df.columns) - {\"PINCP_DECILE\", \"OWN_RENT\", \"EDU\"})\n",
    "    df[start_at_one_columns] += 1\n",
    "\n",
    "    df[\"EDU\"] -=1\n",
    "    df = df[df[\"EDU\"] > 0]\n",
    "\n",
    "\n",
    "    upsampled_filename = filename.stem + \"_upsampled\" + filename.suffix\n",
    "    upsampled_df = df.sample(NUM_SAMPLES, replace=True)\n",
    "    upsampled_df.to_csv(Path(\"..\") / upsampled_filename, index=False)"
   ]
  }
 ],
 "metadata": {
  "kernelspec": {
   "display_name": "ydnpd",
   "language": "python",
   "name": "python3"
  },
  "language_info": {
   "codemirror_mode": {
    "name": "ipython",
    "version": 3
   },
   "file_extension": ".py",
   "mimetype": "text/x-python",
   "name": "python",
   "nbconvert_exporter": "python",
   "pygments_lexer": "ipython3",
   "version": "3.10.16"
  }
 },
 "nbformat": 4,
 "nbformat_minor": 2
}
