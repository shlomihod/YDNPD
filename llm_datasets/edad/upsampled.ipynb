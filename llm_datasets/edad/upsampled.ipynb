{
 "cells": [
  {
   "cell_type": "code",
   "execution_count": 21,
   "metadata": {},
   "outputs": [
    {
     "name": "stdout",
     "output_type": "stream",
     "text": [
      "llm_datasets/edad/sdscm-gpt2.csv\n"
     ]
    }
   ],
   "source": [
    "from ydnpd import load_dataset\n",
    "from ydnpd.datasets.preparation import RANDOM_SEED_GENERATION, save_dataset\n",
    "\n",
    "\n",
    "name = \"sdscm-gpt2\"  # olmo-1b-hf\n",
    "\n",
    "dataset, _, _ = load_dataset(f\"edad/{name}-small\", \"./llm_datasets\")\n",
    "other_dataset, _, _ = load_dataset(\"edad/2020\")\n",
    "num_records = len(other_dataset)\n",
    "\n",
    "num_records\n",
    "upsampled_dataset = dataset.sample(\n",
    "    num_records, replace=True, random_state=RANDOM_SEED_GENERATION\n",
    ")\n",
    "\n",
    "save_dataset(upsampled_dataset, \"./llm_datasets/edad\", name)"
   ]
  }
 ],
 "metadata": {
  "kernelspec": {
   "display_name": "ydnpd",
   "language": "python",
   "name": "python3"
  },
  "language_info": {
   "codemirror_mode": {
    "name": "ipython",
    "version": 3
   },
   "file_extension": ".py",
   "mimetype": "text/x-python",
   "name": "python",
   "nbconvert_exporter": "python",
   "pygments_lexer": "ipython3",
   "version": "3.10.16"
  }
 },
 "nbformat": 4,
 "nbformat_minor": 2
}
