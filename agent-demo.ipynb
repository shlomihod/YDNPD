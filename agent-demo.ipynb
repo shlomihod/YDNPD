{
 "cells": [
  {
   "cell_type": "code",
   "execution_count": null,
   "metadata": {},
   "outputs": [],
   "source": [
    "import weave\n",
    "import pandas as pd\n",
    "from ydata_profiling import ProfileReport\n",
    "\n",
    "from ydnpd import load_dataset\n",
    "from ydnpd.agent.specifications import SPECIFICATION_V0\n",
    "from ydnpd.agent.utils import produce_mixture_dataset\n",
    "\n",
    "RANDOM_STATE = 42\n",
    "\n",
    "weave.init(\"data_gen_agent\")\n"
   ]
  },
  {
   "cell_type": "code",
   "execution_count": null,
   "metadata": {},
   "outputs": [],
   "source": [
    "PRIVATE_DATASET = \"acs/national\"\n",
    "num_samples = len(load_dataset(PRIVATE_DATASET)[0])\n",
    "\n",
    "LLM_KWARGS = {\"llm_name\": \"gpt-4o-mini\"}\n",
    "\n",
    "# LLM_KWARGS = {\"llm_name\": \"o1-preview\", \n",
    "#               \"llm_temperature\": 1,\n",
    "#               \"llm_max_tokens\": None}"
   ]
  },
  {
   "cell_type": "code",
   "execution_count": null,
   "metadata": {},
   "outputs": [],
   "source": [
    "mixture_df, details = produce_mixture_dataset(PRIVATE_DATASET, SPECIFICATION_V0, num_samples, 2,\n",
    "                                              **LLM_KWARGS)"
   ]
  },
  {
   "cell_type": "code",
   "execution_count": null,
   "metadata": {},
   "outputs": [],
   "source": [
    "# mixture_df.to_csv(\"ABC.csv\")"
   ]
  },
  {
   "cell_type": "code",
   "execution_count": null,
   "metadata": {},
   "outputs": [],
   "source": [
    "(ProfileReport(load_dataset(PRIVATE_DATASET)[0], title=\"Private\")\n",
    " .compare(\n",
    "     ProfileReport(mixture_df, title=\"Agent\")\n",
    " )\n",
    ")"
   ]
  }
 ],
 "metadata": {
  "kernelspec": {
   "display_name": "ydnpd",
   "language": "python",
   "name": "python3"
  },
  "language_info": {
   "codemirror_mode": {
    "name": "ipython",
    "version": 3
   },
   "file_extension": ".py",
   "mimetype": "text/x-python",
   "name": "python",
   "nbconvert_exporter": "python",
   "pygments_lexer": "ipython3",
   "version": "3.10.14"
  }
 },
 "nbformat": 4,
 "nbformat_minor": 2
}
