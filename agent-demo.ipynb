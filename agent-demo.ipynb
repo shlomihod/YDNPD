{
 "cells": [
  {
   "cell_type": "code",
   "execution_count": null,
   "metadata": {},
   "outputs": [],
   "source": [
    "import weave\n",
    "import pandas as pd\n",
    "from ydata_profiling import ProfileReport\n",
    "\n",
    "from ydnpd.agent.core import CasualModelingAgentMachine, LLMSession\n",
    "from ydnpd.agent.specifications import SPECIFICATION_V0\n",
    "from ydnpd.agent.data_config import CENSUS_DATASET_METADATA, OLD_CENSUS_DATASET_METADATA\n",
    "from ydnpd.agent.utils import sample_dataset, metadata_to_pandera_schema\n",
    "\n",
    "RANDOM_STATE = 42\n",
    "\n",
    "weave.init(\"data_gen_agent\")\n",
    "\n",
    "def produce_dataset(num_samples):\n",
    "    try:\n",
    "\n",
    "        llm_sess = LLMSession(\n",
    "            specification=SPECIFICATION_V0,\n",
    "            metadata=CENSUS_DATASET_METADATA)\n",
    "\n",
    "        _ = CasualModelingAgentMachine(llm_sess)\n",
    "\n",
    "        pandera_schema = metadata_to_pandera_schema(CENSUS_DATASET_METADATA[\"schema\"])\n",
    "\n",
    "        df = sample_dataset(llm_sess.context[\"model\"], num_samples, pandera_schema)\n",
    "        \n",
    "        code = llm_sess.context[\"code\"]\n",
    "\n",
    "        error = None\n",
    "\n",
    "    except Exception as e:\n",
    "        df, code, error = None, None, e\n",
    "\n",
    "    return df, code, error\n",
    "\n",
    "\n",
    "def produce_mixture_dataset(num_samples, num_datasets, random_state=RANDOM_STATE):\n",
    "    dfs = []\n",
    "    codes = []\n",
    "    errors = []\n",
    "\n",
    "    while len(dfs) < num_datasets:\n",
    "        print(len(dfs))\n",
    "\n",
    "        df, code, error = produce_dataset(num_samples)\n",
    "        if error is None:\n",
    "            dfs.append(df)\n",
    "            codes.append(code)\n",
    "        else:\n",
    "            errors.append(error)    \n",
    "            print(error)\n",
    "\n",
    "    mixture_df = (pd.concat(dfs)\n",
    "                  .sample(num_samples, replace=False, random_state=random_state)\n",
    "                  .reset_index(drop=True))\n",
    "\n",
    "    return mixture_df, (dfs, codes, errors)"
   ]
  },
  {
   "cell_type": "code",
   "execution_count": null,
   "metadata": {},
   "outputs": [],
   "source": [
    "mixture_df, details = produce_mixture_dataset(23_006, 1)"
   ]
  },
  {
   "cell_type": "code",
   "execution_count": null,
   "metadata": {},
   "outputs": [],
   "source": [
    "# mixture_df.to_csv(\"acs-mix.csv\")"
   ]
  },
  {
   "cell_type": "code",
   "execution_count": null,
   "metadata": {},
   "outputs": [],
   "source": [
    "# import sys\n",
    "# import os\n",
    "# os.chdir(\"..\")\n",
    "from ydnpd import load_dataset\n",
    "national_df = load_dataset(\"acs/national\")[0]"
   ]
  },
  {
   "cell_type": "code",
   "execution_count": null,
   "metadata": {},
   "outputs": [],
   "source": [
    "(ProfileReport(national_df, title=\"National\")\n",
    " .compare(\n",
    "     ProfileReport(mixture_df, title=\"Agent\")\n",
    " )\n",
    ")"
   ]
  }
 ],
 "metadata": {
  "kernelspec": {
   "display_name": "ydnpd",
   "language": "python",
   "name": "python3"
  },
  "language_info": {
   "codemirror_mode": {
    "name": "ipython",
    "version": 3
   },
   "file_extension": ".py",
   "mimetype": "text/x-python",
   "name": "python",
   "nbconvert_exporter": "python",
   "pygments_lexer": "ipython3",
   "version": "3.10.14"
  }
 },
 "nbformat": 4,
 "nbformat_minor": 2
}
