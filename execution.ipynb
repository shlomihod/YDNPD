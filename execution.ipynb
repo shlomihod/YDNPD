{
 "cells": [
  {
   "cell_type": "code",
   "execution_count": null,
   "metadata": {},
   "outputs": [],
   "source": [
    "import itertools as it\n",
    "import os\n",
    "\n",
    "os.environ[\"PRIVBAYES_BIN\"] = \"./ydnpd/synthesis/privbayes\"\n",
    "\n",
    "import ray\n",
    "\n",
    "import ydnpd"
   ]
  },
  {
   "cell_type": "code",
   "execution_count": null,
   "metadata": {},
   "outputs": [],
   "source": [
    "WANDB_GROUP = \"test\""
   ]
  },
  {
   "cell_type": "markdown",
   "metadata": {},
   "source": [
    "## Tasks"
   ]
  },
  {
   "cell_type": "code",
   "execution_count": null,
   "metadata": {},
   "outputs": [],
   "source": [
    "total_task_size = 0\n",
    "for idx, task in enumerate(ydnpd.span_hparam_tasks(), start=1):\n",
    "    print(f\"{idx:2} {task}\")\n",
    "    total_task_size += task.size()\n",
    "print(f\"\\nTotal task size: {total_task_size}\")"
   ]
  },
  {
   "cell_type": "markdown",
   "metadata": {},
   "source": [
    "## Execute Tasks"
   ]
  },
  {
   "cell_type": "code",
   "execution_count": null,
   "metadata": {},
   "outputs": [],
   "source": [
    "ray.init(num_cpus=12)"
   ]
  },
  {
   "cell_type": "code",
   "execution_count": null,
   "metadata": {},
   "outputs": [],
   "source": [
    "hparams_tasks = ydnpd.span_hparam_ray_tasks(\n",
    "    with_wandb=True, wandb_kwargs={\"group\": WANDB_GROUP}\n",
    ")\n",
    "hparam_tasks_results = ray.get(hparams_tasks)\n",
    "hparam_tasks_results = list(it.chain(*hparam_tasks_results))"
   ]
  }
 ],
 "metadata": {
  "kernelspec": {
   "display_name": "sdnist",
   "language": "python",
   "name": "python3"
  },
  "language_info": {
   "codemirror_mode": {
    "name": "ipython",
    "version": 3
   },
   "file_extension": ".py",
   "mimetype": "text/x-python",
   "name": "python",
   "nbconvert_exporter": "python",
   "pygments_lexer": "ipython3",
   "version": "3.10.14"
  }
 },
 "nbformat": 4,
 "nbformat_minor": 2
}
